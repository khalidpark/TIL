{
  "nbformat": 4,
  "nbformat_minor": 0,
  "metadata": {
    "colab": {
      "name": "10minutes_pandas.ipynb",
      "provenance": [],
      "collapsed_sections": [],
      "authorship_tag": "ABX9TyMcxJEAIGcBgKarzK2LDKw0",
      "include_colab_link": true
    },
    "kernelspec": {
      "name": "python3",
      "display_name": "Python 3"
    }
  },
  "cells": [
    {
      "cell_type": "markdown",
      "metadata": {
        "id": "view-in-github",
        "colab_type": "text"
      },
      "source": [
        "<a href=\"https://colab.research.google.com/github/khalidpark/TIL-and-TIW/blob/main/10minutes_pandas/10minutes_pandas.ipynb\" target=\"_parent\"><img src=\"https://colab.research.google.com/assets/colab-badge.svg\" alt=\"Open In Colab\"/></a>"
      ]
    },
    {
      "cell_type": "code",
      "metadata": {
        "id": "1XnCIOJgbwOI"
      },
      "source": [
        "import numpy as np\r\n",
        "import pandas as pd"
      ],
      "execution_count": 1,
      "outputs": []
    },
    {
      "cell_type": "markdown",
      "metadata": {
        "id": "o38YOPpCqDZL"
      },
      "source": [
        "# Object creation\r\n"
      ]
    },
    {
      "cell_type": "code",
      "metadata": {
        "id": "R-u-htkfc5pz"
      },
      "source": [
        "s = pd.Series([1, 3, 5, np.nan, 6, 8])"
      ],
      "execution_count": 2,
      "outputs": []
    },
    {
      "cell_type": "code",
      "metadata": {
        "colab": {
          "base_uri": "https://localhost:8080/"
        },
        "id": "-AdXqK6Zc7EK",
        "outputId": "076ad343-ce63-4373-fc03-db5ee1bdad31"
      },
      "source": [
        "s"
      ],
      "execution_count": 3,
      "outputs": [
        {
          "output_type": "execute_result",
          "data": {
            "text/plain": [
              "0    1.0\n",
              "1    3.0\n",
              "2    5.0\n",
              "3    NaN\n",
              "4    6.0\n",
              "5    8.0\n",
              "dtype: float64"
            ]
          },
          "metadata": {
            "tags": []
          },
          "execution_count": 3
        }
      ]
    },
    {
      "cell_type": "code",
      "metadata": {
        "id": "GTJ2EScZc-jm"
      },
      "source": [
        "dates = pd.date_range(\"20200303\", periods=6)"
      ],
      "execution_count": 4,
      "outputs": []
    },
    {
      "cell_type": "code",
      "metadata": {
        "colab": {
          "base_uri": "https://localhost:8080/"
        },
        "id": "aJOl07VLc_7S",
        "outputId": "ca953a10-fd56-46c8-913e-6cc872172952"
      },
      "source": [
        "dates"
      ],
      "execution_count": 5,
      "outputs": [
        {
          "output_type": "execute_result",
          "data": {
            "text/plain": [
              "DatetimeIndex(['2020-03-03', '2020-03-04', '2020-03-05', '2020-03-06',\n",
              "               '2020-03-07', '2020-03-08'],\n",
              "              dtype='datetime64[ns]', freq='D')"
            ]
          },
          "metadata": {
            "tags": []
          },
          "execution_count": 5
        }
      ]
    },
    {
      "cell_type": "code",
      "metadata": {
        "id": "Djncc5WfdFF1"
      },
      "source": [
        "df = pd.DataFrame(np.random.randn(6, 4), index=dates, columns=list(\"ABCD\"))"
      ],
      "execution_count": 6,
      "outputs": []
    },
    {
      "cell_type": "code",
      "metadata": {
        "colab": {
          "base_uri": "https://localhost:8080/",
          "height": 235
        },
        "id": "9o_AXQHMdHgE",
        "outputId": "4dce79ed-4696-42ab-e766-8d39f9914001"
      },
      "source": [
        "df"
      ],
      "execution_count": 7,
      "outputs": [
        {
          "output_type": "execute_result",
          "data": {
            "text/html": [
              "<div>\n",
              "<style scoped>\n",
              "    .dataframe tbody tr th:only-of-type {\n",
              "        vertical-align: middle;\n",
              "    }\n",
              "\n",
              "    .dataframe tbody tr th {\n",
              "        vertical-align: top;\n",
              "    }\n",
              "\n",
              "    .dataframe thead th {\n",
              "        text-align: right;\n",
              "    }\n",
              "</style>\n",
              "<table border=\"1\" class=\"dataframe\">\n",
              "  <thead>\n",
              "    <tr style=\"text-align: right;\">\n",
              "      <th></th>\n",
              "      <th>A</th>\n",
              "      <th>B</th>\n",
              "      <th>C</th>\n",
              "      <th>D</th>\n",
              "    </tr>\n",
              "  </thead>\n",
              "  <tbody>\n",
              "    <tr>\n",
              "      <th>2020-03-03</th>\n",
              "      <td>2.313483</td>\n",
              "      <td>0.612654</td>\n",
              "      <td>0.738314</td>\n",
              "      <td>-2.478506</td>\n",
              "    </tr>\n",
              "    <tr>\n",
              "      <th>2020-03-04</th>\n",
              "      <td>-0.198992</td>\n",
              "      <td>-0.523496</td>\n",
              "      <td>0.412452</td>\n",
              "      <td>1.395308</td>\n",
              "    </tr>\n",
              "    <tr>\n",
              "      <th>2020-03-05</th>\n",
              "      <td>-0.790158</td>\n",
              "      <td>0.126606</td>\n",
              "      <td>-0.288890</td>\n",
              "      <td>-0.164961</td>\n",
              "    </tr>\n",
              "    <tr>\n",
              "      <th>2020-03-06</th>\n",
              "      <td>1.225168</td>\n",
              "      <td>-1.774296</td>\n",
              "      <td>-0.387905</td>\n",
              "      <td>-1.110618</td>\n",
              "    </tr>\n",
              "    <tr>\n",
              "      <th>2020-03-07</th>\n",
              "      <td>1.305717</td>\n",
              "      <td>1.346524</td>\n",
              "      <td>2.350247</td>\n",
              "      <td>-0.557090</td>\n",
              "    </tr>\n",
              "    <tr>\n",
              "      <th>2020-03-08</th>\n",
              "      <td>1.595868</td>\n",
              "      <td>-0.755626</td>\n",
              "      <td>-1.557456</td>\n",
              "      <td>-0.218087</td>\n",
              "    </tr>\n",
              "  </tbody>\n",
              "</table>\n",
              "</div>"
            ],
            "text/plain": [
              "                   A         B         C         D\n",
              "2020-03-03  2.313483  0.612654  0.738314 -2.478506\n",
              "2020-03-04 -0.198992 -0.523496  0.412452  1.395308\n",
              "2020-03-05 -0.790158  0.126606 -0.288890 -0.164961\n",
              "2020-03-06  1.225168 -1.774296 -0.387905 -1.110618\n",
              "2020-03-07  1.305717  1.346524  2.350247 -0.557090\n",
              "2020-03-08  1.595868 -0.755626 -1.557456 -0.218087"
            ]
          },
          "metadata": {
            "tags": []
          },
          "execution_count": 7
        }
      ]
    },
    {
      "cell_type": "code",
      "metadata": {
        "id": "xJQt6jfvdKgd"
      },
      "source": [
        "#데이터프레임 데이터 생성하는 여러가지 방법\r\n",
        "\r\n",
        "\r\n",
        "df2 = pd.DataFrame(\r\n",
        "        {\r\n",
        "            \"A\": 1.0,\r\n",
        "            \"B\": pd.Timestamp(\"20130102\"),\r\n",
        "            \"C\": pd.Series(1, index=list(range(4)), dtype=\"float32\"),\r\n",
        "            \"D\": np.array([3] * 4, dtype=\"int32\"),\r\n",
        "            \"E\": pd.Categorical([\"test\", \"train\", \"test\", \"train\"]),\r\n",
        "            \"F\": \"foo\",\r\n",
        "        }\r\n",
        "    )"
      ],
      "execution_count": 8,
      "outputs": []
    },
    {
      "cell_type": "code",
      "metadata": {
        "colab": {
          "base_uri": "https://localhost:8080/",
          "height": 173
        },
        "id": "MfpmAPN3dVyB",
        "outputId": "5a4194cb-f7f4-46aa-d867-3a1a3e7696f8"
      },
      "source": [
        " df2"
      ],
      "execution_count": 9,
      "outputs": [
        {
          "output_type": "execute_result",
          "data": {
            "text/html": [
              "<div>\n",
              "<style scoped>\n",
              "    .dataframe tbody tr th:only-of-type {\n",
              "        vertical-align: middle;\n",
              "    }\n",
              "\n",
              "    .dataframe tbody tr th {\n",
              "        vertical-align: top;\n",
              "    }\n",
              "\n",
              "    .dataframe thead th {\n",
              "        text-align: right;\n",
              "    }\n",
              "</style>\n",
              "<table border=\"1\" class=\"dataframe\">\n",
              "  <thead>\n",
              "    <tr style=\"text-align: right;\">\n",
              "      <th></th>\n",
              "      <th>A</th>\n",
              "      <th>B</th>\n",
              "      <th>C</th>\n",
              "      <th>D</th>\n",
              "      <th>E</th>\n",
              "      <th>F</th>\n",
              "    </tr>\n",
              "  </thead>\n",
              "  <tbody>\n",
              "    <tr>\n",
              "      <th>0</th>\n",
              "      <td>1.0</td>\n",
              "      <td>2013-01-02</td>\n",
              "      <td>1.0</td>\n",
              "      <td>3</td>\n",
              "      <td>test</td>\n",
              "      <td>foo</td>\n",
              "    </tr>\n",
              "    <tr>\n",
              "      <th>1</th>\n",
              "      <td>1.0</td>\n",
              "      <td>2013-01-02</td>\n",
              "      <td>1.0</td>\n",
              "      <td>3</td>\n",
              "      <td>train</td>\n",
              "      <td>foo</td>\n",
              "    </tr>\n",
              "    <tr>\n",
              "      <th>2</th>\n",
              "      <td>1.0</td>\n",
              "      <td>2013-01-02</td>\n",
              "      <td>1.0</td>\n",
              "      <td>3</td>\n",
              "      <td>test</td>\n",
              "      <td>foo</td>\n",
              "    </tr>\n",
              "    <tr>\n",
              "      <th>3</th>\n",
              "      <td>1.0</td>\n",
              "      <td>2013-01-02</td>\n",
              "      <td>1.0</td>\n",
              "      <td>3</td>\n",
              "      <td>train</td>\n",
              "      <td>foo</td>\n",
              "    </tr>\n",
              "  </tbody>\n",
              "</table>\n",
              "</div>"
            ],
            "text/plain": [
              "     A          B    C  D      E    F\n",
              "0  1.0 2013-01-02  1.0  3   test  foo\n",
              "1  1.0 2013-01-02  1.0  3  train  foo\n",
              "2  1.0 2013-01-02  1.0  3   test  foo\n",
              "3  1.0 2013-01-02  1.0  3  train  foo"
            ]
          },
          "metadata": {
            "tags": []
          },
          "execution_count": 9
        }
      ]
    },
    {
      "cell_type": "code",
      "metadata": {
        "colab": {
          "base_uri": "https://localhost:8080/"
        },
        "id": "cS56Y44BdfiQ",
        "outputId": "32dc00ae-a899-4ca0-e749-cef650d63a93"
      },
      "source": [
        "#dtypes 확인하고싶을때\r\n",
        "df2.dtypes"
      ],
      "execution_count": 10,
      "outputs": [
        {
          "output_type": "execute_result",
          "data": {
            "text/plain": [
              "A           float64\n",
              "B    datetime64[ns]\n",
              "C           float32\n",
              "D             int32\n",
              "E          category\n",
              "F            object\n",
              "dtype: object"
            ]
          },
          "metadata": {
            "tags": []
          },
          "execution_count": 10
        }
      ]
    },
    {
      "cell_type": "code",
      "metadata": {
        "colab": {
          "base_uri": "https://localhost:8080/"
        },
        "id": "C0K4Nj7Rdjnw",
        "outputId": "5e3b54cd-265f-4afd-836f-44fc3ef36efa"
      },
      "source": [
        "df2.A"
      ],
      "execution_count": 11,
      "outputs": [
        {
          "output_type": "execute_result",
          "data": {
            "text/plain": [
              "0    1.0\n",
              "1    1.0\n",
              "2    1.0\n",
              "3    1.0\n",
              "Name: A, dtype: float64"
            ]
          },
          "metadata": {
            "tags": []
          },
          "execution_count": 11
        }
      ]
    },
    {
      "cell_type": "markdown",
      "metadata": {
        "id": "tY9b4y86qHp8"
      },
      "source": [
        "# Viewing data\r\n"
      ]
    },
    {
      "cell_type": "code",
      "metadata": {
        "colab": {
          "base_uri": "https://localhost:8080/",
          "height": 204
        },
        "id": "DrRQsAU0drlm",
        "outputId": "bff26afc-8693-4f78-857c-8dd40d5a693e"
      },
      "source": [
        "df.head()"
      ],
      "execution_count": 12,
      "outputs": [
        {
          "output_type": "execute_result",
          "data": {
            "text/html": [
              "<div>\n",
              "<style scoped>\n",
              "    .dataframe tbody tr th:only-of-type {\n",
              "        vertical-align: middle;\n",
              "    }\n",
              "\n",
              "    .dataframe tbody tr th {\n",
              "        vertical-align: top;\n",
              "    }\n",
              "\n",
              "    .dataframe thead th {\n",
              "        text-align: right;\n",
              "    }\n",
              "</style>\n",
              "<table border=\"1\" class=\"dataframe\">\n",
              "  <thead>\n",
              "    <tr style=\"text-align: right;\">\n",
              "      <th></th>\n",
              "      <th>A</th>\n",
              "      <th>B</th>\n",
              "      <th>C</th>\n",
              "      <th>D</th>\n",
              "    </tr>\n",
              "  </thead>\n",
              "  <tbody>\n",
              "    <tr>\n",
              "      <th>2020-03-03</th>\n",
              "      <td>2.313483</td>\n",
              "      <td>0.612654</td>\n",
              "      <td>0.738314</td>\n",
              "      <td>-2.478506</td>\n",
              "    </tr>\n",
              "    <tr>\n",
              "      <th>2020-03-04</th>\n",
              "      <td>-0.198992</td>\n",
              "      <td>-0.523496</td>\n",
              "      <td>0.412452</td>\n",
              "      <td>1.395308</td>\n",
              "    </tr>\n",
              "    <tr>\n",
              "      <th>2020-03-05</th>\n",
              "      <td>-0.790158</td>\n",
              "      <td>0.126606</td>\n",
              "      <td>-0.288890</td>\n",
              "      <td>-0.164961</td>\n",
              "    </tr>\n",
              "    <tr>\n",
              "      <th>2020-03-06</th>\n",
              "      <td>1.225168</td>\n",
              "      <td>-1.774296</td>\n",
              "      <td>-0.387905</td>\n",
              "      <td>-1.110618</td>\n",
              "    </tr>\n",
              "    <tr>\n",
              "      <th>2020-03-07</th>\n",
              "      <td>1.305717</td>\n",
              "      <td>1.346524</td>\n",
              "      <td>2.350247</td>\n",
              "      <td>-0.557090</td>\n",
              "    </tr>\n",
              "  </tbody>\n",
              "</table>\n",
              "</div>"
            ],
            "text/plain": [
              "                   A         B         C         D\n",
              "2020-03-03  2.313483  0.612654  0.738314 -2.478506\n",
              "2020-03-04 -0.198992 -0.523496  0.412452  1.395308\n",
              "2020-03-05 -0.790158  0.126606 -0.288890 -0.164961\n",
              "2020-03-06  1.225168 -1.774296 -0.387905 -1.110618\n",
              "2020-03-07  1.305717  1.346524  2.350247 -0.557090"
            ]
          },
          "metadata": {
            "tags": []
          },
          "execution_count": 12
        }
      ]
    },
    {
      "cell_type": "code",
      "metadata": {
        "colab": {
          "base_uri": "https://localhost:8080/",
          "height": 142
        },
        "id": "FM3_9bmzdteX",
        "outputId": "55828ff0-8c80-4fac-ba92-790e28c8eb95"
      },
      "source": [
        "#뒤쪽보고싶을때\r\n",
        "df.tail(3)"
      ],
      "execution_count": 13,
      "outputs": [
        {
          "output_type": "execute_result",
          "data": {
            "text/html": [
              "<div>\n",
              "<style scoped>\n",
              "    .dataframe tbody tr th:only-of-type {\n",
              "        vertical-align: middle;\n",
              "    }\n",
              "\n",
              "    .dataframe tbody tr th {\n",
              "        vertical-align: top;\n",
              "    }\n",
              "\n",
              "    .dataframe thead th {\n",
              "        text-align: right;\n",
              "    }\n",
              "</style>\n",
              "<table border=\"1\" class=\"dataframe\">\n",
              "  <thead>\n",
              "    <tr style=\"text-align: right;\">\n",
              "      <th></th>\n",
              "      <th>A</th>\n",
              "      <th>B</th>\n",
              "      <th>C</th>\n",
              "      <th>D</th>\n",
              "    </tr>\n",
              "  </thead>\n",
              "  <tbody>\n",
              "    <tr>\n",
              "      <th>2020-03-06</th>\n",
              "      <td>1.225168</td>\n",
              "      <td>-1.774296</td>\n",
              "      <td>-0.387905</td>\n",
              "      <td>-1.110618</td>\n",
              "    </tr>\n",
              "    <tr>\n",
              "      <th>2020-03-07</th>\n",
              "      <td>1.305717</td>\n",
              "      <td>1.346524</td>\n",
              "      <td>2.350247</td>\n",
              "      <td>-0.557090</td>\n",
              "    </tr>\n",
              "    <tr>\n",
              "      <th>2020-03-08</th>\n",
              "      <td>1.595868</td>\n",
              "      <td>-0.755626</td>\n",
              "      <td>-1.557456</td>\n",
              "      <td>-0.218087</td>\n",
              "    </tr>\n",
              "  </tbody>\n",
              "</table>\n",
              "</div>"
            ],
            "text/plain": [
              "                   A         B         C         D\n",
              "2020-03-06  1.225168 -1.774296 -0.387905 -1.110618\n",
              "2020-03-07  1.305717  1.346524  2.350247 -0.557090\n",
              "2020-03-08  1.595868 -0.755626 -1.557456 -0.218087"
            ]
          },
          "metadata": {
            "tags": []
          },
          "execution_count": 13
        }
      ]
    },
    {
      "cell_type": "code",
      "metadata": {
        "colab": {
          "base_uri": "https://localhost:8080/"
        },
        "id": "7Qb4pmeqdxEF",
        "outputId": "0130c212-f99a-4354-88e2-6706f7e5a0fc"
      },
      "source": [
        "df.index"
      ],
      "execution_count": 14,
      "outputs": [
        {
          "output_type": "execute_result",
          "data": {
            "text/plain": [
              "DatetimeIndex(['2020-03-03', '2020-03-04', '2020-03-05', '2020-03-06',\n",
              "               '2020-03-07', '2020-03-08'],\n",
              "              dtype='datetime64[ns]', freq='D')"
            ]
          },
          "metadata": {
            "tags": []
          },
          "execution_count": 14
        }
      ]
    },
    {
      "cell_type": "code",
      "metadata": {
        "colab": {
          "base_uri": "https://localhost:8080/"
        },
        "id": "hD0IsLY-d1qN",
        "outputId": "82f45e4e-b6c4-4a51-e96f-501db39deacc"
      },
      "source": [
        "df.columns"
      ],
      "execution_count": 15,
      "outputs": [
        {
          "output_type": "execute_result",
          "data": {
            "text/plain": [
              "Index(['A', 'B', 'C', 'D'], dtype='object')"
            ]
          },
          "metadata": {
            "tags": []
          },
          "execution_count": 15
        }
      ]
    },
    {
      "cell_type": "code",
      "metadata": {
        "colab": {
          "base_uri": "https://localhost:8080/"
        },
        "id": "ztmzEsOcd4Ip",
        "outputId": "738a8e68-2764-4c06-ba15-751deaf4ff3f"
      },
      "source": [
        "df.to_numpy()"
      ],
      "execution_count": 16,
      "outputs": [
        {
          "output_type": "execute_result",
          "data": {
            "text/plain": [
              "array([[ 2.31348348,  0.61265373,  0.73831359, -2.47850649],\n",
              "       [-0.19899162, -0.52349563,  0.41245199,  1.39530799],\n",
              "       [-0.79015763,  0.12660589, -0.28888975, -0.16496102],\n",
              "       [ 1.22516826, -1.77429648, -0.38790545, -1.11061811],\n",
              "       [ 1.30571659,  1.34652416,  2.35024734, -0.55709003],\n",
              "       [ 1.59586802, -0.75562649, -1.55745557, -0.21808715]])"
            ]
          },
          "metadata": {
            "tags": []
          },
          "execution_count": 16
        }
      ]
    },
    {
      "cell_type": "code",
      "metadata": {
        "colab": {
          "base_uri": "https://localhost:8080/"
        },
        "id": "M0i1m1Obd6Vy",
        "outputId": "346f749f-4704-43c9-bb3e-118a5cb41875"
      },
      "source": [
        "df2.to_numpy()"
      ],
      "execution_count": 17,
      "outputs": [
        {
          "output_type": "execute_result",
          "data": {
            "text/plain": [
              "array([[1.0, Timestamp('2013-01-02 00:00:00'), 1.0, 3, 'test', 'foo'],\n",
              "       [1.0, Timestamp('2013-01-02 00:00:00'), 1.0, 3, 'train', 'foo'],\n",
              "       [1.0, Timestamp('2013-01-02 00:00:00'), 1.0, 3, 'test', 'foo'],\n",
              "       [1.0, Timestamp('2013-01-02 00:00:00'), 1.0, 3, 'train', 'foo']],\n",
              "      dtype=object)"
            ]
          },
          "metadata": {
            "tags": []
          },
          "execution_count": 17
        }
      ]
    },
    {
      "cell_type": "code",
      "metadata": {
        "colab": {
          "base_uri": "https://localhost:8080/",
          "height": 297
        },
        "id": "GOb9Eup-d8ck",
        "outputId": "853a2201-fb83-49ca-d609-da919188879e"
      },
      "source": [
        "#개요\r\n",
        "df.describe()"
      ],
      "execution_count": 18,
      "outputs": [
        {
          "output_type": "execute_result",
          "data": {
            "text/html": [
              "<div>\n",
              "<style scoped>\n",
              "    .dataframe tbody tr th:only-of-type {\n",
              "        vertical-align: middle;\n",
              "    }\n",
              "\n",
              "    .dataframe tbody tr th {\n",
              "        vertical-align: top;\n",
              "    }\n",
              "\n",
              "    .dataframe thead th {\n",
              "        text-align: right;\n",
              "    }\n",
              "</style>\n",
              "<table border=\"1\" class=\"dataframe\">\n",
              "  <thead>\n",
              "    <tr style=\"text-align: right;\">\n",
              "      <th></th>\n",
              "      <th>A</th>\n",
              "      <th>B</th>\n",
              "      <th>C</th>\n",
              "      <th>D</th>\n",
              "    </tr>\n",
              "  </thead>\n",
              "  <tbody>\n",
              "    <tr>\n",
              "      <th>count</th>\n",
              "      <td>6.000000</td>\n",
              "      <td>6.000000</td>\n",
              "      <td>6.000000</td>\n",
              "      <td>6.000000</td>\n",
              "    </tr>\n",
              "    <tr>\n",
              "      <th>mean</th>\n",
              "      <td>0.908515</td>\n",
              "      <td>-0.161272</td>\n",
              "      <td>0.211127</td>\n",
              "      <td>-0.522326</td>\n",
              "    </tr>\n",
              "    <tr>\n",
              "      <th>std</th>\n",
              "      <td>1.167603</td>\n",
              "      <td>1.099236</td>\n",
              "      <td>1.313852</td>\n",
              "      <td>1.270553</td>\n",
              "    </tr>\n",
              "    <tr>\n",
              "      <th>min</th>\n",
              "      <td>-0.790158</td>\n",
              "      <td>-1.774296</td>\n",
              "      <td>-1.557456</td>\n",
              "      <td>-2.478506</td>\n",
              "    </tr>\n",
              "    <tr>\n",
              "      <th>25%</th>\n",
              "      <td>0.157048</td>\n",
              "      <td>-0.697594</td>\n",
              "      <td>-0.363152</td>\n",
              "      <td>-0.972236</td>\n",
              "    </tr>\n",
              "    <tr>\n",
              "      <th>50%</th>\n",
              "      <td>1.265442</td>\n",
              "      <td>-0.198445</td>\n",
              "      <td>0.061781</td>\n",
              "      <td>-0.387589</td>\n",
              "    </tr>\n",
              "    <tr>\n",
              "      <th>75%</th>\n",
              "      <td>1.523330</td>\n",
              "      <td>0.491142</td>\n",
              "      <td>0.656848</td>\n",
              "      <td>-0.178243</td>\n",
              "    </tr>\n",
              "    <tr>\n",
              "      <th>max</th>\n",
              "      <td>2.313483</td>\n",
              "      <td>1.346524</td>\n",
              "      <td>2.350247</td>\n",
              "      <td>1.395308</td>\n",
              "    </tr>\n",
              "  </tbody>\n",
              "</table>\n",
              "</div>"
            ],
            "text/plain": [
              "              A         B         C         D\n",
              "count  6.000000  6.000000  6.000000  6.000000\n",
              "mean   0.908515 -0.161272  0.211127 -0.522326\n",
              "std    1.167603  1.099236  1.313852  1.270553\n",
              "min   -0.790158 -1.774296 -1.557456 -2.478506\n",
              "25%    0.157048 -0.697594 -0.363152 -0.972236\n",
              "50%    1.265442 -0.198445  0.061781 -0.387589\n",
              "75%    1.523330  0.491142  0.656848 -0.178243\n",
              "max    2.313483  1.346524  2.350247  1.395308"
            ]
          },
          "metadata": {
            "tags": []
          },
          "execution_count": 18
        }
      ]
    },
    {
      "cell_type": "code",
      "metadata": {
        "colab": {
          "base_uri": "https://localhost:8080/",
          "height": 173
        },
        "id": "ieg34uSBd_VE",
        "outputId": "edc9b2b6-11b0-4eb5-d469-87b3412f4440"
      },
      "source": [
        "#전환\r\n",
        "df.T"
      ],
      "execution_count": 19,
      "outputs": [
        {
          "output_type": "execute_result",
          "data": {
            "text/html": [
              "<div>\n",
              "<style scoped>\n",
              "    .dataframe tbody tr th:only-of-type {\n",
              "        vertical-align: middle;\n",
              "    }\n",
              "\n",
              "    .dataframe tbody tr th {\n",
              "        vertical-align: top;\n",
              "    }\n",
              "\n",
              "    .dataframe thead th {\n",
              "        text-align: right;\n",
              "    }\n",
              "</style>\n",
              "<table border=\"1\" class=\"dataframe\">\n",
              "  <thead>\n",
              "    <tr style=\"text-align: right;\">\n",
              "      <th></th>\n",
              "      <th>2020-03-03</th>\n",
              "      <th>2020-03-04</th>\n",
              "      <th>2020-03-05</th>\n",
              "      <th>2020-03-06</th>\n",
              "      <th>2020-03-07</th>\n",
              "      <th>2020-03-08</th>\n",
              "    </tr>\n",
              "  </thead>\n",
              "  <tbody>\n",
              "    <tr>\n",
              "      <th>A</th>\n",
              "      <td>2.313483</td>\n",
              "      <td>-0.198992</td>\n",
              "      <td>-0.790158</td>\n",
              "      <td>1.225168</td>\n",
              "      <td>1.305717</td>\n",
              "      <td>1.595868</td>\n",
              "    </tr>\n",
              "    <tr>\n",
              "      <th>B</th>\n",
              "      <td>0.612654</td>\n",
              "      <td>-0.523496</td>\n",
              "      <td>0.126606</td>\n",
              "      <td>-1.774296</td>\n",
              "      <td>1.346524</td>\n",
              "      <td>-0.755626</td>\n",
              "    </tr>\n",
              "    <tr>\n",
              "      <th>C</th>\n",
              "      <td>0.738314</td>\n",
              "      <td>0.412452</td>\n",
              "      <td>-0.288890</td>\n",
              "      <td>-0.387905</td>\n",
              "      <td>2.350247</td>\n",
              "      <td>-1.557456</td>\n",
              "    </tr>\n",
              "    <tr>\n",
              "      <th>D</th>\n",
              "      <td>-2.478506</td>\n",
              "      <td>1.395308</td>\n",
              "      <td>-0.164961</td>\n",
              "      <td>-1.110618</td>\n",
              "      <td>-0.557090</td>\n",
              "      <td>-0.218087</td>\n",
              "    </tr>\n",
              "  </tbody>\n",
              "</table>\n",
              "</div>"
            ],
            "text/plain": [
              "   2020-03-03  2020-03-04  2020-03-05  2020-03-06  2020-03-07  2020-03-08\n",
              "A    2.313483   -0.198992   -0.790158    1.225168    1.305717    1.595868\n",
              "B    0.612654   -0.523496    0.126606   -1.774296    1.346524   -0.755626\n",
              "C    0.738314    0.412452   -0.288890   -0.387905    2.350247   -1.557456\n",
              "D   -2.478506    1.395308   -0.164961   -1.110618   -0.557090   -0.218087"
            ]
          },
          "metadata": {
            "tags": []
          },
          "execution_count": 19
        }
      ]
    },
    {
      "cell_type": "code",
      "metadata": {
        "colab": {
          "base_uri": "https://localhost:8080/",
          "height": 235
        },
        "id": "nJnScltMpWV7",
        "outputId": "6244528a-ede7-44fe-caa3-05d52022f967"
      },
      "source": [
        "#index sort\r\n",
        "df.sort_index(axis=1, ascending=False)"
      ],
      "execution_count": 20,
      "outputs": [
        {
          "output_type": "execute_result",
          "data": {
            "text/html": [
              "<div>\n",
              "<style scoped>\n",
              "    .dataframe tbody tr th:only-of-type {\n",
              "        vertical-align: middle;\n",
              "    }\n",
              "\n",
              "    .dataframe tbody tr th {\n",
              "        vertical-align: top;\n",
              "    }\n",
              "\n",
              "    .dataframe thead th {\n",
              "        text-align: right;\n",
              "    }\n",
              "</style>\n",
              "<table border=\"1\" class=\"dataframe\">\n",
              "  <thead>\n",
              "    <tr style=\"text-align: right;\">\n",
              "      <th></th>\n",
              "      <th>D</th>\n",
              "      <th>C</th>\n",
              "      <th>B</th>\n",
              "      <th>A</th>\n",
              "    </tr>\n",
              "  </thead>\n",
              "  <tbody>\n",
              "    <tr>\n",
              "      <th>2020-03-03</th>\n",
              "      <td>-2.478506</td>\n",
              "      <td>0.738314</td>\n",
              "      <td>0.612654</td>\n",
              "      <td>2.313483</td>\n",
              "    </tr>\n",
              "    <tr>\n",
              "      <th>2020-03-04</th>\n",
              "      <td>1.395308</td>\n",
              "      <td>0.412452</td>\n",
              "      <td>-0.523496</td>\n",
              "      <td>-0.198992</td>\n",
              "    </tr>\n",
              "    <tr>\n",
              "      <th>2020-03-05</th>\n",
              "      <td>-0.164961</td>\n",
              "      <td>-0.288890</td>\n",
              "      <td>0.126606</td>\n",
              "      <td>-0.790158</td>\n",
              "    </tr>\n",
              "    <tr>\n",
              "      <th>2020-03-06</th>\n",
              "      <td>-1.110618</td>\n",
              "      <td>-0.387905</td>\n",
              "      <td>-1.774296</td>\n",
              "      <td>1.225168</td>\n",
              "    </tr>\n",
              "    <tr>\n",
              "      <th>2020-03-07</th>\n",
              "      <td>-0.557090</td>\n",
              "      <td>2.350247</td>\n",
              "      <td>1.346524</td>\n",
              "      <td>1.305717</td>\n",
              "    </tr>\n",
              "    <tr>\n",
              "      <th>2020-03-08</th>\n",
              "      <td>-0.218087</td>\n",
              "      <td>-1.557456</td>\n",
              "      <td>-0.755626</td>\n",
              "      <td>1.595868</td>\n",
              "    </tr>\n",
              "  </tbody>\n",
              "</table>\n",
              "</div>"
            ],
            "text/plain": [
              "                   D         C         B         A\n",
              "2020-03-03 -2.478506  0.738314  0.612654  2.313483\n",
              "2020-03-04  1.395308  0.412452 -0.523496 -0.198992\n",
              "2020-03-05 -0.164961 -0.288890  0.126606 -0.790158\n",
              "2020-03-06 -1.110618 -0.387905 -1.774296  1.225168\n",
              "2020-03-07 -0.557090  2.350247  1.346524  1.305717\n",
              "2020-03-08 -0.218087 -1.557456 -0.755626  1.595868"
            ]
          },
          "metadata": {
            "tags": []
          },
          "execution_count": 20
        }
      ]
    },
    {
      "cell_type": "code",
      "metadata": {
        "colab": {
          "base_uri": "https://localhost:8080/",
          "height": 235
        },
        "id": "q-fgoURmpeNU",
        "outputId": "859c4d6b-c0c5-464d-bc52-f0bc0d73e9e5"
      },
      "source": [
        "df.sort_index(axis=1, ascending=False)"
      ],
      "execution_count": 22,
      "outputs": [
        {
          "output_type": "execute_result",
          "data": {
            "text/html": [
              "<div>\n",
              "<style scoped>\n",
              "    .dataframe tbody tr th:only-of-type {\n",
              "        vertical-align: middle;\n",
              "    }\n",
              "\n",
              "    .dataframe tbody tr th {\n",
              "        vertical-align: top;\n",
              "    }\n",
              "\n",
              "    .dataframe thead th {\n",
              "        text-align: right;\n",
              "    }\n",
              "</style>\n",
              "<table border=\"1\" class=\"dataframe\">\n",
              "  <thead>\n",
              "    <tr style=\"text-align: right;\">\n",
              "      <th></th>\n",
              "      <th>A</th>\n",
              "      <th>B</th>\n",
              "      <th>C</th>\n",
              "      <th>D</th>\n",
              "    </tr>\n",
              "  </thead>\n",
              "  <tbody>\n",
              "    <tr>\n",
              "      <th>2020-03-03</th>\n",
              "      <td>2.313483</td>\n",
              "      <td>0.612654</td>\n",
              "      <td>0.738314</td>\n",
              "      <td>-2.478506</td>\n",
              "    </tr>\n",
              "    <tr>\n",
              "      <th>2020-03-04</th>\n",
              "      <td>-0.198992</td>\n",
              "      <td>-0.523496</td>\n",
              "      <td>0.412452</td>\n",
              "      <td>1.395308</td>\n",
              "    </tr>\n",
              "    <tr>\n",
              "      <th>2020-03-05</th>\n",
              "      <td>-0.790158</td>\n",
              "      <td>0.126606</td>\n",
              "      <td>-0.288890</td>\n",
              "      <td>-0.164961</td>\n",
              "    </tr>\n",
              "    <tr>\n",
              "      <th>2020-03-06</th>\n",
              "      <td>1.225168</td>\n",
              "      <td>-1.774296</td>\n",
              "      <td>-0.387905</td>\n",
              "      <td>-1.110618</td>\n",
              "    </tr>\n",
              "    <tr>\n",
              "      <th>2020-03-07</th>\n",
              "      <td>1.305717</td>\n",
              "      <td>1.346524</td>\n",
              "      <td>2.350247</td>\n",
              "      <td>-0.557090</td>\n",
              "    </tr>\n",
              "    <tr>\n",
              "      <th>2020-03-08</th>\n",
              "      <td>1.595868</td>\n",
              "      <td>-0.755626</td>\n",
              "      <td>-1.557456</td>\n",
              "      <td>-0.218087</td>\n",
              "    </tr>\n",
              "  </tbody>\n",
              "</table>\n",
              "</div>"
            ],
            "text/plain": [
              "                   A         B         C         D\n",
              "2020-03-03  2.313483  0.612654  0.738314 -2.478506\n",
              "2020-03-04 -0.198992 -0.523496  0.412452  1.395308\n",
              "2020-03-05 -0.790158  0.126606 -0.288890 -0.164961\n",
              "2020-03-06  1.225168 -1.774296 -0.387905 -1.110618\n",
              "2020-03-07  1.305717  1.346524  2.350247 -0.557090\n",
              "2020-03-08  1.595868 -0.755626 -1.557456 -0.218087"
            ]
          },
          "metadata": {
            "tags": []
          },
          "execution_count": 22
        }
      ]
    },
    {
      "cell_type": "code",
      "metadata": {
        "colab": {
          "base_uri": "https://localhost:8080/",
          "height": 235
        },
        "id": "5nrdMk5_pbbS",
        "outputId": "1e2929b9-7a20-4065-9ef7-3324f7e565e2"
      },
      "source": [
        "df.sort_index(axis=0, ascending=False)"
      ],
      "execution_count": 21,
      "outputs": [
        {
          "output_type": "execute_result",
          "data": {
            "text/html": [
              "<div>\n",
              "<style scoped>\n",
              "    .dataframe tbody tr th:only-of-type {\n",
              "        vertical-align: middle;\n",
              "    }\n",
              "\n",
              "    .dataframe tbody tr th {\n",
              "        vertical-align: top;\n",
              "    }\n",
              "\n",
              "    .dataframe thead th {\n",
              "        text-align: right;\n",
              "    }\n",
              "</style>\n",
              "<table border=\"1\" class=\"dataframe\">\n",
              "  <thead>\n",
              "    <tr style=\"text-align: right;\">\n",
              "      <th></th>\n",
              "      <th>A</th>\n",
              "      <th>B</th>\n",
              "      <th>C</th>\n",
              "      <th>D</th>\n",
              "    </tr>\n",
              "  </thead>\n",
              "  <tbody>\n",
              "    <tr>\n",
              "      <th>2020-03-08</th>\n",
              "      <td>1.595868</td>\n",
              "      <td>-0.755626</td>\n",
              "      <td>-1.557456</td>\n",
              "      <td>-0.218087</td>\n",
              "    </tr>\n",
              "    <tr>\n",
              "      <th>2020-03-07</th>\n",
              "      <td>1.305717</td>\n",
              "      <td>1.346524</td>\n",
              "      <td>2.350247</td>\n",
              "      <td>-0.557090</td>\n",
              "    </tr>\n",
              "    <tr>\n",
              "      <th>2020-03-06</th>\n",
              "      <td>1.225168</td>\n",
              "      <td>-1.774296</td>\n",
              "      <td>-0.387905</td>\n",
              "      <td>-1.110618</td>\n",
              "    </tr>\n",
              "    <tr>\n",
              "      <th>2020-03-05</th>\n",
              "      <td>-0.790158</td>\n",
              "      <td>0.126606</td>\n",
              "      <td>-0.288890</td>\n",
              "      <td>-0.164961</td>\n",
              "    </tr>\n",
              "    <tr>\n",
              "      <th>2020-03-04</th>\n",
              "      <td>-0.198992</td>\n",
              "      <td>-0.523496</td>\n",
              "      <td>0.412452</td>\n",
              "      <td>1.395308</td>\n",
              "    </tr>\n",
              "    <tr>\n",
              "      <th>2020-03-03</th>\n",
              "      <td>2.313483</td>\n",
              "      <td>0.612654</td>\n",
              "      <td>0.738314</td>\n",
              "      <td>-2.478506</td>\n",
              "    </tr>\n",
              "  </tbody>\n",
              "</table>\n",
              "</div>"
            ],
            "text/plain": [
              "                   A         B         C         D\n",
              "2020-03-08  1.595868 -0.755626 -1.557456 -0.218087\n",
              "2020-03-07  1.305717  1.346524  2.350247 -0.557090\n",
              "2020-03-06  1.225168 -1.774296 -0.387905 -1.110618\n",
              "2020-03-05 -0.790158  0.126606 -0.288890 -0.164961\n",
              "2020-03-04 -0.198992 -0.523496  0.412452  1.395308\n",
              "2020-03-03  2.313483  0.612654  0.738314 -2.478506"
            ]
          },
          "metadata": {
            "tags": []
          },
          "execution_count": 21
        }
      ]
    },
    {
      "cell_type": "code",
      "metadata": {
        "colab": {
          "base_uri": "https://localhost:8080/",
          "height": 235
        },
        "id": "cv2sI_xxpnwT",
        "outputId": "c22dc7b3-b305-4258-d41c-4b3b4a87b625"
      },
      "source": [
        "# B 값을 기준으로 정렬\r\n",
        "# True , 오름차순\r\n",
        "\r\n",
        "df.sort_values(by=\"B\", ascending=True)"
      ],
      "execution_count": 25,
      "outputs": [
        {
          "output_type": "execute_result",
          "data": {
            "text/html": [
              "<div>\n",
              "<style scoped>\n",
              "    .dataframe tbody tr th:only-of-type {\n",
              "        vertical-align: middle;\n",
              "    }\n",
              "\n",
              "    .dataframe tbody tr th {\n",
              "        vertical-align: top;\n",
              "    }\n",
              "\n",
              "    .dataframe thead th {\n",
              "        text-align: right;\n",
              "    }\n",
              "</style>\n",
              "<table border=\"1\" class=\"dataframe\">\n",
              "  <thead>\n",
              "    <tr style=\"text-align: right;\">\n",
              "      <th></th>\n",
              "      <th>A</th>\n",
              "      <th>B</th>\n",
              "      <th>C</th>\n",
              "      <th>D</th>\n",
              "    </tr>\n",
              "  </thead>\n",
              "  <tbody>\n",
              "    <tr>\n",
              "      <th>2020-03-06</th>\n",
              "      <td>1.225168</td>\n",
              "      <td>-1.774296</td>\n",
              "      <td>-0.387905</td>\n",
              "      <td>-1.110618</td>\n",
              "    </tr>\n",
              "    <tr>\n",
              "      <th>2020-03-08</th>\n",
              "      <td>1.595868</td>\n",
              "      <td>-0.755626</td>\n",
              "      <td>-1.557456</td>\n",
              "      <td>-0.218087</td>\n",
              "    </tr>\n",
              "    <tr>\n",
              "      <th>2020-03-04</th>\n",
              "      <td>-0.198992</td>\n",
              "      <td>-0.523496</td>\n",
              "      <td>0.412452</td>\n",
              "      <td>1.395308</td>\n",
              "    </tr>\n",
              "    <tr>\n",
              "      <th>2020-03-05</th>\n",
              "      <td>-0.790158</td>\n",
              "      <td>0.126606</td>\n",
              "      <td>-0.288890</td>\n",
              "      <td>-0.164961</td>\n",
              "    </tr>\n",
              "    <tr>\n",
              "      <th>2020-03-03</th>\n",
              "      <td>2.313483</td>\n",
              "      <td>0.612654</td>\n",
              "      <td>0.738314</td>\n",
              "      <td>-2.478506</td>\n",
              "    </tr>\n",
              "    <tr>\n",
              "      <th>2020-03-07</th>\n",
              "      <td>1.305717</td>\n",
              "      <td>1.346524</td>\n",
              "      <td>2.350247</td>\n",
              "      <td>-0.557090</td>\n",
              "    </tr>\n",
              "  </tbody>\n",
              "</table>\n",
              "</div>"
            ],
            "text/plain": [
              "                   A         B         C         D\n",
              "2020-03-06  1.225168 -1.774296 -0.387905 -1.110618\n",
              "2020-03-08  1.595868 -0.755626 -1.557456 -0.218087\n",
              "2020-03-04 -0.198992 -0.523496  0.412452  1.395308\n",
              "2020-03-05 -0.790158  0.126606 -0.288890 -0.164961\n",
              "2020-03-03  2.313483  0.612654  0.738314 -2.478506\n",
              "2020-03-07  1.305717  1.346524  2.350247 -0.557090"
            ]
          },
          "metadata": {
            "tags": []
          },
          "execution_count": 25
        }
      ]
    },
    {
      "cell_type": "code",
      "metadata": {
        "colab": {
          "base_uri": "https://localhost:8080/",
          "height": 235
        },
        "id": "b4dxV_8UpzET",
        "outputId": "300a50ef-8e05-4a45-e07f-b56158a457fa"
      },
      "source": [
        "# B 값을 기준으로 정렬\r\n",
        "# False , 내림차순\r\n",
        "\r\n",
        "df.sort_values(by=\"B\", ascending=False)"
      ],
      "execution_count": 27,
      "outputs": [
        {
          "output_type": "execute_result",
          "data": {
            "text/html": [
              "<div>\n",
              "<style scoped>\n",
              "    .dataframe tbody tr th:only-of-type {\n",
              "        vertical-align: middle;\n",
              "    }\n",
              "\n",
              "    .dataframe tbody tr th {\n",
              "        vertical-align: top;\n",
              "    }\n",
              "\n",
              "    .dataframe thead th {\n",
              "        text-align: right;\n",
              "    }\n",
              "</style>\n",
              "<table border=\"1\" class=\"dataframe\">\n",
              "  <thead>\n",
              "    <tr style=\"text-align: right;\">\n",
              "      <th></th>\n",
              "      <th>A</th>\n",
              "      <th>B</th>\n",
              "      <th>C</th>\n",
              "      <th>D</th>\n",
              "    </tr>\n",
              "  </thead>\n",
              "  <tbody>\n",
              "    <tr>\n",
              "      <th>2020-03-07</th>\n",
              "      <td>1.305717</td>\n",
              "      <td>1.346524</td>\n",
              "      <td>2.350247</td>\n",
              "      <td>-0.557090</td>\n",
              "    </tr>\n",
              "    <tr>\n",
              "      <th>2020-03-03</th>\n",
              "      <td>2.313483</td>\n",
              "      <td>0.612654</td>\n",
              "      <td>0.738314</td>\n",
              "      <td>-2.478506</td>\n",
              "    </tr>\n",
              "    <tr>\n",
              "      <th>2020-03-05</th>\n",
              "      <td>-0.790158</td>\n",
              "      <td>0.126606</td>\n",
              "      <td>-0.288890</td>\n",
              "      <td>-0.164961</td>\n",
              "    </tr>\n",
              "    <tr>\n",
              "      <th>2020-03-04</th>\n",
              "      <td>-0.198992</td>\n",
              "      <td>-0.523496</td>\n",
              "      <td>0.412452</td>\n",
              "      <td>1.395308</td>\n",
              "    </tr>\n",
              "    <tr>\n",
              "      <th>2020-03-08</th>\n",
              "      <td>1.595868</td>\n",
              "      <td>-0.755626</td>\n",
              "      <td>-1.557456</td>\n",
              "      <td>-0.218087</td>\n",
              "    </tr>\n",
              "    <tr>\n",
              "      <th>2020-03-06</th>\n",
              "      <td>1.225168</td>\n",
              "      <td>-1.774296</td>\n",
              "      <td>-0.387905</td>\n",
              "      <td>-1.110618</td>\n",
              "    </tr>\n",
              "  </tbody>\n",
              "</table>\n",
              "</div>"
            ],
            "text/plain": [
              "                   A         B         C         D\n",
              "2020-03-07  1.305717  1.346524  2.350247 -0.557090\n",
              "2020-03-03  2.313483  0.612654  0.738314 -2.478506\n",
              "2020-03-05 -0.790158  0.126606 -0.288890 -0.164961\n",
              "2020-03-04 -0.198992 -0.523496  0.412452  1.395308\n",
              "2020-03-08  1.595868 -0.755626 -1.557456 -0.218087\n",
              "2020-03-06  1.225168 -1.774296 -0.387905 -1.110618"
            ]
          },
          "metadata": {
            "tags": []
          },
          "execution_count": 27
        }
      ]
    },
    {
      "cell_type": "markdown",
      "metadata": {
        "id": "_2UyMxKCqLOz"
      },
      "source": [
        "# Selection"
      ]
    },
    {
      "cell_type": "code",
      "metadata": {
        "colab": {
          "base_uri": "https://localhost:8080/"
        },
        "id": "lcFZn6g0qPe1",
        "outputId": "5395b33c-a440-4e3b-ccef-115dcaceff92"
      },
      "source": [
        "df[\"A\"]"
      ],
      "execution_count": 28,
      "outputs": [
        {
          "output_type": "execute_result",
          "data": {
            "text/plain": [
              "2020-03-03    2.313483\n",
              "2020-03-04   -0.198992\n",
              "2020-03-05   -0.790158\n",
              "2020-03-06    1.225168\n",
              "2020-03-07    1.305717\n",
              "2020-03-08    1.595868\n",
              "Freq: D, Name: A, dtype: float64"
            ]
          },
          "metadata": {
            "tags": []
          },
          "execution_count": 28
        }
      ]
    },
    {
      "cell_type": "code",
      "metadata": {
        "colab": {
          "base_uri": "https://localhost:8080/",
          "height": 142
        },
        "id": "tPYwXR1VqRs9",
        "outputId": "2b9a55e8-4925-41d6-8ee2-53754416f1cd"
      },
      "source": [
        "# 0 행부터 2행까지\r\n",
        "\r\n",
        "df[0:3]"
      ],
      "execution_count": 30,
      "outputs": [
        {
          "output_type": "execute_result",
          "data": {
            "text/html": [
              "<div>\n",
              "<style scoped>\n",
              "    .dataframe tbody tr th:only-of-type {\n",
              "        vertical-align: middle;\n",
              "    }\n",
              "\n",
              "    .dataframe tbody tr th {\n",
              "        vertical-align: top;\n",
              "    }\n",
              "\n",
              "    .dataframe thead th {\n",
              "        text-align: right;\n",
              "    }\n",
              "</style>\n",
              "<table border=\"1\" class=\"dataframe\">\n",
              "  <thead>\n",
              "    <tr style=\"text-align: right;\">\n",
              "      <th></th>\n",
              "      <th>A</th>\n",
              "      <th>B</th>\n",
              "      <th>C</th>\n",
              "      <th>D</th>\n",
              "    </tr>\n",
              "  </thead>\n",
              "  <tbody>\n",
              "    <tr>\n",
              "      <th>2020-03-03</th>\n",
              "      <td>2.313483</td>\n",
              "      <td>0.612654</td>\n",
              "      <td>0.738314</td>\n",
              "      <td>-2.478506</td>\n",
              "    </tr>\n",
              "    <tr>\n",
              "      <th>2020-03-04</th>\n",
              "      <td>-0.198992</td>\n",
              "      <td>-0.523496</td>\n",
              "      <td>0.412452</td>\n",
              "      <td>1.395308</td>\n",
              "    </tr>\n",
              "    <tr>\n",
              "      <th>2020-03-05</th>\n",
              "      <td>-0.790158</td>\n",
              "      <td>0.126606</td>\n",
              "      <td>-0.288890</td>\n",
              "      <td>-0.164961</td>\n",
              "    </tr>\n",
              "  </tbody>\n",
              "</table>\n",
              "</div>"
            ],
            "text/plain": [
              "                   A         B         C         D\n",
              "2020-03-03  2.313483  0.612654  0.738314 -2.478506\n",
              "2020-03-04 -0.198992 -0.523496  0.412452  1.395308\n",
              "2020-03-05 -0.790158  0.126606 -0.288890 -0.164961"
            ]
          },
          "metadata": {
            "tags": []
          },
          "execution_count": 30
        }
      ]
    },
    {
      "cell_type": "code",
      "metadata": {
        "colab": {
          "base_uri": "https://localhost:8080/"
        },
        "id": "reDyrbPoqXxr",
        "outputId": "e4824362-07ac-4075-ce9e-7cb824eb5335"
      },
      "source": [
        "df.loc[dates[0]]"
      ],
      "execution_count": 31,
      "outputs": [
        {
          "output_type": "execute_result",
          "data": {
            "text/plain": [
              "A    2.313483\n",
              "B    0.612654\n",
              "C    0.738314\n",
              "D   -2.478506\n",
              "Name: 2020-03-03 00:00:00, dtype: float64"
            ]
          },
          "metadata": {
            "tags": []
          },
          "execution_count": 31
        }
      ]
    },
    {
      "cell_type": "code",
      "metadata": {
        "colab": {
          "base_uri": "https://localhost:8080/",
          "height": 235
        },
        "id": "AAzmulVMqdrM",
        "outputId": "2e61f739-0956-47ab-db93-a6d93b2bde50"
      },
      "source": [
        "df.loc[:, [\"A\", \"B\"]]"
      ],
      "execution_count": 32,
      "outputs": [
        {
          "output_type": "execute_result",
          "data": {
            "text/html": [
              "<div>\n",
              "<style scoped>\n",
              "    .dataframe tbody tr th:only-of-type {\n",
              "        vertical-align: middle;\n",
              "    }\n",
              "\n",
              "    .dataframe tbody tr th {\n",
              "        vertical-align: top;\n",
              "    }\n",
              "\n",
              "    .dataframe thead th {\n",
              "        text-align: right;\n",
              "    }\n",
              "</style>\n",
              "<table border=\"1\" class=\"dataframe\">\n",
              "  <thead>\n",
              "    <tr style=\"text-align: right;\">\n",
              "      <th></th>\n",
              "      <th>A</th>\n",
              "      <th>B</th>\n",
              "    </tr>\n",
              "  </thead>\n",
              "  <tbody>\n",
              "    <tr>\n",
              "      <th>2020-03-03</th>\n",
              "      <td>2.313483</td>\n",
              "      <td>0.612654</td>\n",
              "    </tr>\n",
              "    <tr>\n",
              "      <th>2020-03-04</th>\n",
              "      <td>-0.198992</td>\n",
              "      <td>-0.523496</td>\n",
              "    </tr>\n",
              "    <tr>\n",
              "      <th>2020-03-05</th>\n",
              "      <td>-0.790158</td>\n",
              "      <td>0.126606</td>\n",
              "    </tr>\n",
              "    <tr>\n",
              "      <th>2020-03-06</th>\n",
              "      <td>1.225168</td>\n",
              "      <td>-1.774296</td>\n",
              "    </tr>\n",
              "    <tr>\n",
              "      <th>2020-03-07</th>\n",
              "      <td>1.305717</td>\n",
              "      <td>1.346524</td>\n",
              "    </tr>\n",
              "    <tr>\n",
              "      <th>2020-03-08</th>\n",
              "      <td>1.595868</td>\n",
              "      <td>-0.755626</td>\n",
              "    </tr>\n",
              "  </tbody>\n",
              "</table>\n",
              "</div>"
            ],
            "text/plain": [
              "                   A         B\n",
              "2020-03-03  2.313483  0.612654\n",
              "2020-03-04 -0.198992 -0.523496\n",
              "2020-03-05 -0.790158  0.126606\n",
              "2020-03-06  1.225168 -1.774296\n",
              "2020-03-07  1.305717  1.346524\n",
              "2020-03-08  1.595868 -0.755626"
            ]
          },
          "metadata": {
            "tags": []
          },
          "execution_count": 32
        }
      ]
    },
    {
      "cell_type": "code",
      "metadata": {
        "colab": {
          "base_uri": "https://localhost:8080/",
          "height": 142
        },
        "id": "6yCJupwFqsye",
        "outputId": "36c6d8b3-355a-466e-c4b9-13c722a79c80"
      },
      "source": [
        "df.loc[\"20200303\":\"20200305\", [\"A\", \"B\"]]"
      ],
      "execution_count": 34,
      "outputs": [
        {
          "output_type": "execute_result",
          "data": {
            "text/html": [
              "<div>\n",
              "<style scoped>\n",
              "    .dataframe tbody tr th:only-of-type {\n",
              "        vertical-align: middle;\n",
              "    }\n",
              "\n",
              "    .dataframe tbody tr th {\n",
              "        vertical-align: top;\n",
              "    }\n",
              "\n",
              "    .dataframe thead th {\n",
              "        text-align: right;\n",
              "    }\n",
              "</style>\n",
              "<table border=\"1\" class=\"dataframe\">\n",
              "  <thead>\n",
              "    <tr style=\"text-align: right;\">\n",
              "      <th></th>\n",
              "      <th>A</th>\n",
              "      <th>B</th>\n",
              "    </tr>\n",
              "  </thead>\n",
              "  <tbody>\n",
              "    <tr>\n",
              "      <th>2020-03-03</th>\n",
              "      <td>2.313483</td>\n",
              "      <td>0.612654</td>\n",
              "    </tr>\n",
              "    <tr>\n",
              "      <th>2020-03-04</th>\n",
              "      <td>-0.198992</td>\n",
              "      <td>-0.523496</td>\n",
              "    </tr>\n",
              "    <tr>\n",
              "      <th>2020-03-05</th>\n",
              "      <td>-0.790158</td>\n",
              "      <td>0.126606</td>\n",
              "    </tr>\n",
              "  </tbody>\n",
              "</table>\n",
              "</div>"
            ],
            "text/plain": [
              "                   A         B\n",
              "2020-03-03  2.313483  0.612654\n",
              "2020-03-04 -0.198992 -0.523496\n",
              "2020-03-05 -0.790158  0.126606"
            ]
          },
          "metadata": {
            "tags": []
          },
          "execution_count": 34
        }
      ]
    },
    {
      "cell_type": "code",
      "metadata": {
        "colab": {
          "base_uri": "https://localhost:8080/"
        },
        "id": "EM3mjuJaqyZD",
        "outputId": "1e27d018-4b13-45ad-c058-bb52e93fef70"
      },
      "source": [
        "df.loc[\"20200303\", [\"A\", \"B\"]]"
      ],
      "execution_count": 37,
      "outputs": [
        {
          "output_type": "execute_result",
          "data": {
            "text/plain": [
              "A    2.313483\n",
              "B    0.612654\n",
              "Name: 2020-03-03 00:00:00, dtype: float64"
            ]
          },
          "metadata": {
            "tags": []
          },
          "execution_count": 37
        }
      ]
    },
    {
      "cell_type": "code",
      "metadata": {
        "colab": {
          "base_uri": "https://localhost:8080/"
        },
        "id": "MEYjNOx_q3dL",
        "outputId": "e8eea959-06d0-4312-98f9-4cf958647a90"
      },
      "source": [
        "df.loc[dates[0], \"A\"]"
      ],
      "execution_count": 38,
      "outputs": [
        {
          "output_type": "execute_result",
          "data": {
            "text/plain": [
              "2.3134834786882617"
            ]
          },
          "metadata": {
            "tags": []
          },
          "execution_count": 38
        }
      ]
    },
    {
      "cell_type": "code",
      "metadata": {
        "colab": {
          "base_uri": "https://localhost:8080/"
        },
        "id": "FgdZ2d7Iq3X0",
        "outputId": "17a2bda6-02d5-46d7-eb0e-31e5025dff87"
      },
      "source": [
        "df.at[dates[0], \"A\"]"
      ],
      "execution_count": 39,
      "outputs": [
        {
          "output_type": "execute_result",
          "data": {
            "text/plain": [
              "2.3134834786882617"
            ]
          },
          "metadata": {
            "tags": []
          },
          "execution_count": 39
        }
      ]
    },
    {
      "cell_type": "code",
      "metadata": {
        "colab": {
          "base_uri": "https://localhost:8080/"
        },
        "id": "cHKJ1REzq9Wn",
        "outputId": "4cd5ef02-cbce-49fd-f236-85dc17722878"
      },
      "source": [
        "# 4행 값 4행 값\r\n",
        "\r\n",
        "df.iloc[3]\r\n",
        "\r\n",
        "df.iloc[3]"
      ],
      "execution_count": 40,
      "outputs": [
        {
          "output_type": "execute_result",
          "data": {
            "text/plain": [
              "A    1.225168\n",
              "B   -1.774296\n",
              "C   -0.387905\n",
              "D   -1.110618\n",
              "Name: 2020-03-06 00:00:00, dtype: float64"
            ]
          },
          "metadata": {
            "tags": []
          },
          "execution_count": 40
        }
      ]
    },
    {
      "cell_type": "code",
      "metadata": {
        "colab": {
          "base_uri": "https://localhost:8080/",
          "height": 111
        },
        "id": "1eJoLPkKrECl",
        "outputId": "611882d4-7f03-429d-ae11-55fee9be63cc"
      },
      "source": [
        "#3~4행 값\r\n",
        "#0~1열 값\r\n",
        "\r\n",
        "df.iloc[3:5, 0:2]"
      ],
      "execution_count": 41,
      "outputs": [
        {
          "output_type": "execute_result",
          "data": {
            "text/html": [
              "<div>\n",
              "<style scoped>\n",
              "    .dataframe tbody tr th:only-of-type {\n",
              "        vertical-align: middle;\n",
              "    }\n",
              "\n",
              "    .dataframe tbody tr th {\n",
              "        vertical-align: top;\n",
              "    }\n",
              "\n",
              "    .dataframe thead th {\n",
              "        text-align: right;\n",
              "    }\n",
              "</style>\n",
              "<table border=\"1\" class=\"dataframe\">\n",
              "  <thead>\n",
              "    <tr style=\"text-align: right;\">\n",
              "      <th></th>\n",
              "      <th>A</th>\n",
              "      <th>B</th>\n",
              "    </tr>\n",
              "  </thead>\n",
              "  <tbody>\n",
              "    <tr>\n",
              "      <th>2020-03-06</th>\n",
              "      <td>1.225168</td>\n",
              "      <td>-1.774296</td>\n",
              "    </tr>\n",
              "    <tr>\n",
              "      <th>2020-03-07</th>\n",
              "      <td>1.305717</td>\n",
              "      <td>1.346524</td>\n",
              "    </tr>\n",
              "  </tbody>\n",
              "</table>\n",
              "</div>"
            ],
            "text/plain": [
              "                   A         B\n",
              "2020-03-06  1.225168 -1.774296\n",
              "2020-03-07  1.305717  1.346524"
            ]
          },
          "metadata": {
            "tags": []
          },
          "execution_count": 41
        }
      ]
    },
    {
      "cell_type": "code",
      "metadata": {
        "colab": {
          "base_uri": "https://localhost:8080/",
          "height": 142
        },
        "id": "tSIQSRFcrLus",
        "outputId": "c1114d80-07ac-42df-9cf6-73d6e78b55f9"
      },
      "source": [
        "#1,2,4 행\r\n",
        "#0,2 열1,2,4 행\r\n",
        "#0,2 열\r\n",
        "df.iloc[[1, 2, 4], [0, 2]]"
      ],
      "execution_count": 42,
      "outputs": [
        {
          "output_type": "execute_result",
          "data": {
            "text/html": [
              "<div>\n",
              "<style scoped>\n",
              "    .dataframe tbody tr th:only-of-type {\n",
              "        vertical-align: middle;\n",
              "    }\n",
              "\n",
              "    .dataframe tbody tr th {\n",
              "        vertical-align: top;\n",
              "    }\n",
              "\n",
              "    .dataframe thead th {\n",
              "        text-align: right;\n",
              "    }\n",
              "</style>\n",
              "<table border=\"1\" class=\"dataframe\">\n",
              "  <thead>\n",
              "    <tr style=\"text-align: right;\">\n",
              "      <th></th>\n",
              "      <th>A</th>\n",
              "      <th>C</th>\n",
              "    </tr>\n",
              "  </thead>\n",
              "  <tbody>\n",
              "    <tr>\n",
              "      <th>2020-03-04</th>\n",
              "      <td>-0.198992</td>\n",
              "      <td>0.412452</td>\n",
              "    </tr>\n",
              "    <tr>\n",
              "      <th>2020-03-05</th>\n",
              "      <td>-0.790158</td>\n",
              "      <td>-0.288890</td>\n",
              "    </tr>\n",
              "    <tr>\n",
              "      <th>2020-03-07</th>\n",
              "      <td>1.305717</td>\n",
              "      <td>2.350247</td>\n",
              "    </tr>\n",
              "  </tbody>\n",
              "</table>\n",
              "</div>"
            ],
            "text/plain": [
              "                   A         C\n",
              "2020-03-04 -0.198992  0.412452\n",
              "2020-03-05 -0.790158 -0.288890\n",
              "2020-03-07  1.305717  2.350247"
            ]
          },
          "metadata": {
            "tags": []
          },
          "execution_count": 42
        }
      ]
    },
    {
      "cell_type": "code",
      "metadata": {
        "colab": {
          "base_uri": "https://localhost:8080/",
          "height": 111
        },
        "id": "RgDys0KnrSNk",
        "outputId": "b58cb6f0-c0ad-497c-bd94-56b832a1d956"
      },
      "source": [
        "# 1,2 행\r\n",
        "# 모든 열 1,2 행\r\n",
        "# 모든 열\r\n",
        "\r\n",
        "df.iloc[1:3, :]\r\n",
        "\r\n",
        "df.iloc[1:3, :]"
      ],
      "execution_count": 43,
      "outputs": [
        {
          "output_type": "execute_result",
          "data": {
            "text/html": [
              "<div>\n",
              "<style scoped>\n",
              "    .dataframe tbody tr th:only-of-type {\n",
              "        vertical-align: middle;\n",
              "    }\n",
              "\n",
              "    .dataframe tbody tr th {\n",
              "        vertical-align: top;\n",
              "    }\n",
              "\n",
              "    .dataframe thead th {\n",
              "        text-align: right;\n",
              "    }\n",
              "</style>\n",
              "<table border=\"1\" class=\"dataframe\">\n",
              "  <thead>\n",
              "    <tr style=\"text-align: right;\">\n",
              "      <th></th>\n",
              "      <th>A</th>\n",
              "      <th>B</th>\n",
              "      <th>C</th>\n",
              "      <th>D</th>\n",
              "    </tr>\n",
              "  </thead>\n",
              "  <tbody>\n",
              "    <tr>\n",
              "      <th>2020-03-04</th>\n",
              "      <td>-0.198992</td>\n",
              "      <td>-0.523496</td>\n",
              "      <td>0.412452</td>\n",
              "      <td>1.395308</td>\n",
              "    </tr>\n",
              "    <tr>\n",
              "      <th>2020-03-05</th>\n",
              "      <td>-0.790158</td>\n",
              "      <td>0.126606</td>\n",
              "      <td>-0.288890</td>\n",
              "      <td>-0.164961</td>\n",
              "    </tr>\n",
              "  </tbody>\n",
              "</table>\n",
              "</div>"
            ],
            "text/plain": [
              "                   A         B         C         D\n",
              "2020-03-04 -0.198992 -0.523496  0.412452  1.395308\n",
              "2020-03-05 -0.790158  0.126606 -0.288890 -0.164961"
            ]
          },
          "metadata": {
            "tags": []
          },
          "execution_count": 43
        }
      ]
    },
    {
      "cell_type": "code",
      "metadata": {
        "colab": {
          "base_uri": "https://localhost:8080/",
          "height": 235
        },
        "id": "9whV6fOWrYAz",
        "outputId": "04426b7e-a63c-46b7-cf25-45a968f5883e"
      },
      "source": [
        "# 모든행\r\n",
        "# 1,2 열\r\n",
        "\r\n",
        "df.iloc[:, 1:3]"
      ],
      "execution_count": 45,
      "outputs": [
        {
          "output_type": "execute_result",
          "data": {
            "text/html": [
              "<div>\n",
              "<style scoped>\n",
              "    .dataframe tbody tr th:only-of-type {\n",
              "        vertical-align: middle;\n",
              "    }\n",
              "\n",
              "    .dataframe tbody tr th {\n",
              "        vertical-align: top;\n",
              "    }\n",
              "\n",
              "    .dataframe thead th {\n",
              "        text-align: right;\n",
              "    }\n",
              "</style>\n",
              "<table border=\"1\" class=\"dataframe\">\n",
              "  <thead>\n",
              "    <tr style=\"text-align: right;\">\n",
              "      <th></th>\n",
              "      <th>B</th>\n",
              "      <th>C</th>\n",
              "    </tr>\n",
              "  </thead>\n",
              "  <tbody>\n",
              "    <tr>\n",
              "      <th>2020-03-03</th>\n",
              "      <td>0.612654</td>\n",
              "      <td>0.738314</td>\n",
              "    </tr>\n",
              "    <tr>\n",
              "      <th>2020-03-04</th>\n",
              "      <td>-0.523496</td>\n",
              "      <td>0.412452</td>\n",
              "    </tr>\n",
              "    <tr>\n",
              "      <th>2020-03-05</th>\n",
              "      <td>0.126606</td>\n",
              "      <td>-0.288890</td>\n",
              "    </tr>\n",
              "    <tr>\n",
              "      <th>2020-03-06</th>\n",
              "      <td>-1.774296</td>\n",
              "      <td>-0.387905</td>\n",
              "    </tr>\n",
              "    <tr>\n",
              "      <th>2020-03-07</th>\n",
              "      <td>1.346524</td>\n",
              "      <td>2.350247</td>\n",
              "    </tr>\n",
              "    <tr>\n",
              "      <th>2020-03-08</th>\n",
              "      <td>-0.755626</td>\n",
              "      <td>-1.557456</td>\n",
              "    </tr>\n",
              "  </tbody>\n",
              "</table>\n",
              "</div>"
            ],
            "text/plain": [
              "                   B         C\n",
              "2020-03-03  0.612654  0.738314\n",
              "2020-03-04 -0.523496  0.412452\n",
              "2020-03-05  0.126606 -0.288890\n",
              "2020-03-06 -1.774296 -0.387905\n",
              "2020-03-07  1.346524  2.350247\n",
              "2020-03-08 -0.755626 -1.557456"
            ]
          },
          "metadata": {
            "tags": []
          },
          "execution_count": 45
        }
      ]
    },
    {
      "cell_type": "code",
      "metadata": {
        "colab": {
          "base_uri": "https://localhost:8080/"
        },
        "id": "nSw4B56YrcCB",
        "outputId": "d84df1a0-017c-41e7-b6d9-3f68639e6b74"
      },
      "source": [
        "# 1행 1열 값 1행 1열 값\r\n",
        "\r\n",
        "df.iloc[1, 1]\r\n",
        "\r\n",
        "df.iloc[1, 1]"
      ],
      "execution_count": 46,
      "outputs": [
        {
          "output_type": "execute_result",
          "data": {
            "text/plain": [
              "-0.5234956333470843"
            ]
          },
          "metadata": {
            "tags": []
          },
          "execution_count": 46
        }
      ]
    },
    {
      "cell_type": "code",
      "metadata": {
        "colab": {
          "base_uri": "https://localhost:8080/"
        },
        "id": "UKf7rMwKrgVL",
        "outputId": "5d3f5b82-3f7b-4989-9d40-b8939163058e"
      },
      "source": [
        "df.iat[1, 1]"
      ],
      "execution_count": 47,
      "outputs": [
        {
          "output_type": "execute_result",
          "data": {
            "text/plain": [
              "-0.5234956333470843"
            ]
          },
          "metadata": {
            "tags": []
          },
          "execution_count": 47
        }
      ]
    },
    {
      "cell_type": "code",
      "metadata": {
        "colab": {
          "base_uri": "https://localhost:8080/",
          "height": 173
        },
        "id": "h3faUdEoriMk",
        "outputId": "611dea9e-3169-443b-805e-10b4b0006e5c"
      },
      "source": [
        "df[df[\"A\"] > 0]"
      ],
      "execution_count": 48,
      "outputs": [
        {
          "output_type": "execute_result",
          "data": {
            "text/html": [
              "<div>\n",
              "<style scoped>\n",
              "    .dataframe tbody tr th:only-of-type {\n",
              "        vertical-align: middle;\n",
              "    }\n",
              "\n",
              "    .dataframe tbody tr th {\n",
              "        vertical-align: top;\n",
              "    }\n",
              "\n",
              "    .dataframe thead th {\n",
              "        text-align: right;\n",
              "    }\n",
              "</style>\n",
              "<table border=\"1\" class=\"dataframe\">\n",
              "  <thead>\n",
              "    <tr style=\"text-align: right;\">\n",
              "      <th></th>\n",
              "      <th>A</th>\n",
              "      <th>B</th>\n",
              "      <th>C</th>\n",
              "      <th>D</th>\n",
              "    </tr>\n",
              "  </thead>\n",
              "  <tbody>\n",
              "    <tr>\n",
              "      <th>2020-03-03</th>\n",
              "      <td>2.313483</td>\n",
              "      <td>0.612654</td>\n",
              "      <td>0.738314</td>\n",
              "      <td>-2.478506</td>\n",
              "    </tr>\n",
              "    <tr>\n",
              "      <th>2020-03-06</th>\n",
              "      <td>1.225168</td>\n",
              "      <td>-1.774296</td>\n",
              "      <td>-0.387905</td>\n",
              "      <td>-1.110618</td>\n",
              "    </tr>\n",
              "    <tr>\n",
              "      <th>2020-03-07</th>\n",
              "      <td>1.305717</td>\n",
              "      <td>1.346524</td>\n",
              "      <td>2.350247</td>\n",
              "      <td>-0.557090</td>\n",
              "    </tr>\n",
              "    <tr>\n",
              "      <th>2020-03-08</th>\n",
              "      <td>1.595868</td>\n",
              "      <td>-0.755626</td>\n",
              "      <td>-1.557456</td>\n",
              "      <td>-0.218087</td>\n",
              "    </tr>\n",
              "  </tbody>\n",
              "</table>\n",
              "</div>"
            ],
            "text/plain": [
              "                   A         B         C         D\n",
              "2020-03-03  2.313483  0.612654  0.738314 -2.478506\n",
              "2020-03-06  1.225168 -1.774296 -0.387905 -1.110618\n",
              "2020-03-07  1.305717  1.346524  2.350247 -0.557090\n",
              "2020-03-08  1.595868 -0.755626 -1.557456 -0.218087"
            ]
          },
          "metadata": {
            "tags": []
          },
          "execution_count": 48
        }
      ]
    },
    {
      "cell_type": "code",
      "metadata": {
        "colab": {
          "base_uri": "https://localhost:8080/",
          "height": 235
        },
        "id": "S9OY-4XXrll7",
        "outputId": "6ac36f5f-d7c8-4ce8-d9e5-e4493411cce6"
      },
      "source": [
        "df[df > 0]"
      ],
      "execution_count": 50,
      "outputs": [
        {
          "output_type": "execute_result",
          "data": {
            "text/html": [
              "<div>\n",
              "<style scoped>\n",
              "    .dataframe tbody tr th:only-of-type {\n",
              "        vertical-align: middle;\n",
              "    }\n",
              "\n",
              "    .dataframe tbody tr th {\n",
              "        vertical-align: top;\n",
              "    }\n",
              "\n",
              "    .dataframe thead th {\n",
              "        text-align: right;\n",
              "    }\n",
              "</style>\n",
              "<table border=\"1\" class=\"dataframe\">\n",
              "  <thead>\n",
              "    <tr style=\"text-align: right;\">\n",
              "      <th></th>\n",
              "      <th>A</th>\n",
              "      <th>B</th>\n",
              "      <th>C</th>\n",
              "      <th>D</th>\n",
              "    </tr>\n",
              "  </thead>\n",
              "  <tbody>\n",
              "    <tr>\n",
              "      <th>2020-03-03</th>\n",
              "      <td>2.313483</td>\n",
              "      <td>0.612654</td>\n",
              "      <td>0.738314</td>\n",
              "      <td>NaN</td>\n",
              "    </tr>\n",
              "    <tr>\n",
              "      <th>2020-03-04</th>\n",
              "      <td>NaN</td>\n",
              "      <td>NaN</td>\n",
              "      <td>0.412452</td>\n",
              "      <td>1.395308</td>\n",
              "    </tr>\n",
              "    <tr>\n",
              "      <th>2020-03-05</th>\n",
              "      <td>NaN</td>\n",
              "      <td>0.126606</td>\n",
              "      <td>NaN</td>\n",
              "      <td>NaN</td>\n",
              "    </tr>\n",
              "    <tr>\n",
              "      <th>2020-03-06</th>\n",
              "      <td>1.225168</td>\n",
              "      <td>NaN</td>\n",
              "      <td>NaN</td>\n",
              "      <td>NaN</td>\n",
              "    </tr>\n",
              "    <tr>\n",
              "      <th>2020-03-07</th>\n",
              "      <td>1.305717</td>\n",
              "      <td>1.346524</td>\n",
              "      <td>2.350247</td>\n",
              "      <td>NaN</td>\n",
              "    </tr>\n",
              "    <tr>\n",
              "      <th>2020-03-08</th>\n",
              "      <td>1.595868</td>\n",
              "      <td>NaN</td>\n",
              "      <td>NaN</td>\n",
              "      <td>NaN</td>\n",
              "    </tr>\n",
              "  </tbody>\n",
              "</table>\n",
              "</div>"
            ],
            "text/plain": [
              "                   A         B         C         D\n",
              "2020-03-03  2.313483  0.612654  0.738314       NaN\n",
              "2020-03-04       NaN       NaN  0.412452  1.395308\n",
              "2020-03-05       NaN  0.126606       NaN       NaN\n",
              "2020-03-06  1.225168       NaN       NaN       NaN\n",
              "2020-03-07  1.305717  1.346524  2.350247       NaN\n",
              "2020-03-08  1.595868       NaN       NaN       NaN"
            ]
          },
          "metadata": {
            "tags": []
          },
          "execution_count": 50
        }
      ]
    },
    {
      "cell_type": "code",
      "metadata": {
        "id": "p8Z-bXGxrvqT"
      },
      "source": [
        "df2 = df.copy()"
      ],
      "execution_count": 51,
      "outputs": []
    },
    {
      "cell_type": "code",
      "metadata": {
        "id": "6zxRV4cvrxQr"
      },
      "source": [
        "df2[\"E\"] = [\"one\", \"one\", \"two\", \"three\", \"four\", \"three\"]"
      ],
      "execution_count": 52,
      "outputs": []
    },
    {
      "cell_type": "code",
      "metadata": {
        "colab": {
          "base_uri": "https://localhost:8080/",
          "height": 235
        },
        "id": "E4Q_g4yAryrH",
        "outputId": "17fcd4b6-5f31-4b9f-f7be-de377aa1a75c"
      },
      "source": [
        "df2"
      ],
      "execution_count": 53,
      "outputs": [
        {
          "output_type": "execute_result",
          "data": {
            "text/html": [
              "<div>\n",
              "<style scoped>\n",
              "    .dataframe tbody tr th:only-of-type {\n",
              "        vertical-align: middle;\n",
              "    }\n",
              "\n",
              "    .dataframe tbody tr th {\n",
              "        vertical-align: top;\n",
              "    }\n",
              "\n",
              "    .dataframe thead th {\n",
              "        text-align: right;\n",
              "    }\n",
              "</style>\n",
              "<table border=\"1\" class=\"dataframe\">\n",
              "  <thead>\n",
              "    <tr style=\"text-align: right;\">\n",
              "      <th></th>\n",
              "      <th>A</th>\n",
              "      <th>B</th>\n",
              "      <th>C</th>\n",
              "      <th>D</th>\n",
              "      <th>E</th>\n",
              "    </tr>\n",
              "  </thead>\n",
              "  <tbody>\n",
              "    <tr>\n",
              "      <th>2020-03-03</th>\n",
              "      <td>2.313483</td>\n",
              "      <td>0.612654</td>\n",
              "      <td>0.738314</td>\n",
              "      <td>-2.478506</td>\n",
              "      <td>one</td>\n",
              "    </tr>\n",
              "    <tr>\n",
              "      <th>2020-03-04</th>\n",
              "      <td>-0.198992</td>\n",
              "      <td>-0.523496</td>\n",
              "      <td>0.412452</td>\n",
              "      <td>1.395308</td>\n",
              "      <td>one</td>\n",
              "    </tr>\n",
              "    <tr>\n",
              "      <th>2020-03-05</th>\n",
              "      <td>-0.790158</td>\n",
              "      <td>0.126606</td>\n",
              "      <td>-0.288890</td>\n",
              "      <td>-0.164961</td>\n",
              "      <td>two</td>\n",
              "    </tr>\n",
              "    <tr>\n",
              "      <th>2020-03-06</th>\n",
              "      <td>1.225168</td>\n",
              "      <td>-1.774296</td>\n",
              "      <td>-0.387905</td>\n",
              "      <td>-1.110618</td>\n",
              "      <td>three</td>\n",
              "    </tr>\n",
              "    <tr>\n",
              "      <th>2020-03-07</th>\n",
              "      <td>1.305717</td>\n",
              "      <td>1.346524</td>\n",
              "      <td>2.350247</td>\n",
              "      <td>-0.557090</td>\n",
              "      <td>four</td>\n",
              "    </tr>\n",
              "    <tr>\n",
              "      <th>2020-03-08</th>\n",
              "      <td>1.595868</td>\n",
              "      <td>-0.755626</td>\n",
              "      <td>-1.557456</td>\n",
              "      <td>-0.218087</td>\n",
              "      <td>three</td>\n",
              "    </tr>\n",
              "  </tbody>\n",
              "</table>\n",
              "</div>"
            ],
            "text/plain": [
              "                   A         B         C         D      E\n",
              "2020-03-03  2.313483  0.612654  0.738314 -2.478506    one\n",
              "2020-03-04 -0.198992 -0.523496  0.412452  1.395308    one\n",
              "2020-03-05 -0.790158  0.126606 -0.288890 -0.164961    two\n",
              "2020-03-06  1.225168 -1.774296 -0.387905 -1.110618  three\n",
              "2020-03-07  1.305717  1.346524  2.350247 -0.557090   four\n",
              "2020-03-08  1.595868 -0.755626 -1.557456 -0.218087  three"
            ]
          },
          "metadata": {
            "tags": []
          },
          "execution_count": 53
        }
      ]
    },
    {
      "cell_type": "code",
      "metadata": {
        "colab": {
          "base_uri": "https://localhost:8080/",
          "height": 111
        },
        "id": "1cUw3WYtr1NH",
        "outputId": "bb2499d5-203f-4275-d729-06d3a3ef651e"
      },
      "source": [
        "df2[df2[\"E\"].isin([\"two\", \"four\"])]"
      ],
      "execution_count": 54,
      "outputs": [
        {
          "output_type": "execute_result",
          "data": {
            "text/html": [
              "<div>\n",
              "<style scoped>\n",
              "    .dataframe tbody tr th:only-of-type {\n",
              "        vertical-align: middle;\n",
              "    }\n",
              "\n",
              "    .dataframe tbody tr th {\n",
              "        vertical-align: top;\n",
              "    }\n",
              "\n",
              "    .dataframe thead th {\n",
              "        text-align: right;\n",
              "    }\n",
              "</style>\n",
              "<table border=\"1\" class=\"dataframe\">\n",
              "  <thead>\n",
              "    <tr style=\"text-align: right;\">\n",
              "      <th></th>\n",
              "      <th>A</th>\n",
              "      <th>B</th>\n",
              "      <th>C</th>\n",
              "      <th>D</th>\n",
              "      <th>E</th>\n",
              "    </tr>\n",
              "  </thead>\n",
              "  <tbody>\n",
              "    <tr>\n",
              "      <th>2020-03-05</th>\n",
              "      <td>-0.790158</td>\n",
              "      <td>0.126606</td>\n",
              "      <td>-0.288890</td>\n",
              "      <td>-0.164961</td>\n",
              "      <td>two</td>\n",
              "    </tr>\n",
              "    <tr>\n",
              "      <th>2020-03-07</th>\n",
              "      <td>1.305717</td>\n",
              "      <td>1.346524</td>\n",
              "      <td>2.350247</td>\n",
              "      <td>-0.557090</td>\n",
              "      <td>four</td>\n",
              "    </tr>\n",
              "  </tbody>\n",
              "</table>\n",
              "</div>"
            ],
            "text/plain": [
              "                   A         B         C         D     E\n",
              "2020-03-05 -0.790158  0.126606 -0.288890 -0.164961   two\n",
              "2020-03-07  1.305717  1.346524  2.350247 -0.557090  four"
            ]
          },
          "metadata": {
            "tags": []
          },
          "execution_count": 54
        }
      ]
    },
    {
      "cell_type": "code",
      "metadata": {
        "id": "db5bBIPSr44U"
      },
      "source": [
        "s1 = pd.Series([1, 2, 3, 4, 5, 6], index=pd.date_range(\"20200303\", periods=6))"
      ],
      "execution_count": 59,
      "outputs": []
    },
    {
      "cell_type": "code",
      "metadata": {
        "colab": {
          "base_uri": "https://localhost:8080/"
        },
        "id": "U1cCe_Jjr6D0",
        "outputId": "1194e32a-ab7f-4c49-c500-dc672b8342e8"
      },
      "source": [
        "s1"
      ],
      "execution_count": 60,
      "outputs": [
        {
          "output_type": "execute_result",
          "data": {
            "text/plain": [
              "2020-03-03    1\n",
              "2020-03-04    2\n",
              "2020-03-05    3\n",
              "2020-03-06    4\n",
              "2020-03-07    5\n",
              "2020-03-08    6\n",
              "Freq: D, dtype: int64"
            ]
          },
          "metadata": {
            "tags": []
          },
          "execution_count": 60
        }
      ]
    },
    {
      "cell_type": "code",
      "metadata": {
        "id": "2R38QVA9r-V-"
      },
      "source": [
        "df[\"F\"] = s1"
      ],
      "execution_count": 61,
      "outputs": []
    },
    {
      "cell_type": "code",
      "metadata": {
        "id": "RhY65p6Pr_y9"
      },
      "source": [
        "df.at[dates[0], \"A\"] = 0"
      ],
      "execution_count": 62,
      "outputs": []
    },
    {
      "cell_type": "code",
      "metadata": {
        "id": "tbEOP2fhsFIk"
      },
      "source": [
        "df.iat[0, 1] = 0"
      ],
      "execution_count": 63,
      "outputs": []
    },
    {
      "cell_type": "code",
      "metadata": {
        "id": "JlzbXSglsGsj"
      },
      "source": [
        "df.loc[:, \"D\"] = np.array([5] * len(df))"
      ],
      "execution_count": 64,
      "outputs": []
    },
    {
      "cell_type": "code",
      "metadata": {
        "colab": {
          "base_uri": "https://localhost:8080/",
          "height": 235
        },
        "id": "80Q8Y9pKsH0Q",
        "outputId": "8a20ad80-0d7f-4bad-d9fb-355cd820a47a"
      },
      "source": [
        "df"
      ],
      "execution_count": 65,
      "outputs": [
        {
          "output_type": "execute_result",
          "data": {
            "text/html": [
              "<div>\n",
              "<style scoped>\n",
              "    .dataframe tbody tr th:only-of-type {\n",
              "        vertical-align: middle;\n",
              "    }\n",
              "\n",
              "    .dataframe tbody tr th {\n",
              "        vertical-align: top;\n",
              "    }\n",
              "\n",
              "    .dataframe thead th {\n",
              "        text-align: right;\n",
              "    }\n",
              "</style>\n",
              "<table border=\"1\" class=\"dataframe\">\n",
              "  <thead>\n",
              "    <tr style=\"text-align: right;\">\n",
              "      <th></th>\n",
              "      <th>A</th>\n",
              "      <th>B</th>\n",
              "      <th>C</th>\n",
              "      <th>D</th>\n",
              "      <th>F</th>\n",
              "    </tr>\n",
              "  </thead>\n",
              "  <tbody>\n",
              "    <tr>\n",
              "      <th>2020-03-03</th>\n",
              "      <td>0.000000</td>\n",
              "      <td>0.000000</td>\n",
              "      <td>0.738314</td>\n",
              "      <td>5</td>\n",
              "      <td>1</td>\n",
              "    </tr>\n",
              "    <tr>\n",
              "      <th>2020-03-04</th>\n",
              "      <td>-0.198992</td>\n",
              "      <td>-0.523496</td>\n",
              "      <td>0.412452</td>\n",
              "      <td>5</td>\n",
              "      <td>2</td>\n",
              "    </tr>\n",
              "    <tr>\n",
              "      <th>2020-03-05</th>\n",
              "      <td>-0.790158</td>\n",
              "      <td>0.126606</td>\n",
              "      <td>-0.288890</td>\n",
              "      <td>5</td>\n",
              "      <td>3</td>\n",
              "    </tr>\n",
              "    <tr>\n",
              "      <th>2020-03-06</th>\n",
              "      <td>1.225168</td>\n",
              "      <td>-1.774296</td>\n",
              "      <td>-0.387905</td>\n",
              "      <td>5</td>\n",
              "      <td>4</td>\n",
              "    </tr>\n",
              "    <tr>\n",
              "      <th>2020-03-07</th>\n",
              "      <td>1.305717</td>\n",
              "      <td>1.346524</td>\n",
              "      <td>2.350247</td>\n",
              "      <td>5</td>\n",
              "      <td>5</td>\n",
              "    </tr>\n",
              "    <tr>\n",
              "      <th>2020-03-08</th>\n",
              "      <td>1.595868</td>\n",
              "      <td>-0.755626</td>\n",
              "      <td>-1.557456</td>\n",
              "      <td>5</td>\n",
              "      <td>6</td>\n",
              "    </tr>\n",
              "  </tbody>\n",
              "</table>\n",
              "</div>"
            ],
            "text/plain": [
              "                   A         B         C  D  F\n",
              "2020-03-03  0.000000  0.000000  0.738314  5  1\n",
              "2020-03-04 -0.198992 -0.523496  0.412452  5  2\n",
              "2020-03-05 -0.790158  0.126606 -0.288890  5  3\n",
              "2020-03-06  1.225168 -1.774296 -0.387905  5  4\n",
              "2020-03-07  1.305717  1.346524  2.350247  5  5\n",
              "2020-03-08  1.595868 -0.755626 -1.557456  5  6"
            ]
          },
          "metadata": {
            "tags": []
          },
          "execution_count": 65
        }
      ]
    },
    {
      "cell_type": "code",
      "metadata": {
        "id": "6CSm8X8nsOza"
      },
      "source": [
        "df2 = df.copy()"
      ],
      "execution_count": 66,
      "outputs": []
    },
    {
      "cell_type": "code",
      "metadata": {
        "id": "ZP2oAJsUsP9X"
      },
      "source": [
        "df2[df2 > 0] = -df2"
      ],
      "execution_count": 67,
      "outputs": []
    },
    {
      "cell_type": "code",
      "metadata": {
        "colab": {
          "base_uri": "https://localhost:8080/",
          "height": 235
        },
        "id": "YsSXk_8nsRGH",
        "outputId": "62fab2ce-b047-493e-86ee-973ca9231a23"
      },
      "source": [
        "df2"
      ],
      "execution_count": 68,
      "outputs": [
        {
          "output_type": "execute_result",
          "data": {
            "text/html": [
              "<div>\n",
              "<style scoped>\n",
              "    .dataframe tbody tr th:only-of-type {\n",
              "        vertical-align: middle;\n",
              "    }\n",
              "\n",
              "    .dataframe tbody tr th {\n",
              "        vertical-align: top;\n",
              "    }\n",
              "\n",
              "    .dataframe thead th {\n",
              "        text-align: right;\n",
              "    }\n",
              "</style>\n",
              "<table border=\"1\" class=\"dataframe\">\n",
              "  <thead>\n",
              "    <tr style=\"text-align: right;\">\n",
              "      <th></th>\n",
              "      <th>A</th>\n",
              "      <th>B</th>\n",
              "      <th>C</th>\n",
              "      <th>D</th>\n",
              "      <th>F</th>\n",
              "    </tr>\n",
              "  </thead>\n",
              "  <tbody>\n",
              "    <tr>\n",
              "      <th>2020-03-03</th>\n",
              "      <td>0.000000</td>\n",
              "      <td>0.000000</td>\n",
              "      <td>-0.738314</td>\n",
              "      <td>-5</td>\n",
              "      <td>-1</td>\n",
              "    </tr>\n",
              "    <tr>\n",
              "      <th>2020-03-04</th>\n",
              "      <td>-0.198992</td>\n",
              "      <td>-0.523496</td>\n",
              "      <td>-0.412452</td>\n",
              "      <td>-5</td>\n",
              "      <td>-2</td>\n",
              "    </tr>\n",
              "    <tr>\n",
              "      <th>2020-03-05</th>\n",
              "      <td>-0.790158</td>\n",
              "      <td>-0.126606</td>\n",
              "      <td>-0.288890</td>\n",
              "      <td>-5</td>\n",
              "      <td>-3</td>\n",
              "    </tr>\n",
              "    <tr>\n",
              "      <th>2020-03-06</th>\n",
              "      <td>-1.225168</td>\n",
              "      <td>-1.774296</td>\n",
              "      <td>-0.387905</td>\n",
              "      <td>-5</td>\n",
              "      <td>-4</td>\n",
              "    </tr>\n",
              "    <tr>\n",
              "      <th>2020-03-07</th>\n",
              "      <td>-1.305717</td>\n",
              "      <td>-1.346524</td>\n",
              "      <td>-2.350247</td>\n",
              "      <td>-5</td>\n",
              "      <td>-5</td>\n",
              "    </tr>\n",
              "    <tr>\n",
              "      <th>2020-03-08</th>\n",
              "      <td>-1.595868</td>\n",
              "      <td>-0.755626</td>\n",
              "      <td>-1.557456</td>\n",
              "      <td>-5</td>\n",
              "      <td>-6</td>\n",
              "    </tr>\n",
              "  </tbody>\n",
              "</table>\n",
              "</div>"
            ],
            "text/plain": [
              "                   A         B         C  D  F\n",
              "2020-03-03  0.000000  0.000000 -0.738314 -5 -1\n",
              "2020-03-04 -0.198992 -0.523496 -0.412452 -5 -2\n",
              "2020-03-05 -0.790158 -0.126606 -0.288890 -5 -3\n",
              "2020-03-06 -1.225168 -1.774296 -0.387905 -5 -4\n",
              "2020-03-07 -1.305717 -1.346524 -2.350247 -5 -5\n",
              "2020-03-08 -1.595868 -0.755626 -1.557456 -5 -6"
            ]
          },
          "metadata": {
            "tags": []
          },
          "execution_count": 68
        }
      ]
    },
    {
      "cell_type": "code",
      "metadata": {
        "id": "rrc-Ct9asTjV"
      },
      "source": [
        "df1 = df.reindex(index=dates[0:4], columns=list(df.columns) + [\"E\"])"
      ],
      "execution_count": 71,
      "outputs": []
    },
    {
      "cell_type": "code",
      "metadata": {
        "id": "l7z32c61sb5D"
      },
      "source": [
        "df1.loc[dates[0] : dates[1], \"E\"] = 1"
      ],
      "execution_count": 72,
      "outputs": []
    },
    {
      "cell_type": "code",
      "metadata": {
        "colab": {
          "base_uri": "https://localhost:8080/",
          "height": 173
        },
        "id": "SmZLJUGbsdb7",
        "outputId": "425bebfd-a2a5-4736-cbd8-f3ae31088f35"
      },
      "source": [
        "df1"
      ],
      "execution_count": 73,
      "outputs": [
        {
          "output_type": "execute_result",
          "data": {
            "text/html": [
              "<div>\n",
              "<style scoped>\n",
              "    .dataframe tbody tr th:only-of-type {\n",
              "        vertical-align: middle;\n",
              "    }\n",
              "\n",
              "    .dataframe tbody tr th {\n",
              "        vertical-align: top;\n",
              "    }\n",
              "\n",
              "    .dataframe thead th {\n",
              "        text-align: right;\n",
              "    }\n",
              "</style>\n",
              "<table border=\"1\" class=\"dataframe\">\n",
              "  <thead>\n",
              "    <tr style=\"text-align: right;\">\n",
              "      <th></th>\n",
              "      <th>A</th>\n",
              "      <th>B</th>\n",
              "      <th>C</th>\n",
              "      <th>D</th>\n",
              "      <th>F</th>\n",
              "      <th>E</th>\n",
              "    </tr>\n",
              "  </thead>\n",
              "  <tbody>\n",
              "    <tr>\n",
              "      <th>2020-03-03</th>\n",
              "      <td>0.000000</td>\n",
              "      <td>0.000000</td>\n",
              "      <td>0.738314</td>\n",
              "      <td>5</td>\n",
              "      <td>1</td>\n",
              "      <td>1.0</td>\n",
              "    </tr>\n",
              "    <tr>\n",
              "      <th>2020-03-04</th>\n",
              "      <td>-0.198992</td>\n",
              "      <td>-0.523496</td>\n",
              "      <td>0.412452</td>\n",
              "      <td>5</td>\n",
              "      <td>2</td>\n",
              "      <td>1.0</td>\n",
              "    </tr>\n",
              "    <tr>\n",
              "      <th>2020-03-05</th>\n",
              "      <td>-0.790158</td>\n",
              "      <td>0.126606</td>\n",
              "      <td>-0.288890</td>\n",
              "      <td>5</td>\n",
              "      <td>3</td>\n",
              "      <td>NaN</td>\n",
              "    </tr>\n",
              "    <tr>\n",
              "      <th>2020-03-06</th>\n",
              "      <td>1.225168</td>\n",
              "      <td>-1.774296</td>\n",
              "      <td>-0.387905</td>\n",
              "      <td>5</td>\n",
              "      <td>4</td>\n",
              "      <td>NaN</td>\n",
              "    </tr>\n",
              "  </tbody>\n",
              "</table>\n",
              "</div>"
            ],
            "text/plain": [
              "                   A         B         C  D  F    E\n",
              "2020-03-03  0.000000  0.000000  0.738314  5  1  1.0\n",
              "2020-03-04 -0.198992 -0.523496  0.412452  5  2  1.0\n",
              "2020-03-05 -0.790158  0.126606 -0.288890  5  3  NaN\n",
              "2020-03-06  1.225168 -1.774296 -0.387905  5  4  NaN"
            ]
          },
          "metadata": {
            "tags": []
          },
          "execution_count": 73
        }
      ]
    },
    {
      "cell_type": "code",
      "metadata": {
        "colab": {
          "base_uri": "https://localhost:8080/",
          "height": 111
        },
        "id": "NV-NuIlJt4JT",
        "outputId": "4a268ed8-209f-4f55-cff4-dc2d1729e7c5"
      },
      "source": [
        "df1.dropna(how=\"any\")"
      ],
      "execution_count": 74,
      "outputs": [
        {
          "output_type": "execute_result",
          "data": {
            "text/html": [
              "<div>\n",
              "<style scoped>\n",
              "    .dataframe tbody tr th:only-of-type {\n",
              "        vertical-align: middle;\n",
              "    }\n",
              "\n",
              "    .dataframe tbody tr th {\n",
              "        vertical-align: top;\n",
              "    }\n",
              "\n",
              "    .dataframe thead th {\n",
              "        text-align: right;\n",
              "    }\n",
              "</style>\n",
              "<table border=\"1\" class=\"dataframe\">\n",
              "  <thead>\n",
              "    <tr style=\"text-align: right;\">\n",
              "      <th></th>\n",
              "      <th>A</th>\n",
              "      <th>B</th>\n",
              "      <th>C</th>\n",
              "      <th>D</th>\n",
              "      <th>F</th>\n",
              "      <th>E</th>\n",
              "    </tr>\n",
              "  </thead>\n",
              "  <tbody>\n",
              "    <tr>\n",
              "      <th>2020-03-03</th>\n",
              "      <td>0.000000</td>\n",
              "      <td>0.000000</td>\n",
              "      <td>0.738314</td>\n",
              "      <td>5</td>\n",
              "      <td>1</td>\n",
              "      <td>1.0</td>\n",
              "    </tr>\n",
              "    <tr>\n",
              "      <th>2020-03-04</th>\n",
              "      <td>-0.198992</td>\n",
              "      <td>-0.523496</td>\n",
              "      <td>0.412452</td>\n",
              "      <td>5</td>\n",
              "      <td>2</td>\n",
              "      <td>1.0</td>\n",
              "    </tr>\n",
              "  </tbody>\n",
              "</table>\n",
              "</div>"
            ],
            "text/plain": [
              "                   A         B         C  D  F    E\n",
              "2020-03-03  0.000000  0.000000  0.738314  5  1  1.0\n",
              "2020-03-04 -0.198992 -0.523496  0.412452  5  2  1.0"
            ]
          },
          "metadata": {
            "tags": []
          },
          "execution_count": 74
        }
      ]
    },
    {
      "cell_type": "code",
      "metadata": {
        "colab": {
          "base_uri": "https://localhost:8080/",
          "height": 173
        },
        "id": "lUKoN8k7t6Ar",
        "outputId": "969f1b81-f94f-4a9d-849f-9e3b07febb8a"
      },
      "source": [
        "df1.fillna(value=5)"
      ],
      "execution_count": 75,
      "outputs": [
        {
          "output_type": "execute_result",
          "data": {
            "text/html": [
              "<div>\n",
              "<style scoped>\n",
              "    .dataframe tbody tr th:only-of-type {\n",
              "        vertical-align: middle;\n",
              "    }\n",
              "\n",
              "    .dataframe tbody tr th {\n",
              "        vertical-align: top;\n",
              "    }\n",
              "\n",
              "    .dataframe thead th {\n",
              "        text-align: right;\n",
              "    }\n",
              "</style>\n",
              "<table border=\"1\" class=\"dataframe\">\n",
              "  <thead>\n",
              "    <tr style=\"text-align: right;\">\n",
              "      <th></th>\n",
              "      <th>A</th>\n",
              "      <th>B</th>\n",
              "      <th>C</th>\n",
              "      <th>D</th>\n",
              "      <th>F</th>\n",
              "      <th>E</th>\n",
              "    </tr>\n",
              "  </thead>\n",
              "  <tbody>\n",
              "    <tr>\n",
              "      <th>2020-03-03</th>\n",
              "      <td>0.000000</td>\n",
              "      <td>0.000000</td>\n",
              "      <td>0.738314</td>\n",
              "      <td>5</td>\n",
              "      <td>1</td>\n",
              "      <td>1.0</td>\n",
              "    </tr>\n",
              "    <tr>\n",
              "      <th>2020-03-04</th>\n",
              "      <td>-0.198992</td>\n",
              "      <td>-0.523496</td>\n",
              "      <td>0.412452</td>\n",
              "      <td>5</td>\n",
              "      <td>2</td>\n",
              "      <td>1.0</td>\n",
              "    </tr>\n",
              "    <tr>\n",
              "      <th>2020-03-05</th>\n",
              "      <td>-0.790158</td>\n",
              "      <td>0.126606</td>\n",
              "      <td>-0.288890</td>\n",
              "      <td>5</td>\n",
              "      <td>3</td>\n",
              "      <td>5.0</td>\n",
              "    </tr>\n",
              "    <tr>\n",
              "      <th>2020-03-06</th>\n",
              "      <td>1.225168</td>\n",
              "      <td>-1.774296</td>\n",
              "      <td>-0.387905</td>\n",
              "      <td>5</td>\n",
              "      <td>4</td>\n",
              "      <td>5.0</td>\n",
              "    </tr>\n",
              "  </tbody>\n",
              "</table>\n",
              "</div>"
            ],
            "text/plain": [
              "                   A         B         C  D  F    E\n",
              "2020-03-03  0.000000  0.000000  0.738314  5  1  1.0\n",
              "2020-03-04 -0.198992 -0.523496  0.412452  5  2  1.0\n",
              "2020-03-05 -0.790158  0.126606 -0.288890  5  3  5.0\n",
              "2020-03-06  1.225168 -1.774296 -0.387905  5  4  5.0"
            ]
          },
          "metadata": {
            "tags": []
          },
          "execution_count": 75
        }
      ]
    },
    {
      "cell_type": "code",
      "metadata": {
        "colab": {
          "base_uri": "https://localhost:8080/",
          "height": 173
        },
        "id": "d-JK2Bvit8AN",
        "outputId": "ce37f50c-5edc-4b68-f5a3-36bcb9f6d3dd"
      },
      "source": [
        "pd.isna(df1)"
      ],
      "execution_count": 76,
      "outputs": [
        {
          "output_type": "execute_result",
          "data": {
            "text/html": [
              "<div>\n",
              "<style scoped>\n",
              "    .dataframe tbody tr th:only-of-type {\n",
              "        vertical-align: middle;\n",
              "    }\n",
              "\n",
              "    .dataframe tbody tr th {\n",
              "        vertical-align: top;\n",
              "    }\n",
              "\n",
              "    .dataframe thead th {\n",
              "        text-align: right;\n",
              "    }\n",
              "</style>\n",
              "<table border=\"1\" class=\"dataframe\">\n",
              "  <thead>\n",
              "    <tr style=\"text-align: right;\">\n",
              "      <th></th>\n",
              "      <th>A</th>\n",
              "      <th>B</th>\n",
              "      <th>C</th>\n",
              "      <th>D</th>\n",
              "      <th>F</th>\n",
              "      <th>E</th>\n",
              "    </tr>\n",
              "  </thead>\n",
              "  <tbody>\n",
              "    <tr>\n",
              "      <th>2020-03-03</th>\n",
              "      <td>False</td>\n",
              "      <td>False</td>\n",
              "      <td>False</td>\n",
              "      <td>False</td>\n",
              "      <td>False</td>\n",
              "      <td>False</td>\n",
              "    </tr>\n",
              "    <tr>\n",
              "      <th>2020-03-04</th>\n",
              "      <td>False</td>\n",
              "      <td>False</td>\n",
              "      <td>False</td>\n",
              "      <td>False</td>\n",
              "      <td>False</td>\n",
              "      <td>False</td>\n",
              "    </tr>\n",
              "    <tr>\n",
              "      <th>2020-03-05</th>\n",
              "      <td>False</td>\n",
              "      <td>False</td>\n",
              "      <td>False</td>\n",
              "      <td>False</td>\n",
              "      <td>False</td>\n",
              "      <td>True</td>\n",
              "    </tr>\n",
              "    <tr>\n",
              "      <th>2020-03-06</th>\n",
              "      <td>False</td>\n",
              "      <td>False</td>\n",
              "      <td>False</td>\n",
              "      <td>False</td>\n",
              "      <td>False</td>\n",
              "      <td>True</td>\n",
              "    </tr>\n",
              "  </tbody>\n",
              "</table>\n",
              "</div>"
            ],
            "text/plain": [
              "                A      B      C      D      F      E\n",
              "2020-03-03  False  False  False  False  False  False\n",
              "2020-03-04  False  False  False  False  False  False\n",
              "2020-03-05  False  False  False  False  False   True\n",
              "2020-03-06  False  False  False  False  False   True"
            ]
          },
          "metadata": {
            "tags": []
          },
          "execution_count": 76
        }
      ]
    },
    {
      "cell_type": "markdown",
      "metadata": {
        "id": "bdTVnU6ruDc7"
      },
      "source": [
        "# Operation"
      ]
    },
    {
      "cell_type": "code",
      "metadata": {
        "colab": {
          "base_uri": "https://localhost:8080/"
        },
        "id": "bSr_lJu8uEs_",
        "outputId": "c2c8ed93-24f3-4a42-d9de-e2dd4b9c62b8"
      },
      "source": [
        "df.mean()"
      ],
      "execution_count": 77,
      "outputs": [
        {
          "output_type": "execute_result",
          "data": {
            "text/plain": [
              "A    0.522934\n",
              "B   -0.263381\n",
              "C    0.211127\n",
              "D    5.000000\n",
              "F    3.500000\n",
              "dtype: float64"
            ]
          },
          "metadata": {
            "tags": []
          },
          "execution_count": 77
        }
      ]
    },
    {
      "cell_type": "code",
      "metadata": {
        "colab": {
          "base_uri": "https://localhost:8080/"
        },
        "id": "NUn94WU1uHtE",
        "outputId": "f9ba7fdf-8e08-4462-9855-767bb2728fd4"
      },
      "source": [
        "df.mean(1)"
      ],
      "execution_count": 78,
      "outputs": [
        {
          "output_type": "execute_result",
          "data": {
            "text/plain": [
              "2020-03-03    1.347663\n",
              "2020-03-04    1.337993\n",
              "2020-03-05    1.409512\n",
              "2020-03-06    1.612593\n",
              "2020-03-07    3.000498\n",
              "2020-03-08    2.056557\n",
              "Freq: D, dtype: float64"
            ]
          },
          "metadata": {
            "tags": []
          },
          "execution_count": 78
        }
      ]
    },
    {
      "cell_type": "code",
      "metadata": {
        "id": "w554z32OuKmL"
      },
      "source": [
        "#shift , 2칸 미루기shift , 2칸 미루기\r\n",
        "\r\n",
        "s = pd.Series([1, 3, 5, np.nan, 6, 8], index=dates).shift(2)\r\n",
        "\r\n",
        "s = pd.Series([1, 3, 5, np.nan, 6, 8], index=dates).shift(2)"
      ],
      "execution_count": 79,
      "outputs": []
    },
    {
      "cell_type": "code",
      "metadata": {
        "colab": {
          "base_uri": "https://localhost:8080/"
        },
        "id": "5fOFdzx1uLLl",
        "outputId": "244488b5-8d68-4651-88c8-923b806240e1"
      },
      "source": [
        "s"
      ],
      "execution_count": 80,
      "outputs": [
        {
          "output_type": "execute_result",
          "data": {
            "text/plain": [
              "2020-03-03    NaN\n",
              "2020-03-04    NaN\n",
              "2020-03-05    1.0\n",
              "2020-03-06    3.0\n",
              "2020-03-07    5.0\n",
              "2020-03-08    NaN\n",
              "Freq: D, dtype: float64"
            ]
          },
          "metadata": {
            "tags": []
          },
          "execution_count": 80
        }
      ]
    },
    {
      "cell_type": "code",
      "metadata": {
        "colab": {
          "base_uri": "https://localhost:8080/",
          "height": 235
        },
        "id": "8H86wdNouies",
        "outputId": "f3a4e2f0-6c73-4038-a5c8-cef25c5646b2"
      },
      "source": [
        "df"
      ],
      "execution_count": 83,
      "outputs": [
        {
          "output_type": "execute_result",
          "data": {
            "text/html": [
              "<div>\n",
              "<style scoped>\n",
              "    .dataframe tbody tr th:only-of-type {\n",
              "        vertical-align: middle;\n",
              "    }\n",
              "\n",
              "    .dataframe tbody tr th {\n",
              "        vertical-align: top;\n",
              "    }\n",
              "\n",
              "    .dataframe thead th {\n",
              "        text-align: right;\n",
              "    }\n",
              "</style>\n",
              "<table border=\"1\" class=\"dataframe\">\n",
              "  <thead>\n",
              "    <tr style=\"text-align: right;\">\n",
              "      <th></th>\n",
              "      <th>A</th>\n",
              "      <th>B</th>\n",
              "      <th>C</th>\n",
              "      <th>D</th>\n",
              "      <th>F</th>\n",
              "    </tr>\n",
              "  </thead>\n",
              "  <tbody>\n",
              "    <tr>\n",
              "      <th>2020-03-03</th>\n",
              "      <td>0.000000</td>\n",
              "      <td>0.000000</td>\n",
              "      <td>0.738314</td>\n",
              "      <td>5</td>\n",
              "      <td>1</td>\n",
              "    </tr>\n",
              "    <tr>\n",
              "      <th>2020-03-04</th>\n",
              "      <td>-0.198992</td>\n",
              "      <td>-0.523496</td>\n",
              "      <td>0.412452</td>\n",
              "      <td>5</td>\n",
              "      <td>2</td>\n",
              "    </tr>\n",
              "    <tr>\n",
              "      <th>2020-03-05</th>\n",
              "      <td>-0.790158</td>\n",
              "      <td>0.126606</td>\n",
              "      <td>-0.288890</td>\n",
              "      <td>5</td>\n",
              "      <td>3</td>\n",
              "    </tr>\n",
              "    <tr>\n",
              "      <th>2020-03-06</th>\n",
              "      <td>1.225168</td>\n",
              "      <td>-1.774296</td>\n",
              "      <td>-0.387905</td>\n",
              "      <td>5</td>\n",
              "      <td>4</td>\n",
              "    </tr>\n",
              "    <tr>\n",
              "      <th>2020-03-07</th>\n",
              "      <td>1.305717</td>\n",
              "      <td>1.346524</td>\n",
              "      <td>2.350247</td>\n",
              "      <td>5</td>\n",
              "      <td>5</td>\n",
              "    </tr>\n",
              "    <tr>\n",
              "      <th>2020-03-08</th>\n",
              "      <td>1.595868</td>\n",
              "      <td>-0.755626</td>\n",
              "      <td>-1.557456</td>\n",
              "      <td>5</td>\n",
              "      <td>6</td>\n",
              "    </tr>\n",
              "  </tbody>\n",
              "</table>\n",
              "</div>"
            ],
            "text/plain": [
              "                   A         B         C  D  F\n",
              "2020-03-03  0.000000  0.000000  0.738314  5  1\n",
              "2020-03-04 -0.198992 -0.523496  0.412452  5  2\n",
              "2020-03-05 -0.790158  0.126606 -0.288890  5  3\n",
              "2020-03-06  1.225168 -1.774296 -0.387905  5  4\n",
              "2020-03-07  1.305717  1.346524  2.350247  5  5\n",
              "2020-03-08  1.595868 -0.755626 -1.557456  5  6"
            ]
          },
          "metadata": {
            "tags": []
          },
          "execution_count": 83
        }
      ]
    },
    {
      "cell_type": "code",
      "metadata": {
        "colab": {
          "base_uri": "https://localhost:8080/",
          "height": 235
        },
        "id": "wZd7H4uHuRyV",
        "outputId": "29fa09bd-c9a6-4d0d-cced-8e2c2b865e56"
      },
      "source": [
        "#df 에서 s를 모두 뺀 값 , s가 결측치면 나오는값도 결측치df 에서 s를 모두 뺀 값 , s가 결측치면 나오는값도 결측치\r\n",
        "\r\n",
        "df.sub(s, axis=\"index\")\r\n",
        "\r\n",
        "df.sub(s, axis=\"index\")"
      ],
      "execution_count": 81,
      "outputs": [
        {
          "output_type": "execute_result",
          "data": {
            "text/html": [
              "<div>\n",
              "<style scoped>\n",
              "    .dataframe tbody tr th:only-of-type {\n",
              "        vertical-align: middle;\n",
              "    }\n",
              "\n",
              "    .dataframe tbody tr th {\n",
              "        vertical-align: top;\n",
              "    }\n",
              "\n",
              "    .dataframe thead th {\n",
              "        text-align: right;\n",
              "    }\n",
              "</style>\n",
              "<table border=\"1\" class=\"dataframe\">\n",
              "  <thead>\n",
              "    <tr style=\"text-align: right;\">\n",
              "      <th></th>\n",
              "      <th>A</th>\n",
              "      <th>B</th>\n",
              "      <th>C</th>\n",
              "      <th>D</th>\n",
              "      <th>F</th>\n",
              "    </tr>\n",
              "  </thead>\n",
              "  <tbody>\n",
              "    <tr>\n",
              "      <th>2020-03-03</th>\n",
              "      <td>NaN</td>\n",
              "      <td>NaN</td>\n",
              "      <td>NaN</td>\n",
              "      <td>NaN</td>\n",
              "      <td>NaN</td>\n",
              "    </tr>\n",
              "    <tr>\n",
              "      <th>2020-03-04</th>\n",
              "      <td>NaN</td>\n",
              "      <td>NaN</td>\n",
              "      <td>NaN</td>\n",
              "      <td>NaN</td>\n",
              "      <td>NaN</td>\n",
              "    </tr>\n",
              "    <tr>\n",
              "      <th>2020-03-05</th>\n",
              "      <td>-1.790158</td>\n",
              "      <td>-0.873394</td>\n",
              "      <td>-1.288890</td>\n",
              "      <td>4.0</td>\n",
              "      <td>2.0</td>\n",
              "    </tr>\n",
              "    <tr>\n",
              "      <th>2020-03-06</th>\n",
              "      <td>-1.774832</td>\n",
              "      <td>-4.774296</td>\n",
              "      <td>-3.387905</td>\n",
              "      <td>2.0</td>\n",
              "      <td>1.0</td>\n",
              "    </tr>\n",
              "    <tr>\n",
              "      <th>2020-03-07</th>\n",
              "      <td>-3.694283</td>\n",
              "      <td>-3.653476</td>\n",
              "      <td>-2.649753</td>\n",
              "      <td>0.0</td>\n",
              "      <td>0.0</td>\n",
              "    </tr>\n",
              "    <tr>\n",
              "      <th>2020-03-08</th>\n",
              "      <td>NaN</td>\n",
              "      <td>NaN</td>\n",
              "      <td>NaN</td>\n",
              "      <td>NaN</td>\n",
              "      <td>NaN</td>\n",
              "    </tr>\n",
              "  </tbody>\n",
              "</table>\n",
              "</div>"
            ],
            "text/plain": [
              "                   A         B         C    D    F\n",
              "2020-03-03       NaN       NaN       NaN  NaN  NaN\n",
              "2020-03-04       NaN       NaN       NaN  NaN  NaN\n",
              "2020-03-05 -1.790158 -0.873394 -1.288890  4.0  2.0\n",
              "2020-03-06 -1.774832 -4.774296 -3.387905  2.0  1.0\n",
              "2020-03-07 -3.694283 -3.653476 -2.649753  0.0  0.0\n",
              "2020-03-08       NaN       NaN       NaN  NaN  NaN"
            ]
          },
          "metadata": {
            "tags": []
          },
          "execution_count": 81
        }
      ]
    },
    {
      "cell_type": "code",
      "metadata": {
        "colab": {
          "base_uri": "https://localhost:8080/",
          "height": 235
        },
        "id": "6m01r61tuvY5",
        "outputId": "505f458c-a5fa-436f-c2c7-b010e34d9a36"
      },
      "source": [
        "#cumsum ?\r\n",
        "\r\n",
        "df.apply(np.cumsum)"
      ],
      "execution_count": 84,
      "outputs": [
        {
          "output_type": "execute_result",
          "data": {
            "text/html": [
              "<div>\n",
              "<style scoped>\n",
              "    .dataframe tbody tr th:only-of-type {\n",
              "        vertical-align: middle;\n",
              "    }\n",
              "\n",
              "    .dataframe tbody tr th {\n",
              "        vertical-align: top;\n",
              "    }\n",
              "\n",
              "    .dataframe thead th {\n",
              "        text-align: right;\n",
              "    }\n",
              "</style>\n",
              "<table border=\"1\" class=\"dataframe\">\n",
              "  <thead>\n",
              "    <tr style=\"text-align: right;\">\n",
              "      <th></th>\n",
              "      <th>A</th>\n",
              "      <th>B</th>\n",
              "      <th>C</th>\n",
              "      <th>D</th>\n",
              "      <th>F</th>\n",
              "    </tr>\n",
              "  </thead>\n",
              "  <tbody>\n",
              "    <tr>\n",
              "      <th>2020-03-03</th>\n",
              "      <td>0.000000</td>\n",
              "      <td>0.000000</td>\n",
              "      <td>0.738314</td>\n",
              "      <td>5</td>\n",
              "      <td>1</td>\n",
              "    </tr>\n",
              "    <tr>\n",
              "      <th>2020-03-04</th>\n",
              "      <td>-0.198992</td>\n",
              "      <td>-0.523496</td>\n",
              "      <td>1.150766</td>\n",
              "      <td>10</td>\n",
              "      <td>3</td>\n",
              "    </tr>\n",
              "    <tr>\n",
              "      <th>2020-03-05</th>\n",
              "      <td>-0.989149</td>\n",
              "      <td>-0.396890</td>\n",
              "      <td>0.861876</td>\n",
              "      <td>15</td>\n",
              "      <td>6</td>\n",
              "    </tr>\n",
              "    <tr>\n",
              "      <th>2020-03-06</th>\n",
              "      <td>0.236019</td>\n",
              "      <td>-2.171186</td>\n",
              "      <td>0.473970</td>\n",
              "      <td>20</td>\n",
              "      <td>10</td>\n",
              "    </tr>\n",
              "    <tr>\n",
              "      <th>2020-03-07</th>\n",
              "      <td>1.541736</td>\n",
              "      <td>-0.824662</td>\n",
              "      <td>2.824218</td>\n",
              "      <td>25</td>\n",
              "      <td>15</td>\n",
              "    </tr>\n",
              "    <tr>\n",
              "      <th>2020-03-08</th>\n",
              "      <td>3.137604</td>\n",
              "      <td>-1.580289</td>\n",
              "      <td>1.266762</td>\n",
              "      <td>30</td>\n",
              "      <td>21</td>\n",
              "    </tr>\n",
              "  </tbody>\n",
              "</table>\n",
              "</div>"
            ],
            "text/plain": [
              "                   A         B         C   D   F\n",
              "2020-03-03  0.000000  0.000000  0.738314   5   1\n",
              "2020-03-04 -0.198992 -0.523496  1.150766  10   3\n",
              "2020-03-05 -0.989149 -0.396890  0.861876  15   6\n",
              "2020-03-06  0.236019 -2.171186  0.473970  20  10\n",
              "2020-03-07  1.541736 -0.824662  2.824218  25  15\n",
              "2020-03-08  3.137604 -1.580289  1.266762  30  21"
            ]
          },
          "metadata": {
            "tags": []
          },
          "execution_count": 84
        }
      ]
    },
    {
      "cell_type": "code",
      "metadata": {
        "colab": {
          "base_uri": "https://localhost:8080/"
        },
        "id": "XjPwh8Z7uvVK",
        "outputId": "6a3a5266-594f-4327-e8d2-66f9bb2a4f4e"
      },
      "source": [
        "df.apply(lambda x: x.max() - x.min())"
      ],
      "execution_count": 85,
      "outputs": [
        {
          "output_type": "execute_result",
          "data": {
            "text/plain": [
              "A    2.386026\n",
              "B    3.120821\n",
              "C    3.907703\n",
              "D    0.000000\n",
              "F    5.000000\n",
              "dtype: float64"
            ]
          },
          "metadata": {
            "tags": []
          },
          "execution_count": 85
        }
      ]
    },
    {
      "cell_type": "code",
      "metadata": {
        "id": "0F3spu06vGkb"
      },
      "source": [
        "s = pd.Series(np.random.randint(0, 7, size=10))"
      ],
      "execution_count": 88,
      "outputs": []
    },
    {
      "cell_type": "code",
      "metadata": {
        "colab": {
          "base_uri": "https://localhost:8080/"
        },
        "id": "6wmvR7AOvIiZ",
        "outputId": "0f26e69a-c221-472c-8071-9b823951cd1a"
      },
      "source": [
        "s"
      ],
      "execution_count": 89,
      "outputs": [
        {
          "output_type": "execute_result",
          "data": {
            "text/plain": [
              "0    1\n",
              "1    4\n",
              "2    0\n",
              "3    2\n",
              "4    4\n",
              "5    5\n",
              "6    3\n",
              "7    5\n",
              "8    1\n",
              "9    3\n",
              "dtype: int64"
            ]
          },
          "metadata": {
            "tags": []
          },
          "execution_count": 89
        }
      ]
    },
    {
      "cell_type": "code",
      "metadata": {
        "colab": {
          "base_uri": "https://localhost:8080/"
        },
        "id": "QAGMPbvKvOCx",
        "outputId": "7fc8cdb3-f454-4aaf-a403-735eb640f851"
      },
      "source": [
        "s.value_counts()"
      ],
      "execution_count": 90,
      "outputs": [
        {
          "output_type": "execute_result",
          "data": {
            "text/plain": [
              "5    2\n",
              "4    2\n",
              "3    2\n",
              "1    2\n",
              "2    1\n",
              "0    1\n",
              "dtype: int64"
            ]
          },
          "metadata": {
            "tags": []
          },
          "execution_count": 90
        }
      ]
    },
    {
      "cell_type": "code",
      "metadata": {
        "id": "RC5L4tOQvTpb"
      },
      "source": [
        "s = pd.Series([\"A\", \"B\", \"C\", \"Aaba\", \"Baca\", np.nan, \"CABA\", \"dog\", \"cat\"])"
      ],
      "execution_count": 91,
      "outputs": []
    },
    {
      "cell_type": "code",
      "metadata": {
        "colab": {
          "base_uri": "https://localhost:8080/"
        },
        "id": "oOwq-6B9vVt8",
        "outputId": "e5b92cd4-72c6-4d05-cc41-45bf7e847e01"
      },
      "source": [
        "s.str.lower()"
      ],
      "execution_count": 92,
      "outputs": [
        {
          "output_type": "execute_result",
          "data": {
            "text/plain": [
              "0       a\n",
              "1       b\n",
              "2       c\n",
              "3    aaba\n",
              "4    baca\n",
              "5     NaN\n",
              "6    caba\n",
              "7     dog\n",
              "8     cat\n",
              "dtype: object"
            ]
          },
          "metadata": {
            "tags": []
          },
          "execution_count": 92
        }
      ]
    },
    {
      "cell_type": "markdown",
      "metadata": {
        "id": "T7Oq3VXgvcA0"
      },
      "source": [
        "# Merge"
      ]
    }
  ]
}