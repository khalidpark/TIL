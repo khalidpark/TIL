{
  "nbformat": 4,
  "nbformat_minor": 0,
  "metadata": {
    "colab": {
      "name": "10minutes_pandas.ipynb",
      "provenance": [],
      "collapsed_sections": [],
      "authorship_tag": "ABX9TyPkFCZOi1G0mQtkyTIXoaHH",
      "include_colab_link": true
    },
    "kernelspec": {
      "name": "python3",
      "display_name": "Python 3"
    }
  },
  "cells": [
    {
      "cell_type": "markdown",
      "metadata": {
        "id": "view-in-github",
        "colab_type": "text"
      },
      "source": [
        "<a href=\"https://colab.research.google.com/github/khalidpark/TIL-and-TIW/blob/main/10minutes_pandas/10minutes_pandas.ipynb\" target=\"_parent\"><img src=\"https://colab.research.google.com/assets/colab-badge.svg\" alt=\"Open In Colab\"/></a>"
      ]
    },
    {
      "cell_type": "code",
      "metadata": {
        "id": "1XnCIOJgbwOI"
      },
      "source": [
        "import numpy as np\r\n",
        "import pandas as pd"
      ],
      "execution_count": 1,
      "outputs": []
    },
    {
      "cell_type": "code",
      "metadata": {
        "id": "R-u-htkfc5pz"
      },
      "source": [
        "s = pd.Series([1, 3, 5, np.nan, 6, 8])"
      ],
      "execution_count": 2,
      "outputs": []
    },
    {
      "cell_type": "code",
      "metadata": {
        "colab": {
          "base_uri": "https://localhost:8080/"
        },
        "id": "-AdXqK6Zc7EK",
        "outputId": "e6469cd9-8560-4676-b636-bdb845285b10"
      },
      "source": [
        "s"
      ],
      "execution_count": 3,
      "outputs": [
        {
          "output_type": "execute_result",
          "data": {
            "text/plain": [
              "0    1.0\n",
              "1    3.0\n",
              "2    5.0\n",
              "3    NaN\n",
              "4    6.0\n",
              "5    8.0\n",
              "dtype: float64"
            ]
          },
          "metadata": {
            "tags": []
          },
          "execution_count": 3
        }
      ]
    },
    {
      "cell_type": "code",
      "metadata": {
        "id": "GTJ2EScZc-jm"
      },
      "source": [
        "dates = pd.date_range(\"20200303\", periods=6)"
      ],
      "execution_count": 6,
      "outputs": []
    },
    {
      "cell_type": "code",
      "metadata": {
        "colab": {
          "base_uri": "https://localhost:8080/"
        },
        "id": "aJOl07VLc_7S",
        "outputId": "9649aea6-a232-478c-bd16-fdb4fb7504ba"
      },
      "source": [
        "dates"
      ],
      "execution_count": 7,
      "outputs": [
        {
          "output_type": "execute_result",
          "data": {
            "text/plain": [
              "DatetimeIndex(['2020-03-03', '2020-03-04', '2020-03-05', '2020-03-06',\n",
              "               '2020-03-07', '2020-03-08'],\n",
              "              dtype='datetime64[ns]', freq='D')"
            ]
          },
          "metadata": {
            "tags": []
          },
          "execution_count": 7
        }
      ]
    },
    {
      "cell_type": "code",
      "metadata": {
        "id": "Djncc5WfdFF1"
      },
      "source": [
        "df = pd.DataFrame(np.random.randn(6, 4), index=dates, columns=list(\"ABCD\"))"
      ],
      "execution_count": 8,
      "outputs": []
    },
    {
      "cell_type": "code",
      "metadata": {
        "colab": {
          "base_uri": "https://localhost:8080/",
          "height": 225
        },
        "id": "9o_AXQHMdHgE",
        "outputId": "abbe7f02-3984-4ced-e775-d81b2ee6302b"
      },
      "source": [
        "df"
      ],
      "execution_count": 9,
      "outputs": [
        {
          "output_type": "execute_result",
          "data": {
            "text/html": [
              "<div>\n",
              "<style scoped>\n",
              "    .dataframe tbody tr th:only-of-type {\n",
              "        vertical-align: middle;\n",
              "    }\n",
              "\n",
              "    .dataframe tbody tr th {\n",
              "        vertical-align: top;\n",
              "    }\n",
              "\n",
              "    .dataframe thead th {\n",
              "        text-align: right;\n",
              "    }\n",
              "</style>\n",
              "<table border=\"1\" class=\"dataframe\">\n",
              "  <thead>\n",
              "    <tr style=\"text-align: right;\">\n",
              "      <th></th>\n",
              "      <th>A</th>\n",
              "      <th>B</th>\n",
              "      <th>C</th>\n",
              "      <th>D</th>\n",
              "    </tr>\n",
              "  </thead>\n",
              "  <tbody>\n",
              "    <tr>\n",
              "      <th>2020-03-03</th>\n",
              "      <td>-0.342181</td>\n",
              "      <td>0.584286</td>\n",
              "      <td>0.339668</td>\n",
              "      <td>0.535086</td>\n",
              "    </tr>\n",
              "    <tr>\n",
              "      <th>2020-03-04</th>\n",
              "      <td>0.063037</td>\n",
              "      <td>1.691796</td>\n",
              "      <td>1.407219</td>\n",
              "      <td>-0.458144</td>\n",
              "    </tr>\n",
              "    <tr>\n",
              "      <th>2020-03-05</th>\n",
              "      <td>-0.425881</td>\n",
              "      <td>0.042158</td>\n",
              "      <td>0.831532</td>\n",
              "      <td>-0.689215</td>\n",
              "    </tr>\n",
              "    <tr>\n",
              "      <th>2020-03-06</th>\n",
              "      <td>-2.486717</td>\n",
              "      <td>0.482632</td>\n",
              "      <td>-0.768871</td>\n",
              "      <td>-0.586830</td>\n",
              "    </tr>\n",
              "    <tr>\n",
              "      <th>2020-03-07</th>\n",
              "      <td>0.071472</td>\n",
              "      <td>-0.099634</td>\n",
              "      <td>0.289024</td>\n",
              "      <td>-0.327808</td>\n",
              "    </tr>\n",
              "    <tr>\n",
              "      <th>2020-03-08</th>\n",
              "      <td>-0.024211</td>\n",
              "      <td>0.565103</td>\n",
              "      <td>-0.060333</td>\n",
              "      <td>0.143922</td>\n",
              "    </tr>\n",
              "  </tbody>\n",
              "</table>\n",
              "</div>"
            ],
            "text/plain": [
              "                   A         B         C         D\n",
              "2020-03-03 -0.342181  0.584286  0.339668  0.535086\n",
              "2020-03-04  0.063037  1.691796  1.407219 -0.458144\n",
              "2020-03-05 -0.425881  0.042158  0.831532 -0.689215\n",
              "2020-03-06 -2.486717  0.482632 -0.768871 -0.586830\n",
              "2020-03-07  0.071472 -0.099634  0.289024 -0.327808\n",
              "2020-03-08 -0.024211  0.565103 -0.060333  0.143922"
            ]
          },
          "metadata": {
            "tags": []
          },
          "execution_count": 9
        }
      ]
    },
    {
      "cell_type": "code",
      "metadata": {
        "id": "xJQt6jfvdKgd"
      },
      "source": [
        "#데이터프레임 데이터 생성하는 여러가지 방법\r\n",
        "\r\n",
        "\r\n",
        "df2 = pd.DataFrame(\r\n",
        "        {\r\n",
        "            \"A\": 1.0,\r\n",
        "            \"B\": pd.Timestamp(\"20130102\"),\r\n",
        "            \"C\": pd.Series(1, index=list(range(4)), dtype=\"float32\"),\r\n",
        "            \"D\": np.array([3] * 4, dtype=\"int32\"),\r\n",
        "            \"E\": pd.Categorical([\"test\", \"train\", \"test\", \"train\"]),\r\n",
        "            \"F\": \"foo\",\r\n",
        "        }\r\n",
        "    )"
      ],
      "execution_count": 11,
      "outputs": []
    },
    {
      "cell_type": "code",
      "metadata": {
        "colab": {
          "base_uri": "https://localhost:8080/",
          "height": 166
        },
        "id": "MfpmAPN3dVyB",
        "outputId": "ef915717-1844-4673-e1bd-aaf7779effe1"
      },
      "source": [
        " df2"
      ],
      "execution_count": 12,
      "outputs": [
        {
          "output_type": "execute_result",
          "data": {
            "text/html": [
              "<div>\n",
              "<style scoped>\n",
              "    .dataframe tbody tr th:only-of-type {\n",
              "        vertical-align: middle;\n",
              "    }\n",
              "\n",
              "    .dataframe tbody tr th {\n",
              "        vertical-align: top;\n",
              "    }\n",
              "\n",
              "    .dataframe thead th {\n",
              "        text-align: right;\n",
              "    }\n",
              "</style>\n",
              "<table border=\"1\" class=\"dataframe\">\n",
              "  <thead>\n",
              "    <tr style=\"text-align: right;\">\n",
              "      <th></th>\n",
              "      <th>A</th>\n",
              "      <th>B</th>\n",
              "      <th>C</th>\n",
              "      <th>D</th>\n",
              "      <th>E</th>\n",
              "      <th>F</th>\n",
              "    </tr>\n",
              "  </thead>\n",
              "  <tbody>\n",
              "    <tr>\n",
              "      <th>0</th>\n",
              "      <td>1.0</td>\n",
              "      <td>2013-01-02</td>\n",
              "      <td>1.0</td>\n",
              "      <td>3</td>\n",
              "      <td>test</td>\n",
              "      <td>foo</td>\n",
              "    </tr>\n",
              "    <tr>\n",
              "      <th>1</th>\n",
              "      <td>1.0</td>\n",
              "      <td>2013-01-02</td>\n",
              "      <td>1.0</td>\n",
              "      <td>3</td>\n",
              "      <td>train</td>\n",
              "      <td>foo</td>\n",
              "    </tr>\n",
              "    <tr>\n",
              "      <th>2</th>\n",
              "      <td>1.0</td>\n",
              "      <td>2013-01-02</td>\n",
              "      <td>1.0</td>\n",
              "      <td>3</td>\n",
              "      <td>test</td>\n",
              "      <td>foo</td>\n",
              "    </tr>\n",
              "    <tr>\n",
              "      <th>3</th>\n",
              "      <td>1.0</td>\n",
              "      <td>2013-01-02</td>\n",
              "      <td>1.0</td>\n",
              "      <td>3</td>\n",
              "      <td>train</td>\n",
              "      <td>foo</td>\n",
              "    </tr>\n",
              "  </tbody>\n",
              "</table>\n",
              "</div>"
            ],
            "text/plain": [
              "     A          B    C  D      E    F\n",
              "0  1.0 2013-01-02  1.0  3   test  foo\n",
              "1  1.0 2013-01-02  1.0  3  train  foo\n",
              "2  1.0 2013-01-02  1.0  3   test  foo\n",
              "3  1.0 2013-01-02  1.0  3  train  foo"
            ]
          },
          "metadata": {
            "tags": []
          },
          "execution_count": 12
        }
      ]
    },
    {
      "cell_type": "code",
      "metadata": {
        "colab": {
          "base_uri": "https://localhost:8080/"
        },
        "id": "cS56Y44BdfiQ",
        "outputId": "c1023e47-48e9-459f-d71e-31b55846a97f"
      },
      "source": [
        "#dtypes 확인하고싶을때\r\n",
        "df2.dtypes"
      ],
      "execution_count": 13,
      "outputs": [
        {
          "output_type": "execute_result",
          "data": {
            "text/plain": [
              "A           float64\n",
              "B    datetime64[ns]\n",
              "C           float32\n",
              "D             int32\n",
              "E          category\n",
              "F            object\n",
              "dtype: object"
            ]
          },
          "metadata": {
            "tags": []
          },
          "execution_count": 13
        }
      ]
    },
    {
      "cell_type": "code",
      "metadata": {
        "colab": {
          "base_uri": "https://localhost:8080/"
        },
        "id": "C0K4Nj7Rdjnw",
        "outputId": "4a58217a-a79c-4f71-a604-d316dfee72ba"
      },
      "source": [
        "df2.A"
      ],
      "execution_count": 15,
      "outputs": [
        {
          "output_type": "execute_result",
          "data": {
            "text/plain": [
              "0    1.0\n",
              "1    1.0\n",
              "2    1.0\n",
              "3    1.0\n",
              "Name: A, dtype: float64"
            ]
          },
          "metadata": {
            "tags": []
          },
          "execution_count": 15
        }
      ]
    },
    {
      "cell_type": "code",
      "metadata": {
        "colab": {
          "base_uri": "https://localhost:8080/",
          "height": 195
        },
        "id": "DrRQsAU0drlm",
        "outputId": "68d75d37-9caf-4dbf-f77d-3ba27a2216aa"
      },
      "source": [
        "df.head()"
      ],
      "execution_count": 16,
      "outputs": [
        {
          "output_type": "execute_result",
          "data": {
            "text/html": [
              "<div>\n",
              "<style scoped>\n",
              "    .dataframe tbody tr th:only-of-type {\n",
              "        vertical-align: middle;\n",
              "    }\n",
              "\n",
              "    .dataframe tbody tr th {\n",
              "        vertical-align: top;\n",
              "    }\n",
              "\n",
              "    .dataframe thead th {\n",
              "        text-align: right;\n",
              "    }\n",
              "</style>\n",
              "<table border=\"1\" class=\"dataframe\">\n",
              "  <thead>\n",
              "    <tr style=\"text-align: right;\">\n",
              "      <th></th>\n",
              "      <th>A</th>\n",
              "      <th>B</th>\n",
              "      <th>C</th>\n",
              "      <th>D</th>\n",
              "    </tr>\n",
              "  </thead>\n",
              "  <tbody>\n",
              "    <tr>\n",
              "      <th>2020-03-03</th>\n",
              "      <td>-0.342181</td>\n",
              "      <td>0.584286</td>\n",
              "      <td>0.339668</td>\n",
              "      <td>0.535086</td>\n",
              "    </tr>\n",
              "    <tr>\n",
              "      <th>2020-03-04</th>\n",
              "      <td>0.063037</td>\n",
              "      <td>1.691796</td>\n",
              "      <td>1.407219</td>\n",
              "      <td>-0.458144</td>\n",
              "    </tr>\n",
              "    <tr>\n",
              "      <th>2020-03-05</th>\n",
              "      <td>-0.425881</td>\n",
              "      <td>0.042158</td>\n",
              "      <td>0.831532</td>\n",
              "      <td>-0.689215</td>\n",
              "    </tr>\n",
              "    <tr>\n",
              "      <th>2020-03-06</th>\n",
              "      <td>-2.486717</td>\n",
              "      <td>0.482632</td>\n",
              "      <td>-0.768871</td>\n",
              "      <td>-0.586830</td>\n",
              "    </tr>\n",
              "    <tr>\n",
              "      <th>2020-03-07</th>\n",
              "      <td>0.071472</td>\n",
              "      <td>-0.099634</td>\n",
              "      <td>0.289024</td>\n",
              "      <td>-0.327808</td>\n",
              "    </tr>\n",
              "  </tbody>\n",
              "</table>\n",
              "</div>"
            ],
            "text/plain": [
              "                   A         B         C         D\n",
              "2020-03-03 -0.342181  0.584286  0.339668  0.535086\n",
              "2020-03-04  0.063037  1.691796  1.407219 -0.458144\n",
              "2020-03-05 -0.425881  0.042158  0.831532 -0.689215\n",
              "2020-03-06 -2.486717  0.482632 -0.768871 -0.586830\n",
              "2020-03-07  0.071472 -0.099634  0.289024 -0.327808"
            ]
          },
          "metadata": {
            "tags": []
          },
          "execution_count": 16
        }
      ]
    },
    {
      "cell_type": "code",
      "metadata": {
        "colab": {
          "base_uri": "https://localhost:8080/",
          "height": 136
        },
        "id": "FM3_9bmzdteX",
        "outputId": "8dcc2bed-8088-4862-9edc-bd0c5257aa22"
      },
      "source": [
        "#뒤쪽보고싶을때\r\n",
        "df.tail(3)"
      ],
      "execution_count": 17,
      "outputs": [
        {
          "output_type": "execute_result",
          "data": {
            "text/html": [
              "<div>\n",
              "<style scoped>\n",
              "    .dataframe tbody tr th:only-of-type {\n",
              "        vertical-align: middle;\n",
              "    }\n",
              "\n",
              "    .dataframe tbody tr th {\n",
              "        vertical-align: top;\n",
              "    }\n",
              "\n",
              "    .dataframe thead th {\n",
              "        text-align: right;\n",
              "    }\n",
              "</style>\n",
              "<table border=\"1\" class=\"dataframe\">\n",
              "  <thead>\n",
              "    <tr style=\"text-align: right;\">\n",
              "      <th></th>\n",
              "      <th>A</th>\n",
              "      <th>B</th>\n",
              "      <th>C</th>\n",
              "      <th>D</th>\n",
              "    </tr>\n",
              "  </thead>\n",
              "  <tbody>\n",
              "    <tr>\n",
              "      <th>2020-03-06</th>\n",
              "      <td>-2.486717</td>\n",
              "      <td>0.482632</td>\n",
              "      <td>-0.768871</td>\n",
              "      <td>-0.586830</td>\n",
              "    </tr>\n",
              "    <tr>\n",
              "      <th>2020-03-07</th>\n",
              "      <td>0.071472</td>\n",
              "      <td>-0.099634</td>\n",
              "      <td>0.289024</td>\n",
              "      <td>-0.327808</td>\n",
              "    </tr>\n",
              "    <tr>\n",
              "      <th>2020-03-08</th>\n",
              "      <td>-0.024211</td>\n",
              "      <td>0.565103</td>\n",
              "      <td>-0.060333</td>\n",
              "      <td>0.143922</td>\n",
              "    </tr>\n",
              "  </tbody>\n",
              "</table>\n",
              "</div>"
            ],
            "text/plain": [
              "                   A         B         C         D\n",
              "2020-03-06 -2.486717  0.482632 -0.768871 -0.586830\n",
              "2020-03-07  0.071472 -0.099634  0.289024 -0.327808\n",
              "2020-03-08 -0.024211  0.565103 -0.060333  0.143922"
            ]
          },
          "metadata": {
            "tags": []
          },
          "execution_count": 17
        }
      ]
    },
    {
      "cell_type": "code",
      "metadata": {
        "colab": {
          "base_uri": "https://localhost:8080/"
        },
        "id": "7Qb4pmeqdxEF",
        "outputId": "2ffe1e0e-ae1d-4f0a-a097-130785d3570a"
      },
      "source": [
        "df.index"
      ],
      "execution_count": 18,
      "outputs": [
        {
          "output_type": "execute_result",
          "data": {
            "text/plain": [
              "DatetimeIndex(['2020-03-03', '2020-03-04', '2020-03-05', '2020-03-06',\n",
              "               '2020-03-07', '2020-03-08'],\n",
              "              dtype='datetime64[ns]', freq='D')"
            ]
          },
          "metadata": {
            "tags": []
          },
          "execution_count": 18
        }
      ]
    },
    {
      "cell_type": "code",
      "metadata": {
        "colab": {
          "base_uri": "https://localhost:8080/"
        },
        "id": "hD0IsLY-d1qN",
        "outputId": "c81cb786-4318-48f1-8320-8cac6009add1"
      },
      "source": [
        "df.columns"
      ],
      "execution_count": 19,
      "outputs": [
        {
          "output_type": "execute_result",
          "data": {
            "text/plain": [
              "Index(['A', 'B', 'C', 'D'], dtype='object')"
            ]
          },
          "metadata": {
            "tags": []
          },
          "execution_count": 19
        }
      ]
    },
    {
      "cell_type": "code",
      "metadata": {
        "colab": {
          "base_uri": "https://localhost:8080/"
        },
        "id": "ztmzEsOcd4Ip",
        "outputId": "d8929330-ae56-43ad-d0d4-6206863a070c"
      },
      "source": [
        "df.to_numpy()"
      ],
      "execution_count": 20,
      "outputs": [
        {
          "output_type": "execute_result",
          "data": {
            "text/plain": [
              "array([[-0.34218134,  0.58428561,  0.33966818,  0.53508604],\n",
              "       [ 0.0630365 ,  1.69179602,  1.40721946, -0.45814389],\n",
              "       [-0.42588067,  0.04215841,  0.83153188, -0.6892154 ],\n",
              "       [-2.48671666,  0.48263238, -0.76887094, -0.58683011],\n",
              "       [ 0.07147234, -0.09963371,  0.28902384, -0.32780764],\n",
              "       [-0.02421083,  0.56510349, -0.06033282,  0.14392158]])"
            ]
          },
          "metadata": {
            "tags": []
          },
          "execution_count": 20
        }
      ]
    },
    {
      "cell_type": "code",
      "metadata": {
        "colab": {
          "base_uri": "https://localhost:8080/"
        },
        "id": "M0i1m1Obd6Vy",
        "outputId": "5ec3de90-8be1-4250-a70f-c9df78058088"
      },
      "source": [
        "df2.to_numpy()"
      ],
      "execution_count": 21,
      "outputs": [
        {
          "output_type": "execute_result",
          "data": {
            "text/plain": [
              "array([[1.0, Timestamp('2013-01-02 00:00:00'), 1.0, 3, 'test', 'foo'],\n",
              "       [1.0, Timestamp('2013-01-02 00:00:00'), 1.0, 3, 'train', 'foo'],\n",
              "       [1.0, Timestamp('2013-01-02 00:00:00'), 1.0, 3, 'test', 'foo'],\n",
              "       [1.0, Timestamp('2013-01-02 00:00:00'), 1.0, 3, 'train', 'foo']],\n",
              "      dtype=object)"
            ]
          },
          "metadata": {
            "tags": []
          },
          "execution_count": 21
        }
      ]
    },
    {
      "cell_type": "code",
      "metadata": {
        "colab": {
          "base_uri": "https://localhost:8080/",
          "height": 284
        },
        "id": "GOb9Eup-d8ck",
        "outputId": "22c109f5-2d9c-4345-e85a-5c94bfd5bd5c"
      },
      "source": [
        "#개요\r\n",
        "df.describe()"
      ],
      "execution_count": 22,
      "outputs": [
        {
          "output_type": "execute_result",
          "data": {
            "text/html": [
              "<div>\n",
              "<style scoped>\n",
              "    .dataframe tbody tr th:only-of-type {\n",
              "        vertical-align: middle;\n",
              "    }\n",
              "\n",
              "    .dataframe tbody tr th {\n",
              "        vertical-align: top;\n",
              "    }\n",
              "\n",
              "    .dataframe thead th {\n",
              "        text-align: right;\n",
              "    }\n",
              "</style>\n",
              "<table border=\"1\" class=\"dataframe\">\n",
              "  <thead>\n",
              "    <tr style=\"text-align: right;\">\n",
              "      <th></th>\n",
              "      <th>A</th>\n",
              "      <th>B</th>\n",
              "      <th>C</th>\n",
              "      <th>D</th>\n",
              "    </tr>\n",
              "  </thead>\n",
              "  <tbody>\n",
              "    <tr>\n",
              "      <th>count</th>\n",
              "      <td>6.000000</td>\n",
              "      <td>6.000000</td>\n",
              "      <td>6.000000</td>\n",
              "      <td>6.000000</td>\n",
              "    </tr>\n",
              "    <tr>\n",
              "      <th>mean</th>\n",
              "      <td>-0.524080</td>\n",
              "      <td>0.544390</td>\n",
              "      <td>0.339707</td>\n",
              "      <td>-0.230498</td>\n",
              "    </tr>\n",
              "    <tr>\n",
              "      <th>std</th>\n",
              "      <td>0.984269</td>\n",
              "      <td>0.630774</td>\n",
              "      <td>0.744717</td>\n",
              "      <td>0.474341</td>\n",
              "    </tr>\n",
              "    <tr>\n",
              "      <th>min</th>\n",
              "      <td>-2.486717</td>\n",
              "      <td>-0.099634</td>\n",
              "      <td>-0.768871</td>\n",
              "      <td>-0.689215</td>\n",
              "    </tr>\n",
              "    <tr>\n",
              "      <th>25%</th>\n",
              "      <td>-0.404956</td>\n",
              "      <td>0.152277</td>\n",
              "      <td>0.027006</td>\n",
              "      <td>-0.554659</td>\n",
              "    </tr>\n",
              "    <tr>\n",
              "      <th>50%</th>\n",
              "      <td>-0.183196</td>\n",
              "      <td>0.523868</td>\n",
              "      <td>0.314346</td>\n",
              "      <td>-0.392976</td>\n",
              "    </tr>\n",
              "    <tr>\n",
              "      <th>75%</th>\n",
              "      <td>0.041225</td>\n",
              "      <td>0.579490</td>\n",
              "      <td>0.708566</td>\n",
              "      <td>0.025989</td>\n",
              "    </tr>\n",
              "    <tr>\n",
              "      <th>max</th>\n",
              "      <td>0.071472</td>\n",
              "      <td>1.691796</td>\n",
              "      <td>1.407219</td>\n",
              "      <td>0.535086</td>\n",
              "    </tr>\n",
              "  </tbody>\n",
              "</table>\n",
              "</div>"
            ],
            "text/plain": [
              "              A         B         C         D\n",
              "count  6.000000  6.000000  6.000000  6.000000\n",
              "mean  -0.524080  0.544390  0.339707 -0.230498\n",
              "std    0.984269  0.630774  0.744717  0.474341\n",
              "min   -2.486717 -0.099634 -0.768871 -0.689215\n",
              "25%   -0.404956  0.152277  0.027006 -0.554659\n",
              "50%   -0.183196  0.523868  0.314346 -0.392976\n",
              "75%    0.041225  0.579490  0.708566  0.025989\n",
              "max    0.071472  1.691796  1.407219  0.535086"
            ]
          },
          "metadata": {
            "tags": []
          },
          "execution_count": 22
        }
      ]
    },
    {
      "cell_type": "code",
      "metadata": {
        "colab": {
          "base_uri": "https://localhost:8080/",
          "height": 166
        },
        "id": "ieg34uSBd_VE",
        "outputId": "d0e76390-db2e-4071-d303-c4743e799296"
      },
      "source": [
        "#전환\r\n",
        "df.T"
      ],
      "execution_count": 23,
      "outputs": [
        {
          "output_type": "execute_result",
          "data": {
            "text/html": [
              "<div>\n",
              "<style scoped>\n",
              "    .dataframe tbody tr th:only-of-type {\n",
              "        vertical-align: middle;\n",
              "    }\n",
              "\n",
              "    .dataframe tbody tr th {\n",
              "        vertical-align: top;\n",
              "    }\n",
              "\n",
              "    .dataframe thead th {\n",
              "        text-align: right;\n",
              "    }\n",
              "</style>\n",
              "<table border=\"1\" class=\"dataframe\">\n",
              "  <thead>\n",
              "    <tr style=\"text-align: right;\">\n",
              "      <th></th>\n",
              "      <th>2020-03-03</th>\n",
              "      <th>2020-03-04</th>\n",
              "      <th>2020-03-05</th>\n",
              "      <th>2020-03-06</th>\n",
              "      <th>2020-03-07</th>\n",
              "      <th>2020-03-08</th>\n",
              "    </tr>\n",
              "  </thead>\n",
              "  <tbody>\n",
              "    <tr>\n",
              "      <th>A</th>\n",
              "      <td>-0.342181</td>\n",
              "      <td>0.063037</td>\n",
              "      <td>-0.425881</td>\n",
              "      <td>-2.486717</td>\n",
              "      <td>0.071472</td>\n",
              "      <td>-0.024211</td>\n",
              "    </tr>\n",
              "    <tr>\n",
              "      <th>B</th>\n",
              "      <td>0.584286</td>\n",
              "      <td>1.691796</td>\n",
              "      <td>0.042158</td>\n",
              "      <td>0.482632</td>\n",
              "      <td>-0.099634</td>\n",
              "      <td>0.565103</td>\n",
              "    </tr>\n",
              "    <tr>\n",
              "      <th>C</th>\n",
              "      <td>0.339668</td>\n",
              "      <td>1.407219</td>\n",
              "      <td>0.831532</td>\n",
              "      <td>-0.768871</td>\n",
              "      <td>0.289024</td>\n",
              "      <td>-0.060333</td>\n",
              "    </tr>\n",
              "    <tr>\n",
              "      <th>D</th>\n",
              "      <td>0.535086</td>\n",
              "      <td>-0.458144</td>\n",
              "      <td>-0.689215</td>\n",
              "      <td>-0.586830</td>\n",
              "      <td>-0.327808</td>\n",
              "      <td>0.143922</td>\n",
              "    </tr>\n",
              "  </tbody>\n",
              "</table>\n",
              "</div>"
            ],
            "text/plain": [
              "   2020-03-03  2020-03-04  2020-03-05  2020-03-06  2020-03-07  2020-03-08\n",
              "A   -0.342181    0.063037   -0.425881   -2.486717    0.071472   -0.024211\n",
              "B    0.584286    1.691796    0.042158    0.482632   -0.099634    0.565103\n",
              "C    0.339668    1.407219    0.831532   -0.768871    0.289024   -0.060333\n",
              "D    0.535086   -0.458144   -0.689215   -0.586830   -0.327808    0.143922"
            ]
          },
          "metadata": {
            "tags": []
          },
          "execution_count": 23
        }
      ]
    }
  ]
}