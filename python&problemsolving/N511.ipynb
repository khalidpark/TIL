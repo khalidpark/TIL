{
  "nbformat": 4,
  "nbformat_minor": 0,
  "metadata": {
    "colab": {
      "name": "N511.ipynb",
      "provenance": [],
      "collapsed_sections": [],
      "toc_visible": true,
      "authorship_tag": "ABX9TyNE/+01Qr7FPOUlSj3/zCRC",
      "include_colab_link": true
    },
    "kernelspec": {
      "name": "python3",
      "display_name": "Python 3"
    },
    "language_info": {
      "name": "python"
    }
  },
  "cells": [
    {
      "cell_type": "markdown",
      "metadata": {
        "id": "view-in-github",
        "colab_type": "text"
      },
      "source": [
        "<a href=\"https://colab.research.google.com/github/khalidpark/TIL-and-TIW/blob/main/python%26problemsolving/N511.ipynb\" target=\"_parent\"><img src=\"https://colab.research.google.com/assets/colab-badge.svg\" alt=\"Open In Colab\"/></a>"
      ]
    },
    {
      "cell_type": "markdown",
      "metadata": {
        "id": "y99Exyp6LLo7"
      },
      "source": [
        "# 정규표현식"
      ]
    },
    {
      "cell_type": "code",
      "metadata": {
        "colab": {
          "base_uri": "https://localhost:8080/"
        },
        "id": "kkLRlGYRJYUK",
        "outputId": "0f9b4f1a-ff5f-4eb5-c4dc-33f524f36e54"
      },
      "source": [
        "# 정규표현식 라이브러리\n",
        "import re\n",
        "\n",
        "wordlist = [\"color\", \"colour\", \"work\", \"working\",\n",
        "            \"fox\", \"worker\", \"working\"]\n",
        "\n",
        "for word in wordlist:\n",
        "        if re.search('col.r', word) : \n",
        "                print (word)\n"
      ],
      "execution_count": null,
      "outputs": [
        {
          "output_type": "stream",
          "text": [
            "color\n"
          ],
          "name": "stdout"
        }
      ]
    },
    {
      "cell_type": "code",
      "metadata": {
        "colab": {
          "base_uri": "https://localhost:8080/"
        },
        "id": "VP3f1RS_KLzT",
        "outputId": "1558d5c0-ed2b-43c4-d6ab-c956c52f5eb6"
      },
      "source": [
        "import re\n",
        "\n",
        "wordlist = [\"color\", \"colour\", \"work\", \"working\",\n",
        "            \"fox\", \"worker\", \"working\"]\n",
        "\n",
        "for word in wordlist:\n",
        "        if re.search('work.ng', word) : \n",
        "                print (word)"
      ],
      "execution_count": null,
      "outputs": [
        {
          "output_type": "stream",
          "text": [
            "working\n",
            "working\n"
          ],
          "name": "stdout"
        }
      ]
    },
    {
      "cell_type": "markdown",
      "metadata": {
        "id": "QZ195xuZKQjT"
      },
      "source": [
        " . 은 빈칸을 의미\n",
        "\n",
        " re.search 함수는 문자열의 처음뿐 아니라 중간부터라도 패턴과 일치되는 부분이 있는지를 찾는다."
      ]
    },
    {
      "cell_type": "markdown",
      "metadata": {
        "id": "X7inBGsLKWTs"
      },
      "source": [
        "\n",
        "\n",
        "---\n",
        "\n"
      ]
    },
    {
      "cell_type": "code",
      "metadata": {
        "colab": {
          "base_uri": "https://localhost:8080/",
          "height": 262
        },
        "id": "2--KQt83KX3b",
        "outputId": "9a03a99e-36f4-49d6-8788-61be1b0a5291"
      },
      "source": [
        "regular_expressions = '<html><head><title>Title</title>'\n",
        "print(len(regular_expressions))\n",
        "\n",
        "print(re.match('<.*>', regular_expressions).span())\n",
        "\n",
        "print(re.match('<.*>', regular_expressions).group())\n",
        "\n",
        "print(re.match('<*>', regular_expressions).group())\n"
      ],
      "execution_count": null,
      "outputs": [
        {
          "output_type": "stream",
          "text": [
            "32\n",
            "(0, 32)\n",
            "<html><head><title>Title</title>\n"
          ],
          "name": "stdout"
        },
        {
          "output_type": "error",
          "ename": "AttributeError",
          "evalue": "ignored",
          "traceback": [
            "\u001b[0;31m---------------------------------------------------------------------------\u001b[0m",
            "\u001b[0;31mAttributeError\u001b[0m                            Traceback (most recent call last)",
            "\u001b[0;32m<ipython-input-13-b61b743bc51d>\u001b[0m in \u001b[0;36m<module>\u001b[0;34m()\u001b[0m\n\u001b[1;32m      6\u001b[0m \u001b[0mprint\u001b[0m\u001b[0;34m(\u001b[0m\u001b[0mre\u001b[0m\u001b[0;34m.\u001b[0m\u001b[0mmatch\u001b[0m\u001b[0;34m(\u001b[0m\u001b[0;34m'<.*>'\u001b[0m\u001b[0;34m,\u001b[0m \u001b[0mregular_expressions\u001b[0m\u001b[0;34m)\u001b[0m\u001b[0;34m.\u001b[0m\u001b[0mgroup\u001b[0m\u001b[0;34m(\u001b[0m\u001b[0;34m)\u001b[0m\u001b[0;34m)\u001b[0m\u001b[0;34m\u001b[0m\u001b[0;34m\u001b[0m\u001b[0m\n\u001b[1;32m      7\u001b[0m \u001b[0;34m\u001b[0m\u001b[0m\n\u001b[0;32m----> 8\u001b[0;31m \u001b[0mprint\u001b[0m\u001b[0;34m(\u001b[0m\u001b[0mre\u001b[0m\u001b[0;34m.\u001b[0m\u001b[0mmatch\u001b[0m\u001b[0;34m(\u001b[0m\u001b[0;34m'<*>'\u001b[0m\u001b[0;34m,\u001b[0m \u001b[0mregular_expressions\u001b[0m\u001b[0;34m)\u001b[0m\u001b[0;34m.\u001b[0m\u001b[0mgroup\u001b[0m\u001b[0;34m(\u001b[0m\u001b[0;34m)\u001b[0m\u001b[0;34m)\u001b[0m\u001b[0;34m\u001b[0m\u001b[0;34m\u001b[0m\u001b[0m\n\u001b[0m",
            "\u001b[0;31mAttributeError\u001b[0m: 'NoneType' object has no attribute 'group'"
          ]
        }
      ]
    },
    {
      "cell_type": "code",
      "metadata": {
        "colab": {
          "base_uri": "https://localhost:8080/"
        },
        "id": "41BHcQbjK2Bi",
        "outputId": "e74b704f-bce4-4cd4-e87e-d90515df89a1"
      },
      "source": [
        "# case 1\n",
        "pat = re.compile(r\"\"\"\n",
        " \\s*                 # Skip leading whitespace\n",
        " (?P<header>[^:]+)   # Header name\n",
        " \\s* :               # Whitespace, and a colon\n",
        " (?P<value>.*?)      # The header's value -- *? used to\n",
        "                     # lose the following trailing whitespace\n",
        " \\s*$                # Trailing whitespace to end-of-line\n",
        "\"\"\", re.VERBOSE)\n",
        "\n",
        "print(pat)\n"
      ],
      "execution_count": null,
      "outputs": [
        {
          "output_type": "stream",
          "text": [
            "re.compile(\"\\n \\\\s*                 # Skip leading whitespace\\n (?P<header>[^:]+)   # Header name\\n \\\\s* :               # Whitespace, and a colon\\n (?P<value>.*?)      # The header's value -- *? used to\\n      , re.VERBOSE)\n"
          ],
          "name": "stdout"
        }
      ]
    },
    {
      "cell_type": "code",
      "metadata": {
        "colab": {
          "base_uri": "https://localhost:8080/"
        },
        "id": "_CnOzJYXK5q0",
        "outputId": "e3bca1c7-473f-4217-a9c3-a168cfe08dc4"
      },
      "source": [
        "# case 2\n",
        "pat = re.compile(r\"\\s*(?P<header>[^:]+)\\s*:(?P<value>.*?)\\s*$\")\n",
        "\n",
        "print(pat)"
      ],
      "execution_count": null,
      "outputs": [
        {
          "output_type": "stream",
          "text": [
            "re.compile('\\\\s*(?P<header>[^:]+)\\\\s*:(?P<value>.*?)\\\\s*$')\n"
          ],
          "name": "stdout"
        }
      ]
    },
    {
      "cell_type": "markdown",
      "metadata": {
        "id": "rw7KgdEQLORL"
      },
      "source": [
        "정규 표현식은 왜 쓰는가?\n",
        "\n",
        "https://wikidocs.net/1642"
      ]
    },
    {
      "cell_type": "code",
      "metadata": {
        "colab": {
          "base_uri": "https://localhost:8080/"
        },
        "id": "HIhRWP3NLUUS",
        "outputId": "9c398b72-9ad4-48d7-c08e-d2b540c929b6"
      },
      "source": [
        "data = \"\"\"\n",
        "park 800905-1049118\n",
        "kim  700905-1059119\n",
        "\"\"\"\n",
        "\n",
        "result = []\n",
        "for line in data.split(\"\\n\"):\n",
        "    word_result = []\n",
        "    for word in line.split(\" \"):\n",
        "        if len(word) == 14 and word[:6].isdigit() and word[7:].isdigit():\n",
        "            word = word[:6] + \"-\" + \"*******\"\n",
        "        word_result.append(word)\n",
        "    result.append(\" \".join(word_result))\n",
        "print(\"\\n\".join(result))"
      ],
      "execution_count": null,
      "outputs": [
        {
          "output_type": "stream",
          "text": [
            "\n",
            "park 800905-*******\n",
            "kim  700905-*******\n",
            "\n"
          ],
          "name": "stdout"
        }
      ]
    },
    {
      "cell_type": "code",
      "metadata": {
        "colab": {
          "base_uri": "https://localhost:8080/"
        },
        "id": "NGCIHfNrLWGy",
        "outputId": "096a48d1-0962-4f28-9761-d1365e203440"
      },
      "source": [
        "import re \n",
        "\n",
        "data = \"\"\"\n",
        "park 800905-1049118\n",
        "kim  700905-1059119\n",
        "\"\"\"\n",
        "\n",
        "pat = re.compile(\"(\\d{6})[-]\\d{7}\")\n",
        "print(pat.sub(\"\\g<1>-*******\", data))\n"
      ],
      "execution_count": null,
      "outputs": [
        {
          "output_type": "stream",
          "text": [
            "\n",
            "park 800905-*******\n",
            "kim  700905-*******\n",
            "\n"
          ],
          "name": "stdout"
        }
      ]
    },
    {
      "cell_type": "markdown",
      "metadata": {
        "id": "hIPajklGLW3S"
      },
      "source": [
        "\n",
        "\n",
        "---\n",
        "\n"
      ]
    },
    {
      "cell_type": "markdown",
      "metadata": {
        "id": "K4VgHDGsLdZb"
      },
      "source": [
        "# 다양한 메소드의 활용"
      ]
    },
    {
      "cell_type": "markdown",
      "metadata": {
        "id": "5YFYCHFCLhOC"
      },
      "source": [
        "rjust(width, [fillchar])"
      ]
    },
    {
      "cell_type": "code",
      "metadata": {
        "colab": {
          "base_uri": "https://localhost:8080/"
        },
        "id": "hNWN6M4BLe6k",
        "outputId": "64561e6e-3fea-41ec-f6cf-03099fd6de58"
      },
      "source": [
        "#\"002\"\n",
        "print(\"2\".rjust(3,\"0\"))\n",
        " \n",
        "#\"50000\"\n",
        "print(\"50000\".rjust(5,\"0\"))\n",
        " \n",
        "#\"00123\"\n",
        "print(\"123\".rjust(5,\"0\"))\n",
        " \n",
        "#\"aa123\"\n",
        "print(\"123\".rjust(5,\"a\"))\n"
      ],
      "execution_count": null,
      "outputs": [
        {
          "output_type": "stream",
          "text": [
            "002\n",
            "50000\n",
            "00123\n",
            "aa123\n"
          ],
          "name": "stdout"
        }
      ]
    },
    {
      "cell_type": "markdown",
      "metadata": {
        "id": "NiAt68lzN5Ya"
      },
      "source": [
        "zfill(width)\n"
      ]
    },
    {
      "cell_type": "code",
      "metadata": {
        "colab": {
          "base_uri": "https://localhost:8080/"
        },
        "id": "6lf6DS0XNww0",
        "outputId": "635a665a-0e99-41c3-e7b9-a4b512944199"
      },
      "source": [
        "#\"002\"\n",
        "print(\"2\".zfill(3))\n",
        " \n",
        "#\"50000\"\n",
        "print(\"50000\".zfill(5))\n",
        " \n",
        "#\"00123\"\n",
        "print(\"123\".zfill(5))\n"
      ],
      "execution_count": null,
      "outputs": [
        {
          "output_type": "stream",
          "text": [
            "002\n",
            "50000\n",
            "00123\n"
          ],
          "name": "stdout"
        }
      ]
    },
    {
      "cell_type": "markdown",
      "metadata": {
        "id": "a7dYwEliN8-b"
      },
      "source": [
        "Split\n"
      ]
    },
    {
      "cell_type": "code",
      "metadata": {
        "colab": {
          "base_uri": "https://localhost:8080/"
        },
        "id": "WFkf2xG3N8OU",
        "outputId": "6c1cc290-66ac-411b-a392-c723968c1aac"
      },
      "source": [
        "string_ = \"Hello, I am Jack and I am a data scientist\"\n",
        "print(string_)\n",
        "print(string_[1])\n"
      ],
      "execution_count": null,
      "outputs": [
        {
          "output_type": "stream",
          "text": [
            "Hello, I am Jack and I am a data scientist\n",
            "e\n"
          ],
          "name": "stdout"
        }
      ]
    },
    {
      "cell_type": "code",
      "metadata": {
        "colab": {
          "base_uri": "https://localhost:8080/"
        },
        "id": "iVnB8-BpOCKU",
        "outputId": "c4468e88-77ea-4c36-9d24-96d7211a1ab7"
      },
      "source": [
        "string_list = string_.split(\" \")\n",
        "string_list\n"
      ],
      "execution_count": null,
      "outputs": [
        {
          "output_type": "execute_result",
          "data": {
            "text/plain": [
              "['Hello,', 'I', 'am', 'Jack', 'and', 'I', 'am', 'a', 'data', 'scientist']"
            ]
          },
          "metadata": {
            "tags": []
          },
          "execution_count": 28
        }
      ]
    },
    {
      "cell_type": "code",
      "metadata": {
        "colab": {
          "base_uri": "https://localhost:8080/"
        },
        "id": "xBEknKmsOIBl",
        "outputId": "fbf348b3-0c93-4e25-d41a-fd384980a6e4"
      },
      "source": [
        "string_.startswith('Hello')\n"
      ],
      "execution_count": null,
      "outputs": [
        {
          "output_type": "execute_result",
          "data": {
            "text/plain": [
              "True"
            ]
          },
          "metadata": {
            "tags": []
          },
          "execution_count": 29
        }
      ]
    },
    {
      "cell_type": "code",
      "metadata": {
        "colab": {
          "base_uri": "https://localhost:8080/"
        },
        "id": "hXbGczauOKrD",
        "outputId": "adb71024-af94-42d2-db1c-66352a0e6d59"
      },
      "source": [
        "string_.endswith('scientist')\n"
      ],
      "execution_count": null,
      "outputs": [
        {
          "output_type": "execute_result",
          "data": {
            "text/plain": [
              "True"
            ]
          },
          "metadata": {
            "tags": []
          },
          "execution_count": 30
        }
      ]
    },
    {
      "cell_type": "code",
      "metadata": {
        "colab": {
          "base_uri": "https://localhost:8080/"
        },
        "id": "5l496DQ4OMgk",
        "outputId": "74ce216a-5140-4320-bb33-75a6a242f8e2"
      },
      "source": [
        "string_.endswith('tist')\n"
      ],
      "execution_count": null,
      "outputs": [
        {
          "output_type": "execute_result",
          "data": {
            "text/plain": [
              "True"
            ]
          },
          "metadata": {
            "tags": []
          },
          "execution_count": 31
        }
      ]
    },
    {
      "cell_type": "code",
      "metadata": {
        "colab": {
          "base_uri": "https://localhost:8080/"
        },
        "id": "CmyhmALGOOD7",
        "outputId": "f582bd69-cc6e-45f3-9292-e930fdabc27f"
      },
      "source": [
        "print(string_.replace(\"Jack\", \"John\"))\n",
        "print(string_)\n"
      ],
      "execution_count": null,
      "outputs": [
        {
          "output_type": "stream",
          "text": [
            "Hello, I am John and I am a data scientist\n",
            "Hello, I am Jack and I am a data scientist\n"
          ],
          "name": "stdout"
        }
      ]
    },
    {
      "cell_type": "markdown",
      "metadata": {
        "id": "0ah5MaGLORrM"
      },
      "source": [
        "얕은 복사(copy())\n"
      ]
    },
    {
      "cell_type": "code",
      "metadata": {
        "colab": {
          "base_uri": "https://localhost:8080/"
        },
        "id": "aZ7SlumGOS3r",
        "outputId": "bcc63ee4-6b69-4d60-a1ac-3592a74997fb"
      },
      "source": [
        "fruits = {\"apple\", \"banana\", \"cherry\"}\n",
        "fruits_copy = fruits.copy()\n",
        "fruits_copy\n"
      ],
      "execution_count": null,
      "outputs": [
        {
          "output_type": "execute_result",
          "data": {
            "text/plain": [
              "{'apple', 'banana', 'cherry'}"
            ]
          },
          "metadata": {
            "tags": []
          },
          "execution_count": 33
        }
      ]
    },
    {
      "cell_type": "code",
      "metadata": {
        "colab": {
          "base_uri": "https://localhost:8080/"
        },
        "id": "ptXOBU9GOVy0",
        "outputId": "d747f635-9950-498a-e238-880754b15815"
      },
      "source": [
        "a = {'a': 5, 'b': 4, 'c': 8}\n",
        "b = a\n",
        "del b['a']\n",
        "print(b)\n",
        "print(a)\n"
      ],
      "execution_count": null,
      "outputs": [
        {
          "output_type": "stream",
          "text": [
            "{'b': 4, 'c': 8}\n",
            "{'b': 4, 'c': 8}\n"
          ],
          "name": "stdout"
        }
      ]
    },
    {
      "cell_type": "code",
      "metadata": {
        "colab": {
          "base_uri": "https://localhost:8080/"
        },
        "id": "2Ni4TEWBOfx2",
        "outputId": "ad539456-b37f-402c-e2d7-ddbd54a0feda"
      },
      "source": [
        "a = {'a': 5, 'b': 4, 'c': 8}\n",
        "b = a.copy()\n",
        "del b['a']\n",
        "print(b)\n",
        "print(a)\n"
      ],
      "execution_count": null,
      "outputs": [
        {
          "output_type": "stream",
          "text": [
            "{'b': 4, 'c': 8}\n",
            "{'a': 5, 'b': 4, 'c': 8}\n"
          ],
          "name": "stdout"
        }
      ]
    },
    {
      "cell_type": "markdown",
      "metadata": {
        "id": "Wibk8sZOO0uO"
      },
      "source": [
        "깊은 복사(deep copy)\n",
        "\n",
        "깊은 복사는 내부에 객체들까지 새롭게 copy 되는 것이다.\n",
        "\n",
        "완전히 새로운 변수를 만드는 것이라고 볼 수 있다.\n",
        "\n"
      ]
    },
    {
      "cell_type": "code",
      "metadata": {
        "colab": {
          "base_uri": "https://localhost:8080/"
        },
        "id": "Oe5aYx1IO3ur",
        "outputId": "74057181-8677-425e-c50d-4a0273f28873"
      },
      "source": [
        "import copy\n",
        "list_var = [[1,2],[3,4]]\n",
        "list_var_deepcopy = copy.deepcopy(list_var)\n",
        "list_var_copy = list_var.copy()\n",
        "\n",
        "list_var[1].append(5)\n",
        "\n",
        "print(list_var)  # 원래 변수\n",
        "\n",
        "print(list_var_deepcopy)  # deepcopy : append와 같은 메소드를 써도 값이 변경되지 않음\n",
        "\n",
        "print(list_var_copy)  # copy : 원본이 변경되었으므로 함께 변경됨\n"
      ],
      "execution_count": null,
      "outputs": [
        {
          "output_type": "stream",
          "text": [
            "[[1, 2], [3, 4, 5]]\n",
            "[[1, 2], [3, 4]]\n",
            "[[1, 2], [3, 4, 5]]\n"
          ],
          "name": "stdout"
        }
      ]
    },
    {
      "cell_type": "markdown",
      "metadata": {
        "id": "i6jXtEIhytK7"
      },
      "source": [
        "# 반복문과 조건문"
      ]
    },
    {
      "cell_type": "code",
      "metadata": {
        "colab": {
          "base_uri": "https://localhost:8080/"
        },
        "id": "imDk4iFpyzE8",
        "outputId": "bf6f8d8f-a284-4fd3-b449-6f960ebd8ec1"
      },
      "source": [
        "# case 1\n",
        "data = [90, 45, 32, 44]\n",
        "for i in range(len(data)):\n",
        "   print(data[i]) # 90, 45, 32, 44\n"
      ],
      "execution_count": null,
      "outputs": [
        {
          "output_type": "stream",
          "text": [
            "90\n",
            "45\n",
            "32\n",
            "44\n"
          ],
          "name": "stdout"
        }
      ]
    },
    {
      "cell_type": "code",
      "metadata": {
        "colab": {
          "base_uri": "https://localhost:8080/"
        },
        "id": "edX-tvnAy2-u",
        "outputId": "571b5dce-08a2-441a-ab9b-c444932b7f10"
      },
      "source": [
        "# case 2\n",
        "mock_data = {\n",
        "  \"id\": 1,\n",
        "  \"first_name\": \"states\",\n",
        "  \"last_name\": \"code\",\n",
        "  \"email\": \"code@states.com\",\n",
        "  \"gender\": \"Female\",\n",
        "  \"ip_address\": \"123.123.123.23\"\n",
        "}\n",
        "\n",
        "for x in mock_data:\n",
        "    print(x) # id, first_name, last_name, email, gender, ip_address\n"
      ],
      "execution_count": null,
      "outputs": [
        {
          "output_type": "stream",
          "text": [
            "id\n",
            "first_name\n",
            "last_name\n",
            "email\n",
            "gender\n",
            "ip_address\n"
          ],
          "name": "stdout"
        }
      ]
    },
    {
      "cell_type": "code",
      "metadata": {
        "colab": {
          "base_uri": "https://localhost:8080/"
        },
        "id": "Tu_sgxN7y-i0",
        "outputId": "521d0c82-17f5-4986-d108-6fff853a50d1"
      },
      "source": [
        "# case 3\n",
        "mock_data = {\n",
        "  \"id\": 1,\n",
        "  \"first_name\": \"states\",\n",
        "  \"last_name\": \"code\",\n",
        "  \"email\": \"code@states.com\",\n",
        "  \"gender\": \"Female\",\n",
        "  \"ip_address\": \"123.123.123.23\"\n",
        "}\n",
        "\n",
        "for x in mock_data.keys():\n",
        "    print(x)\n"
      ],
      "execution_count": null,
      "outputs": [
        {
          "output_type": "stream",
          "text": [
            "id\n",
            "first_name\n",
            "last_name\n",
            "email\n",
            "gender\n",
            "ip_address\n"
          ],
          "name": "stdout"
        }
      ]
    },
    {
      "cell_type": "code",
      "metadata": {
        "colab": {
          "base_uri": "https://localhost:8080/"
        },
        "id": "vo6weStTzBAq",
        "outputId": "6ed51a4b-28bf-437e-e22f-2e30a1c94ed4"
      },
      "source": [
        "# case 4\n",
        "mock_data = {\n",
        "  \"id\": 1,\n",
        "  \"first_name\": \"states\",\n",
        "  \"last_name\": \"code\",\n",
        "  \"email\": \"code@states.com\",\n",
        "  \"gender\": \"Female\",\n",
        "  \"ip_address\": \"123.123.123.23\"\n",
        "}\n",
        "\n",
        "for x in mock_data.values():\n",
        "    print(x)\n"
      ],
      "execution_count": null,
      "outputs": [
        {
          "output_type": "stream",
          "text": [
            "1\n",
            "states\n",
            "code\n",
            "code@states.com\n",
            "Female\n",
            "123.123.123.23\n"
          ],
          "name": "stdout"
        }
      ]
    },
    {
      "cell_type": "code",
      "metadata": {
        "colab": {
          "base_uri": "https://localhost:8080/"
        },
        "id": "rIi0a1VozDEb",
        "outputId": "77bf52a8-b979-4ea6-9ae2-a0bd52b81a11"
      },
      "source": [
        "# case 5 \n",
        "mock_data = {\n",
        "  \"id\": 1,\n",
        "  \"first_name\": \"states\",\n",
        "  \"last_name\": \"code\",\n",
        "  \"email\": \"code@states.com\",\n",
        "  \"gender\": \"Female\",\n",
        "  \"ip_address\": \"123.123.123.23\"\n",
        "}\n",
        "\n",
        "for x in mock_data.items():\n",
        "    print(x)\n",
        "\n",
        "print('----------')\n",
        "\n",
        "for k,v in mock_data.items():\n",
        "    print(k,v)\n"
      ],
      "execution_count": null,
      "outputs": [
        {
          "output_type": "stream",
          "text": [
            "('id', 1)\n",
            "('first_name', 'states')\n",
            "('last_name', 'code')\n",
            "('email', 'code@states.com')\n",
            "('gender', 'Female')\n",
            "('ip_address', '123.123.123.23')\n",
            "----------\n",
            "id 1\n",
            "first_name states\n",
            "last_name code\n",
            "email code@states.com\n",
            "gender Female\n",
            "ip_address 123.123.123.23\n"
          ],
          "name": "stdout"
        }
      ]
    },
    {
      "cell_type": "code",
      "metadata": {
        "colab": {
          "base_uri": "https://localhost:8080/"
        },
        "id": "v50VLOJYzNIe",
        "outputId": "2c6cc6a2-0498-4738-cfc1-afffcd20b4be"
      },
      "source": [
        "# 일반적인 반복문 활용\n",
        "a = [1,2,3,4,5]\n",
        "b = [10,20,30,40,50]\n",
        "for i in range(len(a)):\n",
        "   print(a[i],b[i])\n"
      ],
      "execution_count": null,
      "outputs": [
        {
          "output_type": "stream",
          "text": [
            "1 10\n",
            "2 20\n",
            "3 30\n",
            "4 40\n",
            "5 50\n"
          ],
          "name": "stdout"
        }
      ]
    },
    {
      "cell_type": "code",
      "metadata": {
        "colab": {
          "base_uri": "https://localhost:8080/"
        },
        "id": "T5hsBST0zQjz",
        "outputId": "6cc08550-a4f6-4a0a-c8f6-788535a13480"
      },
      "source": [
        "# zip 함수 활용\n",
        "a = [1,2,3,4,5]\n",
        "b = [10,20,30,40,50]\n",
        "c = zip(a,b)\n",
        "print(list(c))\n"
      ],
      "execution_count": null,
      "outputs": [
        {
          "output_type": "stream",
          "text": [
            "[(1, 10), (2, 20), (3, 30), (4, 40), (5, 50)]\n"
          ],
          "name": "stdout"
        }
      ]
    },
    {
      "cell_type": "code",
      "metadata": {
        "colab": {
          "base_uri": "https://localhost:8080/"
        },
        "id": "gXRHs07izTri",
        "outputId": "02b8974c-f60b-40a8-ac66-40937867637d"
      },
      "source": [
        "# 반복문과 zip 활용\n",
        "a = [1,2,3,4,5]\n",
        "b = [10,20,30,40,50]\n",
        "c = [100,200,300,400,500]\n",
        "for x,y,z in zip(a,b,c):\n",
        "   print(x,y,z)\n"
      ],
      "execution_count": null,
      "outputs": [
        {
          "output_type": "stream",
          "text": [
            "1 10 100\n",
            "2 20 200\n",
            "3 30 300\n",
            "4 40 400\n",
            "5 50 500\n"
          ],
          "name": "stdout"
        }
      ]
    },
    {
      "cell_type": "code",
      "metadata": {
        "colab": {
          "base_uri": "https://localhost:8080/"
        },
        "id": "GoBrr7iYzWRm",
        "outputId": "4b475926-f901-4ad3-edff-8c6809cc92b4"
      },
      "source": [
        "# break\n",
        "\n",
        "IntCollection=[0,1,2,3,4,5,6,7]\n",
        "for x in IntCollection:\n",
        "    if(x==3):\n",
        "        break\n",
        "    else:\n",
        "        print(x)\n"
      ],
      "execution_count": null,
      "outputs": [
        {
          "output_type": "stream",
          "text": [
            "0\n",
            "1\n",
            "2\n"
          ],
          "name": "stdout"
        }
      ]
    },
    {
      "cell_type": "code",
      "metadata": {
        "colab": {
          "base_uri": "https://localhost:8080/"
        },
        "id": "o1i42QxHzZjb",
        "outputId": "257a0ade-8842-40f2-8324-69760d936eec"
      },
      "source": [
        "# continue\n",
        "\n",
        "IntCollection=[0,1,2,3,4,5,6,7]\n",
        "for x in IntCollection:\n",
        "    if(x==3):\n",
        "        continue\n",
        "    else:\n",
        "        print(x)\n"
      ],
      "execution_count": null,
      "outputs": [
        {
          "output_type": "stream",
          "text": [
            "0\n",
            "1\n",
            "2\n",
            "4\n",
            "5\n",
            "6\n",
            "7\n"
          ],
          "name": "stdout"
        }
      ]
    },
    {
      "cell_type": "code",
      "metadata": {
        "colab": {
          "base_uri": "https://localhost:8080/"
        },
        "id": "3FPsXZOazfP-",
        "outputId": "46883f75-14f3-4589-a254-d8ece7e52ac8"
      },
      "source": [
        "# 반복문의 다양한 활용\n",
        "list_ = [1,2,3,4,5]\n",
        "\n",
        "def foo(list_):\n",
        "  print(list_)\n",
        "\n",
        "print('foo(list_[i])')\n",
        "for i in range(len(list_)):\n",
        "    foo(list_[i])\n",
        "\n",
        "print('foo(element)')\n",
        "for element in list_:\n",
        "    foo(element)\n"
      ],
      "execution_count": null,
      "outputs": [
        {
          "output_type": "stream",
          "text": [
            "foo(list_[i])\n",
            "1\n",
            "2\n",
            "3\n",
            "4\n",
            "5\n",
            "foo(element)\n",
            "1\n",
            "2\n",
            "3\n",
            "4\n",
            "5\n"
          ],
          "name": "stdout"
        }
      ]
    },
    {
      "cell_type": "markdown",
      "metadata": {
        "id": "DC8adLNnzoeD"
      },
      "source": [
        "# 에러상황 파악"
      ]
    },
    {
      "cell_type": "code",
      "metadata": {
        "colab": {
          "base_uri": "https://localhost:8080/",
          "height": 136
        },
        "id": "K_zEOCHRzp4z",
        "outputId": "53ce5d40-60ce-44e5-b13d-7f5eba87b1c7"
      },
      "source": [
        "# 케이스 1 - IndentationError\n",
        "\n",
        "def print_list(list):\n",
        "for item in list: # 에러 확인 및 해결필요\n",
        "print(item)\n"
      ],
      "execution_count": null,
      "outputs": [
        {
          "output_type": "error",
          "ename": "IndentationError",
          "evalue": "ignored",
          "traceback": [
            "\u001b[0;36m  File \u001b[0;32m\"<ipython-input-55-9e5bcc334641>\"\u001b[0;36m, line \u001b[0;32m4\u001b[0m\n\u001b[0;31m    for item in list: # 에러 확인 및 해결필요\u001b[0m\n\u001b[0m      ^\u001b[0m\n\u001b[0;31mIndentationError\u001b[0m\u001b[0;31m:\u001b[0m expected an indented block\n"
          ]
        }
      ]
    },
    {
      "cell_type": "code",
      "metadata": {
        "colab": {
          "base_uri": "https://localhost:8080/",
          "height": 136
        },
        "id": "ouw1eLoOztRU",
        "outputId": "b4f8b378-48c0-427f-aea7-37b170cad997"
      },
      "source": [
        "# 케이스 2 - SyntaxError\n",
        "\n",
        "123ddf\n"
      ],
      "execution_count": null,
      "outputs": [
        {
          "output_type": "error",
          "ename": "SyntaxError",
          "evalue": "ignored",
          "traceback": [
            "\u001b[0;36m  File \u001b[0;32m\"<ipython-input-56-4e3b401ad3b5>\"\u001b[0;36m, line \u001b[0;32m3\u001b[0m\n\u001b[0;31m    123ddf\u001b[0m\n\u001b[0m         ^\u001b[0m\n\u001b[0;31mSyntaxError\u001b[0m\u001b[0;31m:\u001b[0m invalid syntax\n"
          ]
        }
      ]
    },
    {
      "cell_type": "code",
      "metadata": {
        "colab": {
          "base_uri": "https://localhost:8080/",
          "height": 208
        },
        "id": "TPsuD9Gtzu4z",
        "outputId": "eaae7d49-309c-49d9-dcd2-dd5420638e1b"
      },
      "source": [
        "# 케이스 3 - KeyboardInterrupt\n",
        "\n",
        "while True:\n",
        "  pass\n"
      ],
      "execution_count": null,
      "outputs": [
        {
          "output_type": "error",
          "ename": "KeyboardInterrupt",
          "evalue": "ignored",
          "traceback": [
            "\u001b[0;31m---------------------------------------------------------------------------\u001b[0m",
            "\u001b[0;31mKeyboardInterrupt\u001b[0m                         Traceback (most recent call last)",
            "\u001b[0;32m<ipython-input-57-8b9c5ee2054e>\u001b[0m in \u001b[0;36m<module>\u001b[0;34m()\u001b[0m\n\u001b[1;32m      2\u001b[0m \u001b[0;34m\u001b[0m\u001b[0m\n\u001b[1;32m      3\u001b[0m \u001b[0;32mwhile\u001b[0m \u001b[0;32mTrue\u001b[0m\u001b[0;34m:\u001b[0m\u001b[0;34m\u001b[0m\u001b[0;34m\u001b[0m\u001b[0m\n\u001b[0;32m----> 4\u001b[0;31m   \u001b[0;32mpass\u001b[0m\u001b[0;34m\u001b[0m\u001b[0;34m\u001b[0m\u001b[0m\n\u001b[0m",
            "\u001b[0;31mKeyboardInterrupt\u001b[0m: "
          ]
        }
      ]
    },
    {
      "cell_type": "code",
      "metadata": {
        "colab": {
          "base_uri": "https://localhost:8080/",
          "height": 262
        },
        "id": "U4hdo7iDzxox",
        "outputId": "eba62003-3613-470c-a618-b23b3c98fee5"
      },
      "source": [
        "# 케이스 4 - TypeError\n",
        "\n",
        "print(1) / 232\n",
        "\n",
        "a,b = 0\n",
        "print(a,b)\n"
      ],
      "execution_count": null,
      "outputs": [
        {
          "output_type": "stream",
          "text": [
            "1\n"
          ],
          "name": "stdout"
        },
        {
          "output_type": "error",
          "ename": "TypeError",
          "evalue": "ignored",
          "traceback": [
            "\u001b[0;31m---------------------------------------------------------------------------\u001b[0m",
            "\u001b[0;31mTypeError\u001b[0m                                 Traceback (most recent call last)",
            "\u001b[0;32m<ipython-input-58-1cf932c54eab>\u001b[0m in \u001b[0;36m<module>\u001b[0;34m()\u001b[0m\n\u001b[1;32m      1\u001b[0m \u001b[0;31m# 케이스 4 - TypeError\u001b[0m\u001b[0;34m\u001b[0m\u001b[0;34m\u001b[0m\u001b[0;34m\u001b[0m\u001b[0m\n\u001b[1;32m      2\u001b[0m \u001b[0;34m\u001b[0m\u001b[0m\n\u001b[0;32m----> 3\u001b[0;31m \u001b[0mprint\u001b[0m\u001b[0;34m(\u001b[0m\u001b[0;36m1\u001b[0m\u001b[0;34m)\u001b[0m \u001b[0;34m/\u001b[0m \u001b[0;36m232\u001b[0m\u001b[0;34m\u001b[0m\u001b[0;34m\u001b[0m\u001b[0m\n\u001b[0m\u001b[1;32m      4\u001b[0m \u001b[0;34m\u001b[0m\u001b[0m\n\u001b[1;32m      5\u001b[0m \u001b[0ma\u001b[0m\u001b[0;34m,\u001b[0m\u001b[0mb\u001b[0m \u001b[0;34m=\u001b[0m \u001b[0;36m0\u001b[0m\u001b[0;34m\u001b[0m\u001b[0;34m\u001b[0m\u001b[0m\n",
            "\u001b[0;31mTypeError\u001b[0m: unsupported operand type(s) for /: 'NoneType' and 'int'"
          ]
        }
      ]
    },
    {
      "cell_type": "code",
      "metadata": {
        "id": "GouYcBntzzOJ",
        "colab": {
          "base_uri": "https://localhost:8080/",
          "height": 208
        },
        "outputId": "d2f029e0-a807-4b2a-c4d6-44572bb2b683"
      },
      "source": [
        "# 케이스 5 - ZeroDivisionError\n",
        "\n",
        "value = 2/0\n"
      ],
      "execution_count": null,
      "outputs": [
        {
          "output_type": "error",
          "ename": "ZeroDivisionError",
          "evalue": "ignored",
          "traceback": [
            "\u001b[0;31m---------------------------------------------------------------------------\u001b[0m",
            "\u001b[0;31mZeroDivisionError\u001b[0m                         Traceback (most recent call last)",
            "\u001b[0;32m<ipython-input-59-3213cee69b6c>\u001b[0m in \u001b[0;36m<module>\u001b[0;34m()\u001b[0m\n\u001b[1;32m      1\u001b[0m \u001b[0;31m# 케이스 5 - ZeroDivisionError\u001b[0m\u001b[0;34m\u001b[0m\u001b[0;34m\u001b[0m\u001b[0;34m\u001b[0m\u001b[0m\n\u001b[1;32m      2\u001b[0m \u001b[0;34m\u001b[0m\u001b[0m\n\u001b[0;32m----> 3\u001b[0;31m \u001b[0mvalue\u001b[0m \u001b[0;34m=\u001b[0m \u001b[0;36m2\u001b[0m\u001b[0;34m/\u001b[0m\u001b[0;36m0\u001b[0m\u001b[0;34m\u001b[0m\u001b[0;34m\u001b[0m\u001b[0m\n\u001b[0m",
            "\u001b[0;31mZeroDivisionError\u001b[0m: division by zero"
          ]
        }
      ]
    },
    {
      "cell_type": "code",
      "metadata": {
        "id": "VmprSyd4z0lD",
        "colab": {
          "base_uri": "https://localhost:8080/"
        },
        "outputId": "913cada2-b6aa-45bf-bebd-b12ea0ab16e5"
      },
      "source": [
        "# 케이스 6 - 경고\n",
        "\n",
        "a = 0\n",
        "c =0\n",
        "print(a,c,) # 경고는 명시적으로 보이지 않지만, 메모리 상에 안 좋은 영향을 준다.\n"
      ],
      "execution_count": null,
      "outputs": [
        {
          "output_type": "stream",
          "text": [
            "0 0\n"
          ],
          "name": "stdout"
        }
      ]
    },
    {
      "cell_type": "markdown",
      "metadata": {
        "id": "JmIBnx2N0Hl4"
      },
      "source": [
        "# 컬렉션 자료형의 내장메소드\n"
      ]
    },
    {
      "cell_type": "markdown",
      "metadata": {
        "id": "OkXwi_9w0256"
      },
      "source": [
        "append(), extend(), insert()\n",
        "\n"
      ]
    },
    {
      "cell_type": "code",
      "metadata": {
        "colab": {
          "base_uri": "https://localhost:8080/"
        },
        "id": "LxxlP9cH0TGe",
        "outputId": "6d4bcd9d-e88f-42dd-997f-0823b6076cc1"
      },
      "source": [
        "list=[]\n",
        "for i in range(1000, 2200):\n",
        "    if (i%7==0) and (i%5!=0):\n",
        "        list.append(str(i))\n",
        "\n",
        "print(','.join(list))\n"
      ],
      "execution_count": 1,
      "outputs": [
        {
          "output_type": "stream",
          "text": [
            "1001,1008,1022,1029,1036,1043,1057,1064,1071,1078,1092,1099,1106,1113,1127,1134,1141,1148,1162,1169,1176,1183,1197,1204,1211,1218,1232,1239,1246,1253,1267,1274,1281,1288,1302,1309,1316,1323,1337,1344,1351,1358,1372,1379,1386,1393,1407,1414,1421,1428,1442,1449,1456,1463,1477,1484,1491,1498,1512,1519,1526,1533,1547,1554,1561,1568,1582,1589,1596,1603,1617,1624,1631,1638,1652,1659,1666,1673,1687,1694,1701,1708,1722,1729,1736,1743,1757,1764,1771,1778,1792,1799,1806,1813,1827,1834,1841,1848,1862,1869,1876,1883,1897,1904,1911,1918,1932,1939,1946,1953,1967,1974,1981,1988,2002,2009,2016,2023,2037,2044,2051,2058,2072,2079,2086,2093,2107,2114,2121,2128,2142,2149,2156,2163,2177,2184,2191,2198\n"
          ],
          "name": "stdout"
        }
      ]
    },
    {
      "cell_type": "code",
      "metadata": {
        "colab": {
          "base_uri": "https://localhost:8080/"
        },
        "id": "IBSsqeAD0-2o",
        "outputId": "f71c4da9-f523-439e-bee4-5ce655e880d4"
      },
      "source": [
        "list=[]\n",
        "for i in range(1000, 2200):\n",
        "    if (i%7==0) and (i%5!=0):\n",
        "        list.insert(len(list), str(i))\n",
        "\n",
        "print(','.join(list))\n"
      ],
      "execution_count": 2,
      "outputs": [
        {
          "output_type": "stream",
          "text": [
            "1001,1008,1022,1029,1036,1043,1057,1064,1071,1078,1092,1099,1106,1113,1127,1134,1141,1148,1162,1169,1176,1183,1197,1204,1211,1218,1232,1239,1246,1253,1267,1274,1281,1288,1302,1309,1316,1323,1337,1344,1351,1358,1372,1379,1386,1393,1407,1414,1421,1428,1442,1449,1456,1463,1477,1484,1491,1498,1512,1519,1526,1533,1547,1554,1561,1568,1582,1589,1596,1603,1617,1624,1631,1638,1652,1659,1666,1673,1687,1694,1701,1708,1722,1729,1736,1743,1757,1764,1771,1778,1792,1799,1806,1813,1827,1834,1841,1848,1862,1869,1876,1883,1897,1904,1911,1918,1932,1939,1946,1953,1967,1974,1981,1988,2002,2009,2016,2023,2037,2044,2051,2058,2072,2079,2086,2093,2107,2114,2121,2128,2142,2149,2156,2163,2177,2184,2191,2198\n"
          ],
          "name": "stdout"
        }
      ]
    },
    {
      "cell_type": "markdown",
      "metadata": {
        "id": "j_R92YKO1EnH"
      },
      "source": [
        "\n",
        "\n",
        "---\n",
        "\n"
      ]
    },
    {
      "cell_type": "code",
      "metadata": {
        "colab": {
          "base_uri": "https://localhost:8080/"
        },
        "id": "sSc0tczV1FdX",
        "outputId": "55abc28d-efb5-4e1a-b73a-68fbc8cf56a8"
      },
      "source": [
        "words = []\n",
        "while True:\n",
        "    char = input()\n",
        "    if char:\n",
        "        words.append(char.upper())\n",
        "    else:\n",
        "        break;\n",
        "\n",
        "for word in words:\n",
        "    print(word)\n"
      ],
      "execution_count": 4,
      "outputs": [
        {
          "output_type": "stream",
          "text": [
            "무\n",
            "야\n",
            "호\n",
            "mu\n",
            "MU\n",
            "\n",
            "무\n",
            "야\n",
            "호\n",
            "MU\n",
            "MU\n"
          ],
          "name": "stdout"
        }
      ]
    },
    {
      "cell_type": "code",
      "metadata": {
        "colab": {
          "base_uri": "https://localhost:8080/"
        },
        "id": "1yrPeyx81WPe",
        "outputId": "7d413b98-5095-4259-c5cb-b975fada0918"
      },
      "source": [
        "values = []\n",
        "for i in range(100, 300):\n",
        "    char = str(i)\n",
        "\n",
        "    if (int(char[0])%2==0) and (int(char[2])%2==0):\n",
        "        values.append(char)\n",
        "\n",
        "print(\",\".join(values))\n"
      ],
      "execution_count": 5,
      "outputs": [
        {
          "output_type": "stream",
          "text": [
            "200,202,204,206,208,210,212,214,216,218,220,222,224,226,228,230,232,234,236,238,240,242,244,246,248,250,252,254,256,258,260,262,264,266,268,270,272,274,276,278,280,282,284,286,288,290,292,294,296,298\n"
          ],
          "name": "stdout"
        }
      ]
    },
    {
      "cell_type": "markdown",
      "metadata": {
        "id": "8r2dGaiK1tD2"
      },
      "source": [
        "1의자리와 3의자리가 2로 나누어떨어지는 숫자만 조인"
      ]
    },
    {
      "cell_type": "code",
      "metadata": {
        "colab": {
          "base_uri": "https://localhost:8080/"
        },
        "id": "lSwd65bV1xUJ",
        "outputId": "b26e30b2-54b4-4580-ed2e-543fdebd8d34"
      },
      "source": [
        "list_1 = ['bread', 'meat']\n",
        "list_2 = ['Lettuce',2 ,5]\n",
        "list_1.extend(list_2)\n",
        "print('list1: {}, list2: {}'.format(list_1, list_2))\n"
      ],
      "execution_count": 6,
      "outputs": [
        {
          "output_type": "stream",
          "text": [
            "list1: ['bread', 'meat', 'Lettuce', 2, 5], list2: ['Lettuce', 2, 5]\n"
          ],
          "name": "stdout"
        }
      ]
    },
    {
      "cell_type": "markdown",
      "metadata": {
        "id": "MoB2WA2y121m"
      },
      "source": [
        "a.extent(b)\n",
        "\n",
        "a에 bfmf 추가한다"
      ]
    },
    {
      "cell_type": "markdown",
      "metadata": {
        "id": "BFUGd6Ng18ZG"
      },
      "source": [
        "\n",
        "\n",
        "---\n",
        "\n"
      ]
    },
    {
      "cell_type": "markdown",
      "metadata": {
        "id": "uIvVkkpM19Ue"
      },
      "source": [
        "del, remove, pop\n"
      ]
    },
    {
      "cell_type": "code",
      "metadata": {
        "colab": {
          "base_uri": "https://localhost:8080/"
        },
        "id": "nOHOiddT1-UQ",
        "outputId": "52534593-75b1-41ab-8b67-e9a3323b98a4"
      },
      "source": [
        "list1 = [11, 12, 43, 4, 6]\n",
        "for i in list1:\n",
        "    if not i % 2:\n",
        "        list1.remove(i)\n",
        "print(list1)\n"
      ],
      "execution_count": 7,
      "outputs": [
        {
          "output_type": "stream",
          "text": [
            "[11, 43, 6]\n"
          ],
          "name": "stdout"
        }
      ]
    },
    {
      "cell_type": "code",
      "metadata": {
        "colab": {
          "base_uri": "https://localhost:8080/"
        },
        "id": "ujY16YC82B_7",
        "outputId": "a7131d67-ef52-4e3d-83d3-84285d49694e"
      },
      "source": [
        "my_list = [1, 2, 3, 4, 5]\n",
        "my_list[0] = 99\n",
        "print(my_list)\n",
        "\n",
        "del my_list[0]\n",
        "print(my_list)\n"
      ],
      "execution_count": 8,
      "outputs": [
        {
          "output_type": "stream",
          "text": [
            "[99, 2, 3, 4, 5]\n",
            "[2, 3, 4, 5]\n"
          ],
          "name": "stdout"
        }
      ]
    },
    {
      "cell_type": "code",
      "metadata": {
        "colab": {
          "base_uri": "https://localhost:8080/"
        },
        "id": "CE1EytpN2FSD",
        "outputId": "56b47b97-78c4-45e4-f475-21882d26b297"
      },
      "source": [
        "my_list = [1, 2, 3, 4, 5]\n",
        "my_list[0] = 99\n",
        "print(my_list)\n",
        "\n",
        "my_list.pop()\n",
        "print(my_list)\n"
      ],
      "execution_count": 9,
      "outputs": [
        {
          "output_type": "stream",
          "text": [
            "[99, 2, 3, 4, 5]\n",
            "[99, 2, 3, 4]\n"
          ],
          "name": "stdout"
        }
      ]
    },
    {
      "cell_type": "markdown",
      "metadata": {
        "id": "SWf_AmIo2HUS"
      },
      "source": [
        "pop은 제일뒤가 튀어나가는 , del 은 원하는 내역을 삭제"
      ]
    },
    {
      "cell_type": "markdown",
      "metadata": {
        "id": "T7D1vxOI2Rmq"
      },
      "source": [
        "del 과 remove 의 차이는 무엇일까?\n",
        "\n",
        "https://www.codeit.kr/community/threads/2873"
      ]
    },
    {
      "cell_type": "markdown",
      "metadata": {
        "id": "SVFNe4la2Vw_"
      },
      "source": [
        "del a[인덱스] # 리스트 a의 해당 인덱스 원소가 삭제됩니다!\n",
        "\n",
        "a.remove(원소) # 리스트 a의 해당 원소가 삭제됩니다!\n"
      ]
    },
    {
      "cell_type": "markdown",
      "metadata": {
        "id": "hEk8Tq6P2edO"
      },
      "source": [
        "\n",
        "\n",
        "---\n",
        "\n"
      ]
    },
    {
      "cell_type": "markdown",
      "metadata": {
        "id": "DGEvZ8zV2gnJ"
      },
      "source": [
        "count()와 index()\n",
        "\n"
      ]
    },
    {
      "cell_type": "code",
      "metadata": {
        "colab": {
          "base_uri": "https://localhost:8080/"
        },
        "id": "29RUcmWS2gY2",
        "outputId": "07fa9a41-6066-4a33-b4e2-8a43c322ca0e"
      },
      "source": [
        "list = ['xyz', 'XYZ' 'abc', 'ABC']\n",
        "print(\"Index for xyz : \",  list.index( 'xyz' ))\n",
        "print(\"Index for ABC : \",  list.index( 'ABC' ))\n"
      ],
      "execution_count": 10,
      "outputs": [
        {
          "output_type": "stream",
          "text": [
            "Index for xyz :  0\n",
            "Index for ABC :  2\n"
          ],
          "name": "stdout"
        }
      ]
    },
    {
      "cell_type": "code",
      "metadata": {
        "colab": {
          "base_uri": "https://localhost:8080/"
        },
        "id": "Af3YWAxR2qpQ",
        "outputId": "998fbf17-6b14-464e-ab63-35fc7b5ccf89"
      },
      "source": [
        "list = ['xyz', 'XYZ' 'abc', 'ABC']\n",
        "print(\"Count for xyz : \",  list.count( 'xyz' ))\n",
        "print(\"Count for ABC : \",  list.count( 'ABC' ))\n"
      ],
      "execution_count": 11,
      "outputs": [
        {
          "output_type": "stream",
          "text": [
            "Count for xyz :  1\n",
            "Count for ABC :  1\n"
          ],
          "name": "stdout"
        }
      ]
    },
    {
      "cell_type": "markdown",
      "metadata": {
        "id": "POR-gYfz2rrn"
      },
      "source": [
        "인덱스는 위치, 카운트는 수량"
      ]
    },
    {
      "cell_type": "code",
      "metadata": {
        "colab": {
          "base_uri": "https://localhost:8080/"
        },
        "id": "dxYu1yHO2ww-",
        "outputId": "f5b40bce-7223-465f-ebff-c78d37929e61"
      },
      "source": [
        "import math\n",
        "def bin_search(li, element):\n",
        "    bottom = 0\n",
        "    top = len(li)-1\n",
        "    index = -1\n",
        "    while top >= bottom and index == -1:\n",
        "        mid = int(math.floor((top+bottom) / 2.0))\n",
        "        if li[mid] == element:\n",
        "            index = mid\n",
        "        elif li[mid] > element:\n",
        "            top = mid-1\n",
        "        else:\n",
        "            bottom = mid+1\n",
        "\n",
        "    return index\n",
        "\n",
        "li=[2,5,7,9,11,17,222]\n",
        "print(bin_search(li,11))\n",
        "print(bin_search(li,102))\n"
      ],
      "execution_count": 12,
      "outputs": [
        {
          "output_type": "stream",
          "text": [
            "4\n",
            "-1\n"
          ],
          "name": "stdout"
        }
      ]
    },
    {
      "cell_type": "code",
      "metadata": {
        "colab": {
          "base_uri": "https://localhost:8080/"
        },
        "id": "9oXBoh1u3KWA",
        "outputId": "c540efe9-d0c6-435e-eb5d-83a5460a30a8"
      },
      "source": [
        "li = [12,24,35,70,88,120]\n",
        "for (i,x) in enumerate(li):\n",
        "   if i not in (0,3,5):\n",
        "     li = x\n",
        "print(li)\n"
      ],
      "execution_count": 13,
      "outputs": [
        {
          "output_type": "stream",
          "text": [
            "88\n"
          ],
          "name": "stdout"
        }
      ]
    },
    {
      "cell_type": "code",
      "metadata": {
        "colab": {
          "base_uri": "https://localhost:8080/"
        },
        "id": "RB0mbKMw3bkt",
        "outputId": "bd3c3cff-c2f7-4e82-acb3-e56875b28c80"
      },
      "source": [
        "def list_update(list_test):\n",
        "    new_li=[]\n",
        "    new_set = set()\n",
        "    for item in list_test:\n",
        "        if item not in new_set:\n",
        "            new_set.add(item)\n",
        "            new_li.append(item)\n",
        "\n",
        "    return new_li\n",
        "\n",
        "list_test=[120,120,10,20,30,20]\n",
        "print(list_update(list_test))\n"
      ],
      "execution_count": 14,
      "outputs": [
        {
          "output_type": "stream",
          "text": [
            "[120, 10, 20, 30]\n"
          ],
          "name": "stdout"
        }
      ]
    },
    {
      "cell_type": "markdown",
      "metadata": {
        "id": "uY_xwq9G3jcV"
      },
      "source": [
        "sort와 sorted\n"
      ]
    },
    {
      "cell_type": "code",
      "metadata": {
        "id": "ksIaxKt-3j-E"
      },
      "source": [
        "from operator import itemgetter\n",
        "l = []\n",
        "while True:\n",
        "    s = input()\n",
        "    if not s:\n",
        "        break\n",
        "    l.append(tuple(s.split(\",\")))\n",
        "\n",
        "print(sorted(l, key=itemgetter(0,1,2)))\n",
        "\n",
        "# 입력 테스트 시, ('dave', 'B', 10) 처럼 아이템인덱스 채워주기"
      ],
      "execution_count": null,
      "outputs": []
    },
    {
      "cell_type": "markdown",
      "metadata": {
        "id": "HIYL-4CS3xH3"
      },
      "source": [
        "get()\n"
      ]
    },
    {
      "cell_type": "code",
      "metadata": {
        "colab": {
          "base_uri": "https://localhost:8080/"
        },
        "id": "c_QkWzc13ybc",
        "outputId": "052fbcc0-59c8-4baf-f7bb-6c353bc6b501"
      },
      "source": [
        "dic = {}\n",
        "s=input()\n",
        "for s in s:\n",
        "    dic[s] = dic.get(s,0)+1\n",
        "print('\\n'.join(['%s,%s' % (k, v) for k, v in dic.items()]))\n"
      ],
      "execution_count": 19,
      "outputs": [
        {
          "output_type": "stream",
          "text": [
            "무야호 muyaho\n",
            "무,1\n",
            "야,1\n",
            "호,1\n",
            " ,1\n",
            "m,1\n",
            "u,1\n",
            "y,1\n",
            "a,1\n",
            "h,1\n",
            "o,1\n"
          ],
          "name": "stdout"
        }
      ]
    },
    {
      "cell_type": "markdown",
      "metadata": {
        "id": "31ka9LLB4DVA"
      },
      "source": [
        "\n",
        "\n",
        "---\n",
        "\n"
      ]
    },
    {
      "cell_type": "markdown",
      "metadata": {
        "id": "4MGXcjks4Fp_"
      },
      "source": [
        "# Lambda"
      ]
    },
    {
      "cell_type": "markdown",
      "metadata": {
        "id": "CXYJGtFf4MHI"
      },
      "source": [
        "람다 대수는 함수를 단순하게 표현할 수 있도록 하여 '함수의 계산'이라는 개념을 더 깊이 이해할 수 있게 돕는다"
      ]
    },
    {
      "cell_type": "markdown",
      "metadata": {
        "id": "2kBE2U8U4OQf"
      },
      "source": [
        "람다는 인라인으로 작성할 수 있기 때문에 전체 함수보다 읽기 쉽다. 따라서 함수 표현식의 규모가 작을 때 람다를 사용하는 것이 좋다."
      ]
    },
    {
      "cell_type": "code",
      "metadata": {
        "colab": {
          "base_uri": "https://localhost:8080/"
        },
        "id": "pAugfoCW4Ppj",
        "outputId": "3a4123dc-92a8-4106-ad6b-0072effde18b"
      },
      "source": [
        "# 함수정의\n",
        "define_word = (lambda word1,define :  word1 * define)\n",
        "\n",
        "# 함수호출\n",
        "result = define_word('call_result_',5)\n",
        "\n",
        "# 결과출력\n",
        "print(result)\n"
      ],
      "execution_count": 27,
      "outputs": [
        {
          "output_type": "stream",
          "text": [
            "call_result_call_result_call_result_call_result_call_result_\n"
          ],
          "name": "stdout"
        }
      ]
    },
    {
      "cell_type": "code",
      "metadata": {
        "colab": {
          "base_uri": "https://localhost:8080/",
          "height": 226
        },
        "id": "ImPGprEg4Z-A",
        "outputId": "9985e211-ac72-49e0-c566-4d4f7c168ed6"
      },
      "source": [
        "# 리스트 생성\n",
        "spelling = [\"test1\", \"test2\", \"test4 test5\", \"test3\"]\n",
        "\n",
        "# 람다함수적용\n",
        "shout_spells = map(lambda item: item + ('!!!'), spelling)\n",
        "\n",
        "print(shout_spells)\n",
        "\n",
        "# # 리스트형태로 변환\n",
        "# shout_spells_list = list(shout_spells)\n",
        "\n",
        "# 결과출력\n",
        "list(shout_spells)\n"
      ],
      "execution_count": 35,
      "outputs": [
        {
          "output_type": "stream",
          "text": [
            "<map object at 0x7f2c61404cd0>\n"
          ],
          "name": "stdout"
        },
        {
          "output_type": "error",
          "ename": "TypeError",
          "evalue": "ignored",
          "traceback": [
            "\u001b[0;31m---------------------------------------------------------------------------\u001b[0m",
            "\u001b[0;31mTypeError\u001b[0m                                 Traceback (most recent call last)",
            "\u001b[0;32m<ipython-input-35-19c33edca0f4>\u001b[0m in \u001b[0;36m<module>\u001b[0;34m()\u001b[0m\n\u001b[1;32m     11\u001b[0m \u001b[0;34m\u001b[0m\u001b[0m\n\u001b[1;32m     12\u001b[0m \u001b[0;31m# 결과출력\u001b[0m\u001b[0;34m\u001b[0m\u001b[0;34m\u001b[0m\u001b[0;34m\u001b[0m\u001b[0m\n\u001b[0;32m---> 13\u001b[0;31m \u001b[0mlist\u001b[0m\u001b[0;34m(\u001b[0m\u001b[0mshout_spells\u001b[0m\u001b[0;34m)\u001b[0m\u001b[0;34m\u001b[0m\u001b[0;34m\u001b[0m\u001b[0m\n\u001b[0m",
            "\u001b[0;31mTypeError\u001b[0m: 'list' object is not callable"
          ]
        }
      ]
    },
    {
      "cell_type": "code",
      "metadata": {
        "colab": {
          "base_uri": "https://localhost:8080/",
          "height": 244
        },
        "id": "74yt_VC64_yu",
        "outputId": "acf91b3f-e073-46a9-ae1b-b183cdaafc7a"
      },
      "source": [
        "# 리스트 생성\n",
        "fellowship = ['frodo', 'samwise', 'merry', 'pippin', 'aragorn', 'boromir', 'legolas', 'gimli', 'gandalf']\n",
        "\n",
        "# 람다함수적용\n",
        "result = filter(lambda member: len(member) > 6, fellowship)\n",
        "\n",
        "# 리스트형태로 변환\n",
        "result_list = list(result)\n",
        "\n",
        "# 결과출력\n",
        "print(result_list)\n"
      ],
      "execution_count": 24,
      "outputs": [
        {
          "output_type": "error",
          "ename": "TypeError",
          "evalue": "ignored",
          "traceback": [
            "\u001b[0;31m---------------------------------------------------------------------------\u001b[0m",
            "\u001b[0;31mTypeError\u001b[0m                                 Traceback (most recent call last)",
            "\u001b[0;32m<ipython-input-24-7cd791d48a90>\u001b[0m in \u001b[0;36m<module>\u001b[0;34m()\u001b[0m\n\u001b[1;32m      6\u001b[0m \u001b[0;34m\u001b[0m\u001b[0m\n\u001b[1;32m      7\u001b[0m \u001b[0;31m# 리스트형태로 변환\u001b[0m\u001b[0;34m\u001b[0m\u001b[0;34m\u001b[0m\u001b[0;34m\u001b[0m\u001b[0m\n\u001b[0;32m----> 8\u001b[0;31m \u001b[0mresult_list\u001b[0m \u001b[0;34m=\u001b[0m \u001b[0mlist\u001b[0m\u001b[0;34m(\u001b[0m\u001b[0mresult\u001b[0m\u001b[0;34m)\u001b[0m\u001b[0;34m\u001b[0m\u001b[0;34m\u001b[0m\u001b[0m\n\u001b[0m\u001b[1;32m      9\u001b[0m \u001b[0;34m\u001b[0m\u001b[0m\n\u001b[1;32m     10\u001b[0m \u001b[0;31m# 결과출력\u001b[0m\u001b[0;34m\u001b[0m\u001b[0;34m\u001b[0m\u001b[0;34m\u001b[0m\u001b[0m\n",
            "\u001b[0;31mTypeError\u001b[0m: 'list' object is not callable"
          ]
        }
      ]
    },
    {
      "cell_type": "code",
      "metadata": {
        "colab": {
          "base_uri": "https://localhost:8080/"
        },
        "id": "ZX4v61i55B3L",
        "outputId": "7c88f27a-d03b-4eea-ec3f-acb8a797a73c"
      },
      "source": [
        "# functools 모듈 사용\n",
        "from functools import reduce\n",
        "\n",
        "# 리스트 생성\n",
        "stark = ['robb', 'sansa', 'arya', 'brandon', 'rickon']\n",
        "\n",
        "# 람다함수적용\n",
        "result = reduce(lambda item1, item2:  item1+item2, stark)\n",
        "\n",
        "# 결과출력\n",
        "print(result)\n"
      ],
      "execution_count": 36,
      "outputs": [
        {
          "output_type": "stream",
          "text": [
            "robbsansaaryabrandonrickon\n"
          ],
          "name": "stdout"
        }
      ]
    }
  ]
}