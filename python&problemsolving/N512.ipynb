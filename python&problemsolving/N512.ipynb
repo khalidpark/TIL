{
  "nbformat": 4,
  "nbformat_minor": 0,
  "metadata": {
    "colab": {
      "name": "N512.ipynb",
      "provenance": [],
      "collapsed_sections": [],
      "toc_visible": true,
      "authorship_tag": "ABX9TyMLb+yIQikmuYwjx+KfreE4",
      "include_colab_link": true
    },
    "kernelspec": {
      "name": "python3",
      "display_name": "Python 3"
    },
    "language_info": {
      "name": "python"
    }
  },
  "cells": [
    {
      "cell_type": "markdown",
      "metadata": {
        "id": "view-in-github",
        "colab_type": "text"
      },
      "source": [
        "<a href=\"https://colab.research.google.com/github/khalidpark/TIL-and-TIW/blob/main/python%26problemsolving/N512.ipynb\" target=\"_parent\"><img src=\"https://colab.research.google.com/assets/colab-badge.svg\" alt=\"Open In Colab\"/></a>"
      ]
    },
    {
      "cell_type": "markdown",
      "metadata": {
        "id": "-AhDNe9ZibPo"
      },
      "source": [
        "# (파이썬) 프로그래밍\n"
      ]
    },
    {
      "cell_type": "code",
      "metadata": {
        "colab": {
          "base_uri": "https://localhost:8080/"
        },
        "id": "7aRutcgPhIwv",
        "outputId": "0b04ddfa-fdf1-4aee-f70a-4980ddbb0272"
      },
      "source": [
        "# 인트로 문제\n",
        "\n",
        "# 1부터 50까지 숫자 출력하기\n",
        "\n",
        "# case 1 - 반복문\n",
        "# i = [] \n",
        "# for i in range(1,50):\n",
        "#   i =i.append()\n",
        "#   print(i)\n",
        "\n",
        "# case 2 - 컴프리헨션\n",
        "[i for i in range(1,51)]"
      ],
      "execution_count": null,
      "outputs": [
        {
          "output_type": "execute_result",
          "data": {
            "text/plain": [
              "[1,\n",
              " 2,\n",
              " 3,\n",
              " 4,\n",
              " 5,\n",
              " 6,\n",
              " 7,\n",
              " 8,\n",
              " 9,\n",
              " 10,\n",
              " 11,\n",
              " 12,\n",
              " 13,\n",
              " 14,\n",
              " 15,\n",
              " 16,\n",
              " 17,\n",
              " 18,\n",
              " 19,\n",
              " 20,\n",
              " 21,\n",
              " 22,\n",
              " 23,\n",
              " 24,\n",
              " 25,\n",
              " 26,\n",
              " 27,\n",
              " 28,\n",
              " 29,\n",
              " 30,\n",
              " 31,\n",
              " 32,\n",
              " 33,\n",
              " 34,\n",
              " 35,\n",
              " 36,\n",
              " 37,\n",
              " 38,\n",
              " 39,\n",
              " 40,\n",
              " 41,\n",
              " 42,\n",
              " 43,\n",
              " 44,\n",
              " 45,\n",
              " 46,\n",
              " 47,\n",
              " 48,\n",
              " 49,\n",
              " 50]"
            ]
          },
          "metadata": {
            "tags": []
          },
          "execution_count": 9
        }
      ]
    },
    {
      "cell_type": "code",
      "metadata": {
        "colab": {
          "base_uri": "https://localhost:8080/"
        },
        "id": "QppDN5ItiCxo",
        "outputId": "91046433-2e39-4ce4-9454-de32f47c4858"
      },
      "source": [
        "# 3과 5의 공배수 구하기\n",
        "\n",
        "# case 1\n",
        "for i in range(1,51):\n",
        "  if i%3==0 and i%5==0:\n",
        "    print(i)\n",
        "\n",
        "# case 2\n",
        "[i for i in range(1,51) if i%3==0 and i%5==0]\n"
      ],
      "execution_count": null,
      "outputs": [
        {
          "output_type": "stream",
          "text": [
            "15\n",
            "30\n",
            "45\n"
          ],
          "name": "stdout"
        },
        {
          "output_type": "execute_result",
          "data": {
            "text/plain": [
              "[15, 30, 45]"
            ]
          },
          "metadata": {
            "tags": []
          },
          "execution_count": 11
        }
      ]
    },
    {
      "cell_type": "code",
      "metadata": {
        "colab": {
          "base_uri": "https://localhost:8080/"
        },
        "id": "sVR_ctFWiIzY",
        "outputId": "7152ab88-af00-4adf-c15a-c3dfc4804eae"
      },
      "source": [
        "# 2부터 20까지 출력하기(단, 8을 제외하시오)\n",
        "\n",
        "for i in range(2,21):\n",
        "  if i == 8:\n",
        "    print()\n",
        "    continue\n",
        "  print(i , end= ' ')\n"
      ],
      "execution_count": null,
      "outputs": [
        {
          "output_type": "stream",
          "text": [
            "2 3 4 5 6 7 \n",
            "9 10 11 12 13 14 15 16 17 18 19 20 "
          ],
          "name": "stdout"
        }
      ]
    },
    {
      "cell_type": "markdown",
      "metadata": {
        "id": "QLBwRXJbiZ0-"
      },
      "source": [
        "# 의사코드"
      ]
    },
    {
      "cell_type": "code",
      "metadata": {
        "id": "NVyJkKpoigg_"
      },
      "source": [
        "# 의사코드 예시1\n",
        "\n",
        "function divis\n",
        "For반복문 (i = 1부터 i<=100까지, 반복할때마다 i값 1씩 증가) \n",
        "{\n",
        "    If i가 3으로 나눠지는 경우,\n",
        "        print 3으로 나눠진다.\n",
        "    If i is divisible by 5\n",
        "        print 5로 나눠진다.\n",
        "    If print_number, print i.\n",
        "    print 줄바꿈.\n",
        "}\n"
      ],
      "execution_count": null,
      "outputs": []
    },
    {
      "cell_type": "code",
      "metadata": {
        "colab": {
          "base_uri": "https://localhost:8080/"
        },
        "id": "9UKL6UhXiixw",
        "outputId": "f8656a8c-9b29-4910-9cd9-f4de1fbdbc25"
      },
      "source": [
        "# 의사코드 예시2에 대한 실제 실행되는 코드\n",
        "\n",
        "def div():\n",
        "  for i in range(0,10):\n",
        "    if i % 3 == 0: # i를 3으로 나눴을 때 나머지가 0인 경우\n",
        "      print('숫자',i, '=>','3으로 나눠짐')\n",
        "    elif i % 5 == 0: # i를 5로 나눴을 때 나머지가 0인 경우\n",
        "      print('숫자',i, '=>','5로 나눠짐')\n",
        "    # if i % 5 == 0: # i를 5로 나눴을 때 나머지가 0인 경우\n",
        "    #   print('숫자',i, '=>','5로 나눠짐')\n",
        "    else: \n",
        "      print('그외',i, '=>','숫자 3과 5로 나눠지지 않음')\n",
        "    \n",
        "div()\n"
      ],
      "execution_count": null,
      "outputs": [
        {
          "output_type": "stream",
          "text": [
            "숫자 0 => 3으로 나눠짐\n",
            "그외 1 => 숫자 3과 5로 나눠지지 않음\n",
            "그외 2 => 숫자 3과 5로 나눠지지 않음\n",
            "숫자 3 => 3으로 나눠짐\n",
            "그외 4 => 숫자 3과 5로 나눠지지 않음\n",
            "숫자 5 => 5로 나눠짐\n",
            "숫자 6 => 3으로 나눠짐\n",
            "그외 7 => 숫자 3과 5로 나눠지지 않음\n",
            "그외 8 => 숫자 3과 5로 나눠지지 않음\n",
            "숫자 9 => 3으로 나눠짐\n"
          ],
          "name": "stdout"
        }
      ]
    },
    {
      "cell_type": "markdown",
      "metadata": {
        "id": "fdukOx1ginQR"
      },
      "source": [
        "# 컴프리헨션(comprehension)\n"
      ]
    },
    {
      "cell_type": "code",
      "metadata": {
        "colab": {
          "base_uri": "https://localhost:8080/"
        },
        "id": "_eviAc0VnCgQ",
        "outputId": "2c97e999-9cf3-4703-cf66-a459b4cf26cb"
      },
      "source": [
        "numbers = [1, 2, 3, 4]\n",
        "squares = []\n",
        "\n",
        "for n in numbers:\n",
        "  squares.append(n**2)\n",
        "\n",
        "print(squares) \n"
      ],
      "execution_count": null,
      "outputs": [
        {
          "output_type": "stream",
          "text": [
            "[1, 4, 9, 16]\n"
          ],
          "name": "stdout"
        }
      ]
    },
    {
      "cell_type": "code",
      "metadata": {
        "colab": {
          "base_uri": "https://localhost:8080/"
        },
        "id": "MeC092h9nE1H",
        "outputId": "4687d98d-9be6-4d40-9747-977482008e8c"
      },
      "source": [
        "numbers = [1, 2, 3, 4]\n",
        "squares = [n**2 for n in numbers]\n",
        "\n",
        "print(squares) \n"
      ],
      "execution_count": null,
      "outputs": [
        {
          "output_type": "stream",
          "text": [
            "[1, 4, 9, 16]\n"
          ],
          "name": "stdout"
        }
      ]
    },
    {
      "cell_type": "markdown",
      "metadata": {
        "id": "4qdaLUrpnPWB"
      },
      "source": [
        "\n",
        "\n",
        "---\n",
        "\n"
      ]
    },
    {
      "cell_type": "code",
      "metadata": {
        "colab": {
          "base_uri": "https://localhost:8080/"
        },
        "id": "8sm7ezi-nHrv",
        "outputId": "5b289acd-b85f-4b54-eabb-25073e453e7d"
      },
      "source": [
        "list_a = [1, 2, 3, 4]\n",
        "list_b = [2, 3, 4, 5]\n",
        "\n",
        "common_num = []\n",
        "\n",
        "for a in list_a:\n",
        "  for b in list_b:\n",
        "    if a == b:\n",
        "      common_num.append(a)\n",
        "      \n",
        "print(common_num)\n"
      ],
      "execution_count": null,
      "outputs": [
        {
          "output_type": "stream",
          "text": [
            "[2, 3, 4]\n"
          ],
          "name": "stdout"
        }
      ]
    },
    {
      "cell_type": "code",
      "metadata": {
        "colab": {
          "base_uri": "https://localhost:8080/"
        },
        "id": "o3Y49zATnOw3",
        "outputId": "956f28d1-a66f-4130-9ba4-116bba01eb2c"
      },
      "source": [
        "list_a = [1, 2, 3, 4]\n",
        "list_b = [2, 3, 4, 5]\n",
        "\n",
        "common_num = [a for a in list_a for b in list_b if a == b]\n",
        "\n",
        "print(common_num)\n"
      ],
      "execution_count": null,
      "outputs": [
        {
          "output_type": "stream",
          "text": [
            "[2, 3, 4]\n"
          ],
          "name": "stdout"
        }
      ]
    },
    {
      "cell_type": "code",
      "metadata": {
        "colab": {
          "base_uri": "https://localhost:8080/"
        },
        "id": "ZLhFf4BVnRBX",
        "outputId": "5900d4aa-cadd-452e-a22b-4e52e6594e4f"
      },
      "source": [
        "# 딕셔너리 컴프리헨션\n",
        "\n",
        "test = {'A': 5, 'B': 7, 'C': 9, 'D': 6, 'E': 10} \n",
        "\n",
        "test = {na:test for na,test in test.items() if na != 'E'}\n",
        "print(test)\n"
      ],
      "execution_count": null,
      "outputs": [
        {
          "output_type": "stream",
          "text": [
            "{'A': 5, 'B': 7, 'C': 9, 'D': 6}\n"
          ],
          "name": "stdout"
        }
      ]
    },
    {
      "cell_type": "code",
      "metadata": {
        "colab": {
          "base_uri": "https://localhost:8080/",
          "height": 226
        },
        "id": "4D9BgEow1lpP",
        "outputId": "df93f460-437c-47a0-892c-c31d15688c78"
      },
      "source": [
        "# 아래와 같이 조건을 반복문 대신 조건을 먼저 쓸 수 있다.\n",
        "# 조건을 위해 if를 사용하는 경우 else를 작성해줘야된다.\n",
        "\n",
        "pas = {name: 'PASS' if numbers > 8 else 'NO PASS' for name, numbers in numbers.items()}\n",
        "print(pas)\n"
      ],
      "execution_count": null,
      "outputs": [
        {
          "output_type": "error",
          "ename": "AttributeError",
          "evalue": "ignored",
          "traceback": [
            "\u001b[0;31m---------------------------------------------------------------------------\u001b[0m",
            "\u001b[0;31mAttributeError\u001b[0m                            Traceback (most recent call last)",
            "\u001b[0;32m<ipython-input-19-2f364fe42488>\u001b[0m in \u001b[0;36m<module>\u001b[0;34m()\u001b[0m\n\u001b[1;32m      2\u001b[0m \u001b[0;31m# 조건을 위해 if를 사용하는 경우 else를 작성해줘야된다.\u001b[0m\u001b[0;34m\u001b[0m\u001b[0;34m\u001b[0m\u001b[0;34m\u001b[0m\u001b[0m\n\u001b[1;32m      3\u001b[0m \u001b[0;34m\u001b[0m\u001b[0m\n\u001b[0;32m----> 4\u001b[0;31m \u001b[0mpas\u001b[0m \u001b[0;34m=\u001b[0m \u001b[0;34m{\u001b[0m\u001b[0mname\u001b[0m\u001b[0;34m:\u001b[0m \u001b[0;34m'PASS'\u001b[0m \u001b[0;32mif\u001b[0m \u001b[0mnumbers\u001b[0m \u001b[0;34m>\u001b[0m \u001b[0;36m8\u001b[0m \u001b[0;32melse\u001b[0m \u001b[0;34m'NO PASS'\u001b[0m \u001b[0;32mfor\u001b[0m \u001b[0mname\u001b[0m\u001b[0;34m,\u001b[0m \u001b[0mnumbers\u001b[0m \u001b[0;32min\u001b[0m \u001b[0mnumbers\u001b[0m\u001b[0;34m.\u001b[0m\u001b[0mitems\u001b[0m\u001b[0;34m(\u001b[0m\u001b[0;34m)\u001b[0m\u001b[0;34m}\u001b[0m\u001b[0;34m\u001b[0m\u001b[0;34m\u001b[0m\u001b[0m\n\u001b[0m\u001b[1;32m      5\u001b[0m \u001b[0mprint\u001b[0m\u001b[0;34m(\u001b[0m\u001b[0mpas\u001b[0m\u001b[0;34m)\u001b[0m\u001b[0;34m\u001b[0m\u001b[0;34m\u001b[0m\u001b[0m\n",
            "\u001b[0;31mAttributeError\u001b[0m: 'list' object has no attribute 'items'"
          ]
        }
      ]
    },
    {
      "cell_type": "code",
      "metadata": {
        "colab": {
          "base_uri": "https://localhost:8080/"
        },
        "id": "W643datF1xzm",
        "outputId": "100d588e-c1c3-4d5c-891d-35c702f90532"
      },
      "source": [
        "# 아래처럼 반복문을 연속으로 작성가능하다.\n",
        "# set은 특성상 중복값을 제외한다.\n",
        "\n",
        "print('list for loop : ',[n for n in range(1, 5+1) for n in range(1, 5+1)])\n",
        "\n",
        "print('set for loop : ',{n for n in range(1, 5+1) for n in range(1, 5+1)})\n"
      ],
      "execution_count": null,
      "outputs": [
        {
          "output_type": "stream",
          "text": [
            "list for loop :  [1, 2, 3, 4, 5, 1, 2, 3, 4, 5, 1, 2, 3, 4, 5, 1, 2, 3, 4, 5, 1, 2, 3, 4, 5]\n",
            "set for loop :  {1, 2, 3, 4, 5}\n"
          ],
          "name": "stdout"
        }
      ]
    },
    {
      "cell_type": "code",
      "metadata": {
        "colab": {
          "base_uri": "https://localhost:8080/"
        },
        "id": "YuPpRRad1974",
        "outputId": "02399c64-8708-499e-de70-144c5f2d501b"
      },
      "source": [
        "# 두개의 리스트를 하나의 딕셔너리로 합침. \n",
        "# 하나는 key, 또 다른 하나는 value로 사용한다\n",
        "subjects = ['math', 'history', 'english', 'computer engineering']\n",
        "scores = [90, 80, 95, 100]\n",
        "score_dict = {key: value for key, value in zip(subjects, scores)}\n",
        "print(score_dict)\n",
        "\n",
        "# 튜플 리스트를 딕셔너리 형태로 변환\n",
        "score_tuples = [('math', 90), ('history', 80), ('english', 95), ('computer engineering', 100)]\n",
        "score_dict = {t[0]: t[1] for t in score_tuples}\n",
        "print(score_dict)\n"
      ],
      "execution_count": null,
      "outputs": [
        {
          "output_type": "stream",
          "text": [
            "{'math': 90, 'history': 80, 'english': 95, 'computer engineering': 100}\n",
            "{'math': 90, 'history': 80, 'english': 95, 'computer engineering': 100}\n"
          ],
          "name": "stdout"
        }
      ]
    },
    {
      "cell_type": "markdown",
      "metadata": {
        "id": "s-zu68hK2bCP"
      },
      "source": [
        "# 지역변수와 전역변수"
      ]
    },
    {
      "cell_type": "code",
      "metadata": {
        "colab": {
          "base_uri": "https://localhost:8080/"
        },
        "id": "Dsajfw0o2e5Q",
        "outputId": "c04cf97d-28f0-49a8-bf3f-244b403c511d"
      },
      "source": [
        "# 아래 소스코드를 한 줄씩 실행하면서 지역변수와 전역변수에 대해 파악한다.\n",
        "\n",
        "g_var = 'g_var'   # 전역변수\n",
        "\n",
        "  \n",
        "# 값 수정후(수정값)\n",
        "def variables():\n",
        "  \n",
        "  global glo_var  # global 전역변수\n",
        "  glo_var = 'glo_var' # global 전역변수에 새로운 값 할당\n",
        "  lo_var = 'lo_var'   # 지역변수\n",
        "\n",
        "  print()\n",
        "  print('(값 수정후)함수 안에서 g_var(전역변수) : ', g_var)  # 수정되지 않고 초기값을 출력함\n",
        "  print('(값 수정후)함수 안에서 glo_var(global 전역변수) : ', glo_var)  # 함수에서 수정된 후 값을 출력함\n",
        "  print('함수 안에서 lo_var(지역변수) : ', lo_var)    # 특정 함수에서만 출력되는 지역변수\n",
        "\n",
        "# 전역변수를 파라미터로 담은 함수\n",
        "def second_variables(glo_var,g_var):\n",
        "  glo_var = 'glo_var in second_variables()'\n",
        "  g_var = 'g_var in second_variables()'\n",
        "  lo_var = 'second lo_var'\n",
        "  print('서로 다른 함수에서 지역변수이름이 같은 경우 :',lo_var)\n",
        "  \n",
        "  return glo_var,g_var\n",
        "  \n",
        "# 값 수정전(초기값)\n",
        "g_var = 'g_var_new_value'\n",
        "glo_var = 'glo_var_new_value'\n",
        "print('(값 수정전)함수 밖에서 g_var(전역변수) : ', g_var)  \n",
        "print('(값 수정전)함수 밖에서 glo_var(global 전역변수) : ', glo_var) # 새로 할당된 값으로 수정됨\n",
        "# print('함수 밖에서 lo_var(지역변수) : ', lo_var) # 특정 함수 안에서만 사용하는 지역변수이므로 출력안됨\n",
        "\n",
        "# 전역변수의 값 수정\n",
        "#print('함수의 파라미터가 전역변수인 경우 :', second_variables(glo_var, g_var))\n",
        "\n",
        "# 지역변수를 갖고 오는 경우\n",
        "#print('함수의 파라미터가 지역변수인 경우 :', second_variables(glo_var, lo_var))\n",
        "\n",
        "# 함수에서 수정된 전역변수 재호출\n",
        "print('전역변수값 :',glo_var, g_var)\n",
        "\n",
        "variables()\n"
      ],
      "execution_count": null,
      "outputs": [
        {
          "output_type": "stream",
          "text": [
            "(값 수정전)함수 밖에서 g_var(전역변수) :  g_var_new_value\n",
            "(값 수정전)함수 밖에서 glo_var(global 전역변수) :  glo_var_new_value\n",
            "전역변수값 : glo_var_new_value g_var_new_value\n",
            "\n",
            "(값 수정후)함수 안에서 g_var(전역변수) :  g_var_new_value\n",
            "(값 수정후)함수 안에서 glo_var(global 전역변수) :  glo_var\n",
            "함수 안에서 lo_var(지역변수) :  lo_var\n"
          ],
          "name": "stdout"
        }
      ]
    },
    {
      "cell_type": "markdown",
      "metadata": {
        "id": "-2qIEbZx7wVA"
      },
      "source": [
        "# 구문 및 예외상황"
      ]
    },
    {
      "cell_type": "markdown",
      "metadata": {
        "id": "G-RhND9z-wEP"
      },
      "source": [
        "파이썬에서는 루프가 반복 수행하는 내부 구문 바로 다음에 if 없이도 else 구문을 추가할 수 있다."
      ]
    },
    {
      "cell_type": "markdown",
      "metadata": {
        "id": "3yIKxz_l-16W"
      },
      "source": [
        "if/else 구문에서 else는 '앞의 구문이 수행되지 않으면 else구문을 수행하시오' 라는 뜻이다.\n",
        "\n"
      ]
    },
    {
      "cell_type": "code",
      "metadata": {
        "id": "UyD9-p8f7ygZ",
        "colab": {
          "base_uri": "https://localhost:8080/"
        },
        "outputId": "d62f7fbb-b5ea-412f-cafe-4df2b8b1e109"
      },
      "source": [
        "for i in range(3):\n",
        "  print('loop : ', i) # 1) 루프반복수행\n",
        "else : \n",
        "  print('Else statement') # 2) else 구문 추가수행\n"
      ],
      "execution_count": 1,
      "outputs": [
        {
          "output_type": "stream",
          "text": [
            "loop :  0\n",
            "loop :  1\n",
            "loop :  2\n",
            "Else statement\n"
          ],
          "name": "stdout"
        }
      ]
    },
    {
      "cell_type": "markdown",
      "metadata": {
        "id": "bD4DoeXn-3fw"
      },
      "source": [
        "try/except 구문 또한 이 구문 앞의 try 구문을 수행하다가 예외발생 시, except 구문을 수행하시오' 라는 뜻이다.\n",
        "\n"
      ]
    },
    {
      "cell_type": "code",
      "metadata": {
        "colab": {
          "base_uri": "https://localhost:8080/"
        },
        "id": "Px0xMa-H-3Sz",
        "outputId": "a810e677-6f14-4b80-d94e-1cd94dcda8f6"
      },
      "source": [
        "# 그렇다면 break문이 있다면?\n",
        "for i in range(3):\n",
        "  print('loop : ', i) # 1) 루프반복수행\n",
        "  if i == 1:\n",
        "    break     # break는 어떤 영향을 줄 것인가?\n",
        "else : \n",
        "  print('Else statement') # 2) else 구문 추가수행\n"
      ],
      "execution_count": 2,
      "outputs": [
        {
          "output_type": "stream",
          "text": [
            "loop :  0\n",
            "loop :  1\n"
          ],
          "name": "stdout"
        }
      ]
    },
    {
      "cell_type": "code",
      "metadata": {
        "colab": {
          "base_uri": "https://localhost:8080/"
        },
        "id": "Calyc3uv-8Nv",
        "outputId": "ce575541-765c-4165-847e-6bc0653e6e07"
      },
      "source": [
        "# 반복문에 빈 리스트를 넣으면 어떻게 될까?\n",
        "for i in []:\n",
        "  print('loop : ', i) # 1) 루프반복수행\n",
        "else : \n",
        "  print('Else statement') # 2) else 구문 추가수행\n"
      ],
      "execution_count": 3,
      "outputs": [
        {
          "output_type": "stream",
          "text": [
            "Else statement\n"
          ],
          "name": "stdout"
        }
      ]
    },
    {
      "cell_type": "code",
      "metadata": {
        "colab": {
          "base_uri": "https://localhost:8080/"
        },
        "id": "MzSMCS5--_qY",
        "outputId": "e0701f28-ca92-43c2-f9ad-b7ef6433b94b"
      },
      "source": [
        "# 반복문이 while 형태로 False인 경우에는 어떨까?\n",
        "while False:\n",
        "  print('loop : ', i) # 1) 루프반복수행\n",
        "else : \n",
        "  print('Else statement') # 2) else 구문 추가수행\n"
      ],
      "execution_count": 4,
      "outputs": [
        {
          "output_type": "stream",
          "text": [
            "Else statement\n"
          ],
          "name": "stdout"
        }
      ]
    },
    {
      "cell_type": "code",
      "metadata": {
        "colab": {
          "base_uri": "https://localhost:8080/"
        },
        "id": "lYZhdHFv_EiI",
        "outputId": "d2fec849-0120-40a9-8e04-91013e496192"
      },
      "source": [
        "# 서로소 판별문제\n",
        "p_a = 5\n",
        "p_b = 3\n",
        "\n",
        "for i in range(2, min(p_a, p_b) +1):    \n",
        "  print('testing ....', i)\n",
        "\n",
        "  if p_a % i == 0 and p_b % i == 0:\n",
        "    print('서로소가 아닙니다.')\n",
        "    break\n",
        "\n",
        "else:\n",
        "  print('서로소입니다.')\n"
      ],
      "execution_count": 5,
      "outputs": [
        {
          "output_type": "stream",
          "text": [
            "testing .... 2\n",
            "testing .... 3\n",
            "서로소입니다.\n"
          ],
          "name": "stdout"
        }
      ]
    },
    {
      "cell_type": "markdown",
      "metadata": {
        "id": "DDbi5TH4_Qo_"
      },
      "source": [
        "자세히보기 : 반복문 다음에 else가 나오는 것은 좋지 않으므로 다른 해결법을 보자.\n",
        "\n",
        "반복문 이후, else를 사용하는 경우 대부분의 else가 즉시 실행된다.\n",
        "\n",
        "루프에서 break를 활용해야지만 else 실행을 막을 수 있다."
      ]
    },
    {
      "cell_type": "code",
      "metadata": {
        "colab": {
          "base_uri": "https://localhost:8080/"
        },
        "id": "Icbzloon_SW4",
        "outputId": "a1deca5c-6aad-43f9-e15e-4d6b154defdd"
      },
      "source": [
        "# else의 안 좋은 활용예시1\n",
        "\n",
        "for i in []:\n",
        "  print('실행안됨')\n",
        "\n",
        "else:\n",
        "  print('실행되면 안됨')"
      ],
      "execution_count": 6,
      "outputs": [
        {
          "output_type": "stream",
          "text": [
            "실행되면 안됨\n"
          ],
          "name": "stdout"
        }
      ]
    },
    {
      "cell_type": "code",
      "metadata": {
        "colab": {
          "base_uri": "https://localhost:8080/"
        },
        "id": "8aKS9q9p_U3m",
        "outputId": "3e49e316-dde8-45e5-a6f0-966436b5badb"
      },
      "source": [
        "# else의 안 좋은 활용예시2\n",
        "\n",
        "while False:\n",
        "    print('실행안됨')\n",
        "  \n",
        "else:\n",
        "    print('실행되면 안됨')"
      ],
      "execution_count": 7,
      "outputs": [
        {
          "output_type": "stream",
          "text": [
            "실행되면 안됨\n"
          ],
          "name": "stdout"
        }
      ]
    },
    {
      "cell_type": "markdown",
      "metadata": {
        "id": "PshyGauR_XOT"
      },
      "source": [
        "위처럼 else의 활용이 되었던 이유는 else가 반복문이후에 예외사항을 확인시켜줄 수 있었기때문이다.\n",
        "\n",
        "그래서 아래와 같이 함수와 assert를 활용하여 else의 무분별한 활용을 줄일 수 있다.\n",
        "\n"
      ]
    },
    {
      "cell_type": "code",
      "metadata": {
        "colab": {
          "base_uri": "https://localhost:8080/"
        },
        "id": "ECX2-IFN_YYe",
        "outputId": "53f9c851-9f27-4fb6-f59f-8570e3ffbc3a"
      },
      "source": [
        "# 첫번째방법. 조건에 맞는 경우, 함수에서 부울값을 반환해주는 방법\n",
        "def bool_return(v1, v2):\n",
        "  for i in range(2, min(v1, v2) +1):\n",
        "    if v1 % i == 0 and v2 % i == 0:\n",
        "      return False\n",
        "  return True\n",
        "\n",
        "# 조건점검\n",
        "#assert bool_return(4,9), '서로소입니다.'\n",
        "#assert bool_return(3,6), '코드 점검 메시지입니다.'\n",
        "assert not bool_return(3,6), '서로소 아닙니다.'\n",
        "\n",
        "print('bool_return:',bool_return(4,9))    # 디폴트값 반환\n"
      ],
      "execution_count": 8,
      "outputs": [
        {
          "output_type": "stream",
          "text": [
            "bool_return: True\n"
          ],
          "name": "stdout"
        }
      ]
    },
    {
      "cell_type": "markdown",
      "metadata": {
        "id": "6HCe92p8_onL"
      },
      "source": [
        "assert '조건', '에러메시지' : 조건이 맞지 않는 경우, 에러메시지(Assertion Error)를 띄워준다.\n",
        "\n",
        "assert()는 방어적 프로그래밍(defensive programming) 방법 중 하나이며, 코드를 점검하는데 사용된다.\n"
      ]
    },
    {
      "cell_type": "code",
      "metadata": {
        "colab": {
          "base_uri": "https://localhost:8080/"
        },
        "id": "nAFvYIQL_s7m",
        "outputId": "34365260-5a0e-43e3-b783-31f315300297"
      },
      "source": [
        "# 두번째방법. 조건에 맞는 경우, 함수에서 결과값 변수를 반환해주고 break로 빠져나온다.\n",
        "def variable_return(p_a, p_b):\n",
        "  is_variable = True\n",
        "  for i in range(2, min(p_a, p_b) +1):\n",
        "    if p_a % i == 0 and p_b % i == 0:\n",
        "      is_variable = False\n",
        "      break\n",
        "  return is_variable\n",
        "\n",
        "# 조건점검\n",
        "assert variable_return(4,9), '서로소입니다.'\n",
        "#assert variable_return(3,6), '코드 점검 메시지입니다2.'\n",
        "assert not variable_return(3,6), '서로소 아닙니다.'\n",
        "\n",
        "print('variable_return:',variable_return(4,9))    # 변수값 반환\n"
      ],
      "execution_count": 9,
      "outputs": [
        {
          "output_type": "stream",
          "text": [
            "variable_return: True\n"
          ],
          "name": "stdout"
        }
      ]
    },
    {
      "cell_type": "markdown",
      "metadata": {
        "id": "Sy9kdNUHApdn"
      },
      "source": [
        "try / except / raise / finally 구문\n",
        "\n"
      ]
    },
    {
      "cell_type": "code",
      "metadata": {
        "colab": {
          "base_uri": "https://localhost:8080/"
        },
        "id": "Vdat8NDxAqRg",
        "outputId": "193b503a-7781-430c-8e0c-f11986bd6503"
      },
      "source": [
        "# try / except\n",
        "try:\n",
        "  print(3/0)\n",
        "except:\n",
        "  print('except case')\n"
      ],
      "execution_count": 10,
      "outputs": [
        {
          "output_type": "stream",
          "text": [
            "except case\n"
          ],
          "name": "stdout"
        }
      ]
    },
    {
      "cell_type": "code",
      "metadata": {
        "colab": {
          "base_uri": "https://localhost:8080/"
        },
        "id": "1Q_QnXImAtRX",
        "outputId": "c37c0223-4a03-422f-9e75-19df39ee35c1"
      },
      "source": [
        "# try / except\n",
        "try:\n",
        "  print(5/0)\n",
        "except ZeroDivisionError:\n",
        "  print('except case ZeroDivisionError')\n"
      ],
      "execution_count": 11,
      "outputs": [
        {
          "output_type": "stream",
          "text": [
            "except case ZeroDivisionError\n"
          ],
          "name": "stdout"
        }
      ]
    },
    {
      "cell_type": "code",
      "metadata": {
        "colab": {
          "base_uri": "https://localhost:8080/"
        },
        "id": "oiwy12fyAx_y",
        "outputId": "ceab5717-b8b9-4efe-96cc-7147b20d6d9b"
      },
      "source": [
        "# try / except\n",
        "try:\n",
        "  print(7/0)\n",
        "except ZeroDivisionError as e:\n",
        "  print(e)\n"
      ],
      "execution_count": 12,
      "outputs": [
        {
          "output_type": "stream",
          "text": [
            "division by zero\n"
          ],
          "name": "stdout"
        }
      ]
    },
    {
      "cell_type": "code",
      "metadata": {
        "colab": {
          "base_uri": "https://localhost:8080/"
        },
        "id": "RUAGZ0ZcA01X",
        "outputId": "1fc8f3ff-8101-4184-f79f-2b43d2b4e6eb"
      },
      "source": [
        "# try / except / else\n",
        "try:\n",
        "  print(3/1)\n",
        "except:\n",
        "  print('except case')\n",
        "else:\n",
        "  print('else case')\n"
      ],
      "execution_count": 13,
      "outputs": [
        {
          "output_type": "stream",
          "text": [
            "3.0\n",
            "else case\n"
          ],
          "name": "stdout"
        }
      ]
    },
    {
      "cell_type": "code",
      "metadata": {
        "colab": {
          "base_uri": "https://localhost:8080/"
        },
        "id": "Ako7jDR3A5JI",
        "outputId": "0924b4bd-01e2-4fa6-e88e-480e1d9bad1a"
      },
      "source": [
        "# try / except / finally\n",
        "try:\n",
        "  print(5/0)\n",
        "except:\n",
        "  print('except case')\n",
        "finally:\n",
        "  print('finally case')\n"
      ],
      "execution_count": 14,
      "outputs": [
        {
          "output_type": "stream",
          "text": [
            "except case\n",
            "finally case\n"
          ],
          "name": "stdout"
        }
      ]
    },
    {
      "cell_type": "code",
      "metadata": {
        "colab": {
          "base_uri": "https://localhost:8080/"
        },
        "id": "7ruCe2ElA72F",
        "outputId": "feac590c-a495-4f07-fbaf-0809551f36d5"
      },
      "source": [
        "# try / except / finally\n",
        "try:\n",
        "  print(5/0)\n",
        "  print(\"try test\")\n",
        "except NameError as n:\n",
        "  print(n)\n",
        "except ZeroDivisionError as z:\n",
        "  print(z)\n",
        "  pass\n"
      ],
      "execution_count": 18,
      "outputs": [
        {
          "output_type": "stream",
          "text": [
            "division by zero\n"
          ],
          "name": "stdout"
        }
      ]
    },
    {
      "cell_type": "code",
      "metadata": {
        "colab": {
          "base_uri": "https://localhost:8080/"
        },
        "id": "ZbM9X7s4CJ2H",
        "outputId": "dbbd1783-2335-4d4c-f3f9-9aedc7c3586e"
      },
      "source": [
        "# try / raise / except\n",
        "try:\n",
        "  print('try test')\n",
        "  test = int(input())\n",
        "  if test < 0:\n",
        "    raise NotImplementedError   # 예외사항에 대해 처리하는 raise!\n",
        "  print('test2 : ',test) \n",
        "\n",
        "except NotImplementedError:\n",
        "  print('NotImplemented Error')\n"
      ],
      "execution_count": 20,
      "outputs": [
        {
          "output_type": "stream",
          "text": [
            "try test\n",
            "30\n",
            "test2 :  30\n"
          ],
          "name": "stdout"
        }
      ]
    },
    {
      "cell_type": "markdown",
      "metadata": {
        "id": "i1Ul38v-CRv4"
      },
      "source": [
        "None을 return하고 전달받아 활용하게 되는 경우 오류가 발생할 수 있다.\n",
        "\n"
      ]
    },
    {
      "cell_type": "code",
      "metadata": {
        "colab": {
          "base_uri": "https://localhost:8080/",
          "height": 244
        },
        "id": "I4OE-TWUC5Vi",
        "outputId": "08a76ec6-5183-4d4e-baa7-0893832d2686"
      },
      "source": [
        "# None을 return 하는 경우\n",
        "\n",
        "def none_test(num1, num2):\n",
        "    try:\n",
        "        return num1 / num2\n",
        "    except ZeroDivisionError:\n",
        "        return None       # None 반환\n",
        "\n",
        "# 문제없음, 단순히 None이 있는지 없는지 판단함\n",
        "# result = none_test(0,2)\n",
        "# print(result)\n",
        "if result is None:\n",
        "    print('result is None')\n",
        "\n",
        "# 문제발생\n",
        "result = none_test(0, 2)\n",
        "print(result)\n",
        "# 조건식에서 not을 활용하는 경우, 파이썬에서는 None, 빈문자열, 빈리스트, 0을 모두 False로 판단한다\n",
        "# 단순히 결과값이 0인데도 not result 조건으로 인해 False 처리된다.\n",
        "# if not result:              \n",
        "#     print('not result')\n"
      ],
      "execution_count": 21,
      "outputs": [
        {
          "output_type": "error",
          "ename": "NameError",
          "evalue": "ignored",
          "traceback": [
            "\u001b[0;31m---------------------------------------------------------------------------\u001b[0m",
            "\u001b[0;31mNameError\u001b[0m                                 Traceback (most recent call last)",
            "\u001b[0;32m<ipython-input-21-8afc3d1294b5>\u001b[0m in \u001b[0;36m<module>\u001b[0;34m()\u001b[0m\n\u001b[1;32m     10\u001b[0m \u001b[0;31m# result = none_test(0,2)\u001b[0m\u001b[0;34m\u001b[0m\u001b[0;34m\u001b[0m\u001b[0;34m\u001b[0m\u001b[0m\n\u001b[1;32m     11\u001b[0m \u001b[0;31m# print(result)\u001b[0m\u001b[0;34m\u001b[0m\u001b[0;34m\u001b[0m\u001b[0;34m\u001b[0m\u001b[0m\n\u001b[0;32m---> 12\u001b[0;31m \u001b[0;32mif\u001b[0m \u001b[0mresult\u001b[0m \u001b[0;32mis\u001b[0m \u001b[0;32mNone\u001b[0m\u001b[0;34m:\u001b[0m\u001b[0;34m\u001b[0m\u001b[0;34m\u001b[0m\u001b[0m\n\u001b[0m\u001b[1;32m     13\u001b[0m     \u001b[0mprint\u001b[0m\u001b[0;34m(\u001b[0m\u001b[0;34m'result is None'\u001b[0m\u001b[0;34m)\u001b[0m\u001b[0;34m\u001b[0m\u001b[0;34m\u001b[0m\u001b[0m\n\u001b[1;32m     14\u001b[0m \u001b[0;34m\u001b[0m\u001b[0m\n",
            "\u001b[0;31mNameError\u001b[0m: name 'result' is not defined"
          ]
        }
      ]
    },
    {
      "cell_type": "code",
      "metadata": {
        "colab": {
          "base_uri": "https://localhost:8080/",
          "height": 136
        },
        "id": "1pVORqUNC9k2",
        "outputId": "459ab9a1-b1ac-4140-abe0-18f81d73a11c"
      },
      "source": [
        "# None을 return 하지 않는다.\n",
        "\n",
        "def not_none_return(num1, num2):\n",
        "  try:\n",
        "    return num1 / num2\n",
        "  except ZeroDivisionError as z:\n",
        "    raise ValueError('숫자 입력값이 잘못된 경우') from z  \n",
        "  else:\n",
        "    print(result)\n",
        "\n",
        "try:\n",
        "    #result = not_none_return(2, 0) # case 1 - 정상적으로 except 처리\n",
        "    #result = not_none_return(0, 2) # case 2 - 값 반환\n",
        "except ValueError:\n",
        "    print('숫자 입력값이 잘못된 경우')  # None을 반환하는 대신 예외를 발생시킨다.\n",
        "else:\n",
        "    print(result)\n"
      ],
      "execution_count": 22,
      "outputs": [
        {
          "output_type": "error",
          "ename": "IndentationError",
          "evalue": "ignored",
          "traceback": [
            "\u001b[0;36m  File \u001b[0;32m\"<ipython-input-22-bc4418797cd9>\"\u001b[0;36m, line \u001b[0;32m14\u001b[0m\n\u001b[0;31m    except ValueError:\u001b[0m\n\u001b[0m         ^\u001b[0m\n\u001b[0;31mIndentationError\u001b[0m\u001b[0;31m:\u001b[0m expected an indented block\n"
          ]
        }
      ]
    }
  ]
}